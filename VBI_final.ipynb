{
 "cells": [
  {
   "cell_type": "markdown",
   "id": "a91f53f1",
   "metadata": {},
   "source": [
    "# Comparing Different Existing Built-up Indices with VBI\n",
    "\n",
    "1. <a href=\"https://www.mdpi.com/2072-4292/4/10/2957\">EBBI (2012)</a> \n",
    "2. <a href=\"https://www.tandfonline.com/doi/full/10.1080/01431160802039957\">IBI (2008)</a>\n",
    "3. <a href=\"https://www.tandfonline.com/doi/abs/10.1080/2150704X.2014.973996\">BBI (2014)</a>\n",
    "4. <a href=\"https://link.springer.com/article/10.1007/s12517-020-06183-z\"> IBUI (2020)</a>\n",
    "5. <a href=\"https://www.sciencedirect.com/science/article/pii/S2667010022001251\">Comparison of different indices (2022)</a>\n",
    "6. <a href=\"\">BAEI (2015)</a>\n",
    "7. <a href=\"\">NBAI (2012)</a>\n",
    "8. <a href=\"\">BRBA (2012)</a>\n",
    "9. <a href=\"\">MBI (2014)</a>\n",
    "10. <a href=\"\">NBI (2010)</a>\n",
    "11. <a href=\"\">NDBI (2002)</a>\n",
    "12. <a href=\"\">UI (1996)</a>\n",
    "13. <a href=\"\">BI (2008)</a>\n",
    "14. <a href=\"\">BSI (2018)</a>\n",
    "15. <a href=\"\">NDTI (2019)</a>"
   ]
  },
  {
   "cell_type": "code",
   "execution_count": 1,
   "id": "1f484b17-815f-4624-8013-d7b4b94158f9",
   "metadata": {},
   "outputs": [],
   "source": [
    "import geemap\n",
    "import geopandas as gpd\n",
    "import pandas as pd\n",
    "import matplotlib.pyplot as plt\n",
    "from pytoc import TOC, TOC_painter\n",
    "import seaborn as sns\n",
    "import scipy.stats as stats\n",
    "import itertools\n",
    "import os\n",
    "import ee\n",
    "from PIL import Image\n",
    "import scikit_posthocs as sp"
   ]
  },
  {
   "cell_type": "markdown",
   "id": "1910a360-a8bb-4f73-86bc-e705618cf313",
   "metadata": {},
   "source": [
    "## 1. Data Preprocessing"
   ]
  },
  {
   "cell_type": "code",
   "execution_count": 23,
   "id": "d185ce87-f07d-4b91-a637-9c75872b558e",
   "metadata": {},
   "outputs": [
    {
     "data": {
      "text/html": [
       "\n",
       "            <style>\n",
       "                .geemap-dark {\n",
       "                    --jp-widgets-color: white;\n",
       "                    --jp-widgets-label-color: white;\n",
       "                    --jp-ui-font-color1: white;\n",
       "                    --jp-layout-color2: #454545;\n",
       "                    background-color: #383838;\n",
       "                }\n",
       "\n",
       "                .geemap-dark .jupyter-button {\n",
       "                    --jp-layout-color3: #383838;\n",
       "                }\n",
       "\n",
       "                .geemap-colab {\n",
       "                    background-color: var(--colab-primary-surface-color, white);\n",
       "                }\n",
       "\n",
       "                .geemap-colab .jupyter-button {\n",
       "                    --jp-layout-color3: var(--colab-primary-surface-color, white);\n",
       "                }\n",
       "            </style>\n",
       "            "
      ],
      "text/plain": [
       "<IPython.core.display.HTML object>"
      ]
     },
     "metadata": {},
     "output_type": "display_data"
    },
    {
     "data": {
      "application/vnd.jupyter.widget-view+json": {
       "model_id": "816344e8098c4e8baf6f9add5b435daa",
       "version_major": 2,
       "version_minor": 0
      },
      "text/plain": [
       "Map(center=[-31.4192, -64.19], controls=(WidgetControl(options=['position', 'transparent_bg'], widget=SearchDa…"
      ]
     },
     "execution_count": 23,
     "metadata": {},
     "output_type": "execute_result"
    }
   ],
   "source": [
    "# Initialize \n",
    "m = geemap.Map(center=[-31.4192, -64.19], zoom=11)\n",
    "m"
   ]
  },
  {
   "cell_type": "code",
   "execution_count": 9,
   "id": "29259d5a-e867-42ee-943a-beb1015541f3",
   "metadata": {
    "scrolled": true
   },
   "outputs": [
    {
     "data": {
      "text/html": [
       "\n",
       "            <style>\n",
       "                .geemap-dark {\n",
       "                    --jp-widgets-color: white;\n",
       "                    --jp-widgets-label-color: white;\n",
       "                    --jp-ui-font-color1: white;\n",
       "                    --jp-layout-color2: #454545;\n",
       "                    background-color: #383838;\n",
       "                }\n",
       "\n",
       "                .geemap-dark .jupyter-button {\n",
       "                    --jp-layout-color3: #383838;\n",
       "                }\n",
       "\n",
       "                .geemap-colab {\n",
       "                    background-color: var(--colab-primary-surface-color, white);\n",
       "                }\n",
       "\n",
       "                .geemap-colab .jupyter-button {\n",
       "                    --jp-layout-color3: var(--colab-primary-surface-color, white);\n",
       "                }\n",
       "            </style>\n",
       "            "
      ],
      "text/plain": [
       "<IPython.core.display.HTML object>"
      ]
     },
     "metadata": {},
     "output_type": "display_data"
    }
   ],
   "source": [
    "# get current working path\n",
    "cwp = os.getcwd()"
   ]
  },
  {
   "cell_type": "code",
   "execution_count": 8,
   "id": "dc0bb6fe-ee2f-4bae-a6e3-613fb3ee90be",
   "metadata": {},
   "outputs": [
    {
     "data": {
      "text/html": [
       "\n",
       "            <style>\n",
       "                .geemap-dark {\n",
       "                    --jp-widgets-color: white;\n",
       "                    --jp-widgets-label-color: white;\n",
       "                    --jp-ui-font-color1: white;\n",
       "                    --jp-layout-color2: #454545;\n",
       "                    background-color: #383838;\n",
       "                }\n",
       "\n",
       "                .geemap-dark .jupyter-button {\n",
       "                    --jp-layout-color3: #383838;\n",
       "                }\n",
       "\n",
       "                .geemap-colab {\n",
       "                    background-color: var(--colab-primary-surface-color, white);\n",
       "                }\n",
       "\n",
       "                .geemap-colab .jupyter-button {\n",
       "                    --jp-layout-color3: var(--colab-primary-surface-color, white);\n",
       "                }\n",
       "            </style>\n",
       "            "
      ],
      "text/plain": [
       "<IPython.core.display.HTML object>"
      ]
     },
     "metadata": {},
     "output_type": "display_data"
    }
   ],
   "source": [
    "# m.draw_features\n",
    "# Load the data\n",
    "roi_shp = cwp + \"/data/cordoba_roi_20241204.shp\"\n",
    "roi = geemap.shp_to_ee(roi_shp)\n",
    "\n",
    "# sample_shp = cwp + \"/data/650sample_refine_20241123.shp\"\n",
    "sample_shp = cwp + \"/data/20250205_615sample_allbands.shp\"\n",
    "samples = geemap.shp_to_ee(sample_shp)\n",
    "\n",
    "m.addLayer(samples, {'color': 'red'}, \"samples\")\n",
    "m.addLayer(roi, {}, \"roi\", 0)"
   ]
  },
  {
   "cell_type": "code",
   "execution_count": 13,
   "id": "06064c96-afc3-41af-95cf-cc417fbe4740",
   "metadata": {},
   "outputs": [
    {
     "data": {
      "text/html": [
       "\n",
       "            <style>\n",
       "                .geemap-dark {\n",
       "                    --jp-widgets-color: white;\n",
       "                    --jp-widgets-label-color: white;\n",
       "                    --jp-ui-font-color1: white;\n",
       "                    --jp-layout-color2: #454545;\n",
       "                    background-color: #383838;\n",
       "                }\n",
       "\n",
       "                .geemap-dark .jupyter-button {\n",
       "                    --jp-layout-color3: #383838;\n",
       "                }\n",
       "\n",
       "                .geemap-colab {\n",
       "                    background-color: var(--colab-primary-surface-color, white);\n",
       "                }\n",
       "\n",
       "                .geemap-colab .jupyter-button {\n",
       "                    --jp-layout-color3: var(--colab-primary-surface-color, white);\n",
       "                }\n",
       "            </style>\n",
       "            "
      ],
      "text/plain": [
       "<IPython.core.display.HTML object>"
      ]
     },
     "metadata": {},
     "output_type": "display_data"
    }
   ],
   "source": [
    "# This way helps you to draw the region of interest on the map\n",
    "# roi = ee.FeatureCollection(m.draw_features)\n",
    "# m.addLayer(roi,{}, \"roi\")"
   ]
  },
  {
   "cell_type": "code",
   "execution_count": 10,
   "id": "208e192f-ab33-45a8-b777-543e0274049a",
   "metadata": {},
   "outputs": [
    {
     "data": {
      "text/html": [
       "\n",
       "            <style>\n",
       "                .geemap-dark {\n",
       "                    --jp-widgets-color: white;\n",
       "                    --jp-widgets-label-color: white;\n",
       "                    --jp-ui-font-color1: white;\n",
       "                    --jp-layout-color2: #454545;\n",
       "                    background-color: #383838;\n",
       "                }\n",
       "\n",
       "                .geemap-dark .jupyter-button {\n",
       "                    --jp-layout-color3: #383838;\n",
       "                }\n",
       "\n",
       "                .geemap-colab {\n",
       "                    background-color: var(--colab-primary-surface-color, white);\n",
       "                }\n",
       "\n",
       "                .geemap-colab .jupyter-button {\n",
       "                    --jp-layout-color3: var(--colab-primary-surface-color, white);\n",
       "                }\n",
       "            </style>\n",
       "            "
      ],
      "text/plain": [
       "<IPython.core.display.HTML object>"
      ]
     },
     "metadata": {},
     "output_type": "display_data"
    }
   ],
   "source": [
    "# Add Sentinel-2 to the map\n",
    "image = (\n",
    "    ee.ImageCollection(\"COPERNICUS/S2_SR_HARMONIZED\")\n",
    "    .filterBounds(roi)\n",
    "    .filterDate(\"2024-01-23\", \"2024-01-25\")\n",
    "    .first()\n",
    "    .clip(roi)\n",
    "    .divide(10000)\n",
    ")\n",
    "\n",
    "vis_params_s2 = {\"min\": 0.005, \"max\": 0.205, \"bands\": [\"B4\", \"B3\", \"B2\"]}\n",
    "m.addLayer(image, vis_params_s2, \"Sentinel-2\")"
   ]
  },
  {
   "cell_type": "code",
   "execution_count": 31,
   "id": "4dcc4ded-d98b-4c13-843d-4e979c446b84",
   "metadata": {},
   "outputs": [
    {
     "data": {
      "text/html": [
       "\n",
       "            <style>\n",
       "                .geemap-dark {\n",
       "                    --jp-widgets-color: white;\n",
       "                    --jp-widgets-label-color: white;\n",
       "                    --jp-ui-font-color1: white;\n",
       "                    --jp-layout-color2: #454545;\n",
       "                    background-color: #383838;\n",
       "                }\n",
       "\n",
       "                .geemap-dark .jupyter-button {\n",
       "                    --jp-layout-color3: #383838;\n",
       "                }\n",
       "\n",
       "                .geemap-colab {\n",
       "                    background-color: var(--colab-primary-surface-color, white);\n",
       "                }\n",
       "\n",
       "                .geemap-colab .jupyter-button {\n",
       "                    --jp-layout-color3: var(--colab-primary-surface-color, white);\n",
       "                }\n",
       "            </style>\n",
       "            "
      ],
      "text/plain": [
       "<IPython.core.display.HTML object>"
      ]
     },
     "metadata": {},
     "output_type": "display_data"
    }
   ],
   "source": [
    "# create NDBI\n",
    "NDBI = image.normalizedDifference([\"B12\", \"B8\"])\n",
    "m.addLayer(NDBI, {'palette': ['#000000', '#FFFFFF'], 'min': -1, 'max': 1}, 'NDBI')"
   ]
  },
  {
   "cell_type": "code",
   "execution_count": 12,
   "id": "921ab73a-e569-4e9f-8e68-c2a14571cd97",
   "metadata": {},
   "outputs": [
    {
     "data": {
      "text/html": [
       "\n",
       "            <style>\n",
       "                .geemap-dark {\n",
       "                    --jp-widgets-color: white;\n",
       "                    --jp-widgets-label-color: white;\n",
       "                    --jp-ui-font-color1: white;\n",
       "                    --jp-layout-color2: #454545;\n",
       "                    background-color: #383838;\n",
       "                }\n",
       "\n",
       "                .geemap-dark .jupyter-button {\n",
       "                    --jp-layout-color3: #383838;\n",
       "                }\n",
       "\n",
       "                .geemap-colab {\n",
       "                    background-color: var(--colab-primary-surface-color, white);\n",
       "                }\n",
       "\n",
       "                .geemap-colab .jupyter-button {\n",
       "                    --jp-layout-color3: var(--colab-primary-surface-color, white);\n",
       "                }\n",
       "            </style>\n",
       "            "
      ],
      "text/plain": [
       "<IPython.core.display.HTML object>"
      ]
     },
     "metadata": {},
     "output_type": "display_data"
    }
   ],
   "source": [
    "# create BU\n",
    "NDVI = image.normalizedDifference([\"B8\", \"B4\"])\n",
    "BU = NDBI.subtract(NDVI).divide(2)\n",
    "m.addLayer(BU, {'palette': ['#000000', '#FFFFFF'], 'min': -1, 'max': 1}, 'BU')"
   ]
  },
  {
   "cell_type": "code",
   "execution_count": 24,
   "id": "a799f458-5909-47fb-9dc8-0712800a5253",
   "metadata": {},
   "outputs": [
    {
     "data": {
      "text/html": [
       "\n",
       "            <style>\n",
       "                .geemap-dark {\n",
       "                    --jp-widgets-color: white;\n",
       "                    --jp-widgets-label-color: white;\n",
       "                    --jp-ui-font-color1: white;\n",
       "                    --jp-layout-color2: #454545;\n",
       "                    background-color: #383838;\n",
       "                }\n",
       "\n",
       "                .geemap-dark .jupyter-button {\n",
       "                    --jp-layout-color3: #383838;\n",
       "                }\n",
       "\n",
       "                .geemap-colab {\n",
       "                    background-color: var(--colab-primary-surface-color, white);\n",
       "                }\n",
       "\n",
       "                .geemap-colab .jupyter-button {\n",
       "                    --jp-layout-color3: var(--colab-primary-surface-color, white);\n",
       "                }\n",
       "            </style>\n",
       "            "
      ],
      "text/plain": [
       "<IPython.core.display.HTML object>"
      ]
     },
     "metadata": {},
     "output_type": "display_data"
    }
   ],
   "source": [
    "# create VBI\n",
    "RGB = image.select('B4', 'B3', 'B2')\n",
    "HSV = RGB.rgbToHsv()\n",
    "VBI = HSV.normalizedDifference([\"value\", \"saturation\"])\n",
    "m.addLayer(VBI, {'palette': ['#000000', '#FFFFFF'], 'min': -1, 'max': 1}, 'VBI')"
   ]
  },
  {
   "cell_type": "code",
   "execution_count": 16,
   "id": "3f7e871f-0eab-4435-a962-2d89d076ea28",
   "metadata": {},
   "outputs": [
    {
     "data": {
      "text/html": [
       "\n",
       "            <style>\n",
       "                .geemap-dark {\n",
       "                    --jp-widgets-color: white;\n",
       "                    --jp-widgets-label-color: white;\n",
       "                    --jp-ui-font-color1: white;\n",
       "                    --jp-layout-color2: #454545;\n",
       "                    background-color: #383838;\n",
       "                }\n",
       "\n",
       "                .geemap-dark .jupyter-button {\n",
       "                    --jp-layout-color3: #383838;\n",
       "                }\n",
       "\n",
       "                .geemap-colab {\n",
       "                    background-color: var(--colab-primary-surface-color, white);\n",
       "                }\n",
       "\n",
       "                .geemap-colab .jupyter-button {\n",
       "                    --jp-layout-color3: var(--colab-primary-surface-color, white);\n",
       "                }\n",
       "            </style>\n",
       "            "
      ],
      "text/plain": [
       "<IPython.core.display.HTML object>"
      ]
     },
     "metadata": {},
     "output_type": "display_data"
    }
   ],
   "source": [
    "# # Export images if necessary\n",
    "# geemap.ee_export_image_to_drive(NDBI, description = 'NDBI_20250131', folder = 'VBI', region = roi.geometry(), scale = 10)\n",
    "# geemap.ee_export_image_to_drive(BU, description = 'BUI_20250131', folder = 'VBI', region = roi.geometry(), scale = 10)\n",
    "# geemap.ee_export_image_to_drive(VBI, description = 'VBI_20250131', folder = 'VBI', region = roi.geometry(), scale = 10)"
   ]
  },
  {
   "cell_type": "code",
   "execution_count": 40,
   "id": "0db60996-67eb-4df6-998a-4f4bffb54022",
   "metadata": {},
   "outputs": [
    {
     "data": {
      "text/html": [
       "\n",
       "            <style>\n",
       "                .geemap-dark {\n",
       "                    --jp-widgets-color: white;\n",
       "                    --jp-widgets-label-color: white;\n",
       "                    --jp-ui-font-color1: white;\n",
       "                    --jp-layout-color2: #454545;\n",
       "                    background-color: #383838;\n",
       "                }\n",
       "\n",
       "                .geemap-dark .jupyter-button {\n",
       "                    --jp-layout-color3: #383838;\n",
       "                }\n",
       "\n",
       "                .geemap-colab {\n",
       "                    background-color: var(--colab-primary-surface-color, white);\n",
       "                }\n",
       "\n",
       "                .geemap-colab .jupyter-button {\n",
       "                    --jp-layout-color3: var(--colab-primary-surface-color, white);\n",
       "                }\n",
       "            </style>\n",
       "            "
      ],
      "text/plain": [
       "<IPython.core.display.HTML object>"
      ]
     },
     "metadata": {},
     "output_type": "display_data"
    }
   ],
   "source": [
    "# Read the extracted-value-file collected from ArcGIS Pro\n",
    "all_csv = pd.read_csv(cwp + \"/data/20250205_615sample_ALL.csv\")\n",
    "\n",
    "# Rename BUI to BU\n",
    "all_csv.rename(columns={\"BUI\": \"BU\"}, inplace=True)\n",
    "\n",
    "# Standardize BU\n",
    "all_csv['BU'] = all_csv['BU'] / 2"
   ]
  },
  {
   "cell_type": "code",
   "execution_count": 19,
   "id": "fbf6a98d-9129-416d-a4d1-b6b8d46327ee",
   "metadata": {},
   "outputs": [
    {
     "data": {
      "text/html": [
       "\n",
       "            <style>\n",
       "                .geemap-dark {\n",
       "                    --jp-widgets-color: white;\n",
       "                    --jp-widgets-label-color: white;\n",
       "                    --jp-ui-font-color1: white;\n",
       "                    --jp-layout-color2: #454545;\n",
       "                    background-color: #383838;\n",
       "                }\n",
       "\n",
       "                .geemap-dark .jupyter-button {\n",
       "                    --jp-layout-color3: #383838;\n",
       "                }\n",
       "\n",
       "                .geemap-colab {\n",
       "                    background-color: var(--colab-primary-surface-color, white);\n",
       "                }\n",
       "\n",
       "                .geemap-colab .jupyter-button {\n",
       "                    --jp-layout-color3: var(--colab-primary-surface-color, white);\n",
       "                }\n",
       "            </style>\n",
       "            "
      ],
      "text/plain": [
       "<IPython.core.display.HTML object>"
      ]
     },
     "metadata": {},
     "output_type": "display_data"
    },
    {
     "data": {
      "text/html": [
       "<div>\n",
       "<style scoped>\n",
       "    .dataframe tbody tr th:only-of-type {\n",
       "        vertical-align: middle;\n",
       "    }\n",
       "\n",
       "    .dataframe tbody tr th {\n",
       "        vertical-align: top;\n",
       "    }\n",
       "\n",
       "    .dataframe thead th {\n",
       "        text-align: right;\n",
       "    }\n",
       "</style>\n",
       "<table border=\"1\" class=\"dataframe\">\n",
       "  <thead>\n",
       "    <tr style=\"text-align: right;\">\n",
       "      <th></th>\n",
       "      <th>Urban</th>\n",
       "      <th>Type</th>\n",
       "      <th>CID</th>\n",
       "      <th>b2</th>\n",
       "      <th>b3</th>\n",
       "      <th>b4</th>\n",
       "      <th>b8</th>\n",
       "      <th>b11</th>\n",
       "      <th>hue</th>\n",
       "      <th>sat</th>\n",
       "      <th>val</th>\n",
       "      <th>BU</th>\n",
       "      <th>NDBI</th>\n",
       "      <th>VBI</th>\n",
       "    </tr>\n",
       "  </thead>\n",
       "  <tbody>\n",
       "    <tr>\n",
       "      <th>0</th>\n",
       "      <td>1</td>\n",
       "      <td>3</td>\n",
       "      <td>0</td>\n",
       "      <td>0.1402</td>\n",
       "      <td>0.1632</td>\n",
       "      <td>0.1968</td>\n",
       "      <td>0.3300</td>\n",
       "      <td>0.3007</td>\n",
       "      <td>0.067727</td>\n",
       "      <td>0.287602</td>\n",
       "      <td>0.1968</td>\n",
       "      <td>-0.149652</td>\n",
       "      <td>-0.046456</td>\n",
       "      <td>-0.187451</td>\n",
       "    </tr>\n",
       "    <tr>\n",
       "      <th>1</th>\n",
       "      <td>0</td>\n",
       "      <td>9</td>\n",
       "      <td>0</td>\n",
       "      <td>0.0624</td>\n",
       "      <td>0.0894</td>\n",
       "      <td>0.0998</td>\n",
       "      <td>0.3544</td>\n",
       "      <td>0.2026</td>\n",
       "      <td>0.120321</td>\n",
       "      <td>0.374750</td>\n",
       "      <td>0.0998</td>\n",
       "      <td>-0.416538</td>\n",
       "      <td>-0.272531</td>\n",
       "      <td>-0.579391</td>\n",
       "    </tr>\n",
       "    <tr>\n",
       "      <th>2</th>\n",
       "      <td>1</td>\n",
       "      <td>1</td>\n",
       "      <td>0</td>\n",
       "      <td>0.2866</td>\n",
       "      <td>0.3596</td>\n",
       "      <td>0.4584</td>\n",
       "      <td>0.4960</td>\n",
       "      <td>0.5432</td>\n",
       "      <td>0.070819</td>\n",
       "      <td>0.374782</td>\n",
       "      <td>0.4584</td>\n",
       "      <td>0.003012</td>\n",
       "      <td>0.045420</td>\n",
       "      <td>0.100360</td>\n",
       "    </tr>\n",
       "    <tr>\n",
       "      <th>3</th>\n",
       "      <td>1</td>\n",
       "      <td>1</td>\n",
       "      <td>0</td>\n",
       "      <td>0.4444</td>\n",
       "      <td>0.4536</td>\n",
       "      <td>0.4504</td>\n",
       "      <td>0.4764</td>\n",
       "      <td>0.3434</td>\n",
       "      <td>0.224638</td>\n",
       "      <td>0.020282</td>\n",
       "      <td>0.4536</td>\n",
       "      <td>-0.095144</td>\n",
       "      <td>-0.162235</td>\n",
       "      <td>0.914400</td>\n",
       "    </tr>\n",
       "    <tr>\n",
       "      <th>4</th>\n",
       "      <td>1</td>\n",
       "      <td>3</td>\n",
       "      <td>0</td>\n",
       "      <td>0.1632</td>\n",
       "      <td>0.1916</td>\n",
       "      <td>0.1914</td>\n",
       "      <td>0.3740</td>\n",
       "      <td>0.3793</td>\n",
       "      <td>0.167840</td>\n",
       "      <td>0.148225</td>\n",
       "      <td>0.1916</td>\n",
       "      <td>-0.157961</td>\n",
       "      <td>0.007036</td>\n",
       "      <td>0.127638</td>\n",
       "    </tr>\n",
       "  </tbody>\n",
       "</table>\n",
       "</div>"
      ],
      "text/plain": [
       "   Urban  Type  CID      b2      b3      b4      b8     b11       hue  \\\n",
       "0      1     3    0  0.1402  0.1632  0.1968  0.3300  0.3007  0.067727   \n",
       "1      0     9    0  0.0624  0.0894  0.0998  0.3544  0.2026  0.120321   \n",
       "2      1     1    0  0.2866  0.3596  0.4584  0.4960  0.5432  0.070819   \n",
       "3      1     1    0  0.4444  0.4536  0.4504  0.4764  0.3434  0.224638   \n",
       "4      1     3    0  0.1632  0.1916  0.1914  0.3740  0.3793  0.167840   \n",
       "\n",
       "        sat     val        BU      NDBI       VBI  \n",
       "0  0.287602  0.1968 -0.149652 -0.046456 -0.187451  \n",
       "1  0.374750  0.0998 -0.416538 -0.272531 -0.579391  \n",
       "2  0.374782  0.4584  0.003012  0.045420  0.100360  \n",
       "3  0.020282  0.4536 -0.095144 -0.162235  0.914400  \n",
       "4  0.148225  0.1916 -0.157961  0.007036  0.127638  "
      ]
     },
     "execution_count": 19,
     "metadata": {},
     "output_type": "execute_result"
    }
   ],
   "source": [
    "all_csv.head()"
   ]
  },
  {
   "cell_type": "markdown",
   "id": "d63f8730-a86d-4ad9-9cd2-0b2b997aaf4f",
   "metadata": {},
   "source": [
    "## 2. Spectral Signatures"
   ]
  },
  {
   "cell_type": "code",
   "execution_count": 20,
   "id": "1fe95d0a-8b16-433f-9f57-da1c0be318ec",
   "metadata": {
    "scrolled": true
   },
   "outputs": [
    {
     "data": {
      "text/html": [
       "\n",
       "            <style>\n",
       "                .geemap-dark {\n",
       "                    --jp-widgets-color: white;\n",
       "                    --jp-widgets-label-color: white;\n",
       "                    --jp-ui-font-color1: white;\n",
       "                    --jp-layout-color2: #454545;\n",
       "                    background-color: #383838;\n",
       "                }\n",
       "\n",
       "                .geemap-dark .jupyter-button {\n",
       "                    --jp-layout-color3: #383838;\n",
       "                }\n",
       "\n",
       "                .geemap-colab {\n",
       "                    background-color: var(--colab-primary-surface-color, white);\n",
       "                }\n",
       "\n",
       "                .geemap-colab .jupyter-button {\n",
       "                    --jp-layout-color3: var(--colab-primary-surface-color, white);\n",
       "                }\n",
       "            </style>\n",
       "            "
      ],
      "text/plain": [
       "<IPython.core.display.HTML object>"
      ]
     },
     "metadata": {},
     "output_type": "display_data"
    }
   ],
   "source": [
    "spec_sig = all_csv.groupby('Type').agg({\n",
    "    'b2': 'mean', \n",
    "    'b3': 'mean', \n",
    "    'b4': 'mean', \n",
    "    'b8': 'mean',\n",
    "    'b11': 'mean',\n",
    "    'hue': 'mean', \n",
    "    'sat': 'mean', \n",
    "    'val': 'mean'\n",
    "    }).reset_index()"
   ]
  },
  {
   "cell_type": "code",
   "execution_count": 21,
   "id": "71aa781a-4dff-413c-8459-12b52807a7c9",
   "metadata": {},
   "outputs": [
    {
     "data": {
      "text/html": [
       "\n",
       "            <style>\n",
       "                .geemap-dark {\n",
       "                    --jp-widgets-color: white;\n",
       "                    --jp-widgets-label-color: white;\n",
       "                    --jp-ui-font-color1: white;\n",
       "                    --jp-layout-color2: #454545;\n",
       "                    background-color: #383838;\n",
       "                }\n",
       "\n",
       "                .geemap-dark .jupyter-button {\n",
       "                    --jp-layout-color3: #383838;\n",
       "                }\n",
       "\n",
       "                .geemap-colab {\n",
       "                    background-color: var(--colab-primary-surface-color, white);\n",
       "                }\n",
       "\n",
       "                .geemap-colab .jupyter-button {\n",
       "                    --jp-layout-color3: var(--colab-primary-surface-color, white);\n",
       "                }\n",
       "            </style>\n",
       "            "
      ],
      "text/plain": [
       "<IPython.core.display.HTML object>"
      ]
     },
     "metadata": {},
     "output_type": "display_data"
    }
   ],
   "source": [
    "Index_boxplot = spec_sig\n",
    "Index_boxplot['Type'].replace(1, \"White roof\", inplace=True)\n",
    "Index_boxplot['Type'].replace(2, \"Red roof\", inplace=True)\n",
    "Index_boxplot['Type'].replace(3, \"Other roof\", inplace=True)\n",
    "Index_boxplot['Type'].replace(4,  \"Asphalt road\", inplace=True)\n",
    "Index_boxplot['Type'].replace(6, \"Cement ground\", inplace=True)\n",
    "Index_boxplot['Type'].replace(7, \"Vegetation\", inplace=True)\n",
    "Index_boxplot['Type'].replace(8, \"Waterbody\", inplace=True)\n",
    "Index_boxplot['Type'].replace(9, \"Bare soil\", inplace=True)"
   ]
  },
  {
   "cell_type": "code",
   "execution_count": 22,
   "id": "1e9a3f28-811f-4cb3-bd60-aa0f129954ea",
   "metadata": {},
   "outputs": [
    {
     "data": {
      "text/html": [
       "\n",
       "            <style>\n",
       "                .geemap-dark {\n",
       "                    --jp-widgets-color: white;\n",
       "                    --jp-widgets-label-color: white;\n",
       "                    --jp-ui-font-color1: white;\n",
       "                    --jp-layout-color2: #454545;\n",
       "                    background-color: #383838;\n",
       "                }\n",
       "\n",
       "                .geemap-dark .jupyter-button {\n",
       "                    --jp-layout-color3: #383838;\n",
       "                }\n",
       "\n",
       "                .geemap-colab {\n",
       "                    background-color: var(--colab-primary-surface-color, white);\n",
       "                }\n",
       "\n",
       "                .geemap-colab .jupyter-button {\n",
       "                    --jp-layout-color3: var(--colab-primary-surface-color, white);\n",
       "                }\n",
       "            </style>\n",
       "            "
      ],
      "text/plain": [
       "<IPython.core.display.HTML object>"
      ]
     },
     "metadata": {},
     "output_type": "display_data"
    },
    {
     "data": {
      "text/html": [
       "<div>\n",
       "<style scoped>\n",
       "    .dataframe tbody tr th:only-of-type {\n",
       "        vertical-align: middle;\n",
       "    }\n",
       "\n",
       "    .dataframe tbody tr th {\n",
       "        vertical-align: top;\n",
       "    }\n",
       "\n",
       "    .dataframe thead th {\n",
       "        text-align: right;\n",
       "    }\n",
       "</style>\n",
       "<table border=\"1\" class=\"dataframe\">\n",
       "  <thead>\n",
       "    <tr style=\"text-align: right;\">\n",
       "      <th></th>\n",
       "      <th>Type</th>\n",
       "      <th>b2</th>\n",
       "      <th>b3</th>\n",
       "      <th>b4</th>\n",
       "      <th>b8</th>\n",
       "      <th>b11</th>\n",
       "      <th>hue</th>\n",
       "      <th>sat</th>\n",
       "      <th>val</th>\n",
       "    </tr>\n",
       "  </thead>\n",
       "  <tbody>\n",
       "    <tr>\n",
       "      <th>0</th>\n",
       "      <td>White roof</td>\n",
       "      <td>0.307800</td>\n",
       "      <td>0.328276</td>\n",
       "      <td>0.337254</td>\n",
       "      <td>0.368092</td>\n",
       "      <td>0.364235</td>\n",
       "      <td>0.230327</td>\n",
       "      <td>0.117625</td>\n",
       "      <td>0.344584</td>\n",
       "    </tr>\n",
       "    <tr>\n",
       "      <th>1</th>\n",
       "      <td>Red roof</td>\n",
       "      <td>0.088712</td>\n",
       "      <td>0.119194</td>\n",
       "      <td>0.182494</td>\n",
       "      <td>0.279118</td>\n",
       "      <td>0.325676</td>\n",
       "      <td>0.055802</td>\n",
       "      <td>0.510260</td>\n",
       "      <td>0.182494</td>\n",
       "    </tr>\n",
       "    <tr>\n",
       "      <th>2</th>\n",
       "      <td>Other roof</td>\n",
       "      <td>0.162110</td>\n",
       "      <td>0.188936</td>\n",
       "      <td>0.206694</td>\n",
       "      <td>0.309426</td>\n",
       "      <td>0.312537</td>\n",
       "      <td>0.123766</td>\n",
       "      <td>0.221563</td>\n",
       "      <td>0.208357</td>\n",
       "    </tr>\n",
       "    <tr>\n",
       "      <th>3</th>\n",
       "      <td>Asphalt road</td>\n",
       "      <td>0.115959</td>\n",
       "      <td>0.141634</td>\n",
       "      <td>0.156769</td>\n",
       "      <td>0.267421</td>\n",
       "      <td>0.298303</td>\n",
       "      <td>0.167941</td>\n",
       "      <td>0.288320</td>\n",
       "      <td>0.158379</td>\n",
       "    </tr>\n",
       "    <tr>\n",
       "      <th>4</th>\n",
       "      <td>Cement ground</td>\n",
       "      <td>0.154869</td>\n",
       "      <td>0.187862</td>\n",
       "      <td>0.212600</td>\n",
       "      <td>0.321542</td>\n",
       "      <td>0.328013</td>\n",
       "      <td>0.099912</td>\n",
       "      <td>0.271924</td>\n",
       "      <td>0.213177</td>\n",
       "    </tr>\n",
       "    <tr>\n",
       "      <th>5</th>\n",
       "      <td>Vegetation</td>\n",
       "      <td>0.048241</td>\n",
       "      <td>0.083961</td>\n",
       "      <td>0.070244</td>\n",
       "      <td>0.357117</td>\n",
       "      <td>0.251929</td>\n",
       "      <td>0.236594</td>\n",
       "      <td>0.449016</td>\n",
       "      <td>0.085567</td>\n",
       "    </tr>\n",
       "    <tr>\n",
       "      <th>6</th>\n",
       "      <td>Waterbody</td>\n",
       "      <td>0.021708</td>\n",
       "      <td>0.050492</td>\n",
       "      <td>0.028258</td>\n",
       "      <td>0.058575</td>\n",
       "      <td>0.042642</td>\n",
       "      <td>0.289822</td>\n",
       "      <td>0.540322</td>\n",
       "      <td>0.050492</td>\n",
       "    </tr>\n",
       "    <tr>\n",
       "      <th>7</th>\n",
       "      <td>Bare soil</td>\n",
       "      <td>0.087170</td>\n",
       "      <td>0.120017</td>\n",
       "      <td>0.147559</td>\n",
       "      <td>0.294155</td>\n",
       "      <td>0.319492</td>\n",
       "      <td>0.096662</td>\n",
       "      <td>0.406596</td>\n",
       "      <td>0.147639</td>\n",
       "    </tr>\n",
       "  </tbody>\n",
       "</table>\n",
       "</div>"
      ],
      "text/plain": [
       "            Type        b2        b3        b4        b8       b11       hue  \\\n",
       "0     White roof  0.307800  0.328276  0.337254  0.368092  0.364235  0.230327   \n",
       "1       Red roof  0.088712  0.119194  0.182494  0.279118  0.325676  0.055802   \n",
       "2     Other roof  0.162110  0.188936  0.206694  0.309426  0.312537  0.123766   \n",
       "3   Asphalt road  0.115959  0.141634  0.156769  0.267421  0.298303  0.167941   \n",
       "4  Cement ground  0.154869  0.187862  0.212600  0.321542  0.328013  0.099912   \n",
       "5     Vegetation  0.048241  0.083961  0.070244  0.357117  0.251929  0.236594   \n",
       "6      Waterbody  0.021708  0.050492  0.028258  0.058575  0.042642  0.289822   \n",
       "7      Bare soil  0.087170  0.120017  0.147559  0.294155  0.319492  0.096662   \n",
       "\n",
       "        sat       val  \n",
       "0  0.117625  0.344584  \n",
       "1  0.510260  0.182494  \n",
       "2  0.221563  0.208357  \n",
       "3  0.288320  0.158379  \n",
       "4  0.271924  0.213177  \n",
       "5  0.449016  0.085567  \n",
       "6  0.540322  0.050492  \n",
       "7  0.406596  0.147639  "
      ]
     },
     "execution_count": 22,
     "metadata": {},
     "output_type": "execute_result"
    }
   ],
   "source": [
    "Index_boxplot"
   ]
  },
  {
   "cell_type": "code",
   "execution_count": 24,
   "id": "5f756820-cf9a-4516-b051-f0fb52dedec1",
   "metadata": {},
   "outputs": [
    {
     "data": {
      "text/html": [
       "\n",
       "            <style>\n",
       "                .geemap-dark {\n",
       "                    --jp-widgets-color: white;\n",
       "                    --jp-widgets-label-color: white;\n",
       "                    --jp-ui-font-color1: white;\n",
       "                    --jp-layout-color2: #454545;\n",
       "                    background-color: #383838;\n",
       "                }\n",
       "\n",
       "                .geemap-dark .jupyter-button {\n",
       "                    --jp-layout-color3: #383838;\n",
       "                }\n",
       "\n",
       "                .geemap-colab {\n",
       "                    background-color: var(--colab-primary-surface-color, white);\n",
       "                }\n",
       "\n",
       "                .geemap-colab .jupyter-button {\n",
       "                    --jp-layout-color3: var(--colab-primary-surface-color, white);\n",
       "                }\n",
       "            </style>\n",
       "            "
      ],
      "text/plain": [
       "<IPython.core.display.HTML object>"
      ]
     },
     "metadata": {},
     "output_type": "display_data"
    },
    {
     "data": {
      "image/png": "[encoded data removed]",
      "text/plain": [
       "<Figure size 900x600 with 2 Axes>"
      ]
     },
     "metadata": {},
     "output_type": "display_data"
    }
   ],
   "source": [
    "RGB_spec_sig = spec_sig[['Type', 'b2', 'b3', 'b4', 'b8', 'b11']].melt(id_vars='Type', var_name='Category', value_name='Val')\n",
    "HSV_spec_sig = spec_sig[['Type', 'hue', 'sat', 'val']].melt(id_vars='Type', var_name='Category', value_name='Val')\n",
    "\n",
    "\n",
    "# Define the category name mapping\n",
    "category_mapping_rgb = {'b2': 'Blue', 'b3': 'Green', 'b4': 'Red', 'b8': 'NIR', 'b11': 'SWIR'}\n",
    "category_mapping_hsv = {'hue': 'Hue', 'sat': 'Saturation', 'val': 'Value'}\n",
    "\n",
    "# Apply the mappings before melting\n",
    "spec_sig_renamed = Index_boxplot.rename(columns=category_mapping_rgb | category_mapping_hsv)\n",
    "\n",
    "# Define the desired order of categories\n",
    "type_order = ['White roof', 'Red roof', 'Other roof', 'Asphalt road', 'Cement ground', \n",
    "              'Vegetation', 'Waterbody', 'Bare soil']\n",
    "\n",
    "# Define marker styles for each category\n",
    "marker_styles = {\n",
    "    'White roof': 'o',   # Dots (Circle)\n",
    "    'Red roof': '^',      # Triangle\n",
    "    'Other roof': 's',    # Square\n",
    "    'Asphalt road': 'D',  # Diamond\n",
    "    'Cement ground': 'p', # Pentagon\n",
    "    'Vegetation': '*',    # Star\n",
    "    'Waterbody': 'X',     # Cross\n",
    "    'Bare soil': 'h'      # Hexagon\n",
    "}\n",
    "\n",
    "# Define line styles for each category\n",
    "line_styles = {\n",
    "    'White roof': '-',    # Solid\n",
    "    'Red roof': '--',     # Dashed\n",
    "    'Other roof': '-.',   # Dash-dot\n",
    "    'Asphalt road': ':',  # Dotted\n",
    "    'Cement ground': (0, (3, 1, 1, 1)),  # Custom dashed\n",
    "    'Vegetation': (0, (5, 2)),  # Long dash\n",
    "    'Waterbody': (0, (1, 1)),  # Short dash\n",
    "    'Bare soil': (0, (3, 2, 1, 2))  # Mixed pattern\n",
    "}\n",
    "\n",
    "spec_sig_renamed['Type'] = pd.Categorical(spec_sig_renamed['Type'], categories=type_order, ordered=True)\n",
    "\n",
    "RGB_spec_sig = spec_sig_renamed[['Type'] + list(category_mapping_rgb.values())].melt(\n",
    "    id_vars='Type', var_name='Category', value_name='Val')\n",
    "HSV_spec_sig = spec_sig_renamed[['Type'] + list(category_mapping_hsv.values())].melt(\n",
    "    id_vars='Type', var_name='Category', value_name='Val')\n",
    "\n",
    "colors = {'White roof': '#ADD8E6', 'Red roof': '#F80000', 'Other roof': '#0000FF',  'Asphalt road': '#808080',  'Cement ground': '#A9A9A9',\n",
    "           'Vegetation': '#008000', 'Waterbody': '#000000', 'Bare soil': '#8B4513'}\n",
    "\n",
    "# Plotting\n",
    "fig, axes = plt.subplots(nrows=1, ncols=2, figsize=(9, 6))\n",
    "\n",
    "# Set to greyscale: color='black', markeredgecolor='black'\n",
    "for category in type_order:\n",
    "    subset = RGB_spec_sig[RGB_spec_sig['Type'] == category]\n",
    "    axes[0].plot(subset['Category'], subset['Val'], marker=marker_styles[category], markersize = 8, linestyle=line_styles[category], label=f'{category}', color=colors[category])\n",
    "\n",
    "for category in type_order:\n",
    "    subset = HSV_spec_sig[HSV_spec_sig['Type'] == category]\n",
    "    axes[1].plot(subset['Category'], subset['Val'], marker=marker_styles[category], markersize = 8, linestyle=line_styles[category], label=f'{category}', color=colors[category])\n",
    "    \n",
    "axes[0].set_ylim(0, 0.6)\n",
    "axes[0].set_ylabel('Surface Reflectance', fontsize=14, fontweight='bold')\n",
    "axes[1].set_ylim(0, 0.6)\n",
    "axes[0].set_xlabel('(a)', fontsize=16)\n",
    "axes[1].set_xlabel('(b)', fontsize=16)\n",
    "\n",
    "# Increase tick label font sizes\n",
    "for ax in axes:\n",
    "    ax.tick_params(axis='both', labelsize=12)\n",
    "    for label in ax.get_xticklabels() + ax.get_yticklabels():\n",
    "        label.set_fontweight('bold')\n",
    "\n",
    "# axes[1].set_ylabel('surface reflectance')\n",
    "# plt.ylabel('Value')\n",
    "legend = axes[1].legend(title=\"Type\", loc=\"upper left\", bbox_to_anchor=(1, 1), fontsize=12, frameon=False)\n",
    "plt.setp(legend.get_title(), fontsize=12, fontweight='bold')  # Bold legend title\n",
    "for text in legend.get_texts():\n",
    "    text.set_fontweight('bold')  # Bold legend labels\n",
    "    \n",
    "# plt.savefig(\"pic/Figure2_grey.jpg\", dpi=1200, format=\"jpeg\", bbox_inches=\"tight\")\n",
    "# plt.savefig(\"pic/Figure2_grey.pdf\", dpi=1200, format=\"pdf\", bbox_inches=\"tight\")\n",
    "plt.show(); "
   ]
  },
  {
   "cell_type": "markdown",
   "id": "e59b68fc-5658-4f82-9f78-176de831b265",
   "metadata": {},
   "source": [
    "## 3. TOC Plot"
   ]
  },
  {
   "cell_type": "markdown",
   "id": "af727110-d660-4872-9d81-e0531ddf6b18",
   "metadata": {},
   "source": [
    "### 3.1 Calculate AUC and threshold value"
   ]
  },
  {
   "cell_type": "code",
   "execution_count": 41,
   "id": "7b7c39ca-cf46-48be-9b32-b16365e16486",
   "metadata": {},
   "outputs": [
    {
     "data": {
      "text/html": [
       "\n",
       "            <style>\n",
       "                .geemap-dark {\n",
       "                    --jp-widgets-color: white;\n",
       "                    --jp-widgets-label-color: white;\n",
       "                    --jp-ui-font-color1: white;\n",
       "                    --jp-layout-color2: #454545;\n",
       "                    background-color: #383838;\n",
       "                }\n",
       "\n",
       "                .geemap-dark .jupyter-button {\n",
       "                    --jp-layout-color3: #383838;\n",
       "                }\n",
       "\n",
       "                .geemap-colab {\n",
       "                    background-color: var(--colab-primary-surface-color, white);\n",
       "                }\n",
       "\n",
       "                .geemap-colab .jupyter-button {\n",
       "                    --jp-layout-color3: var(--colab-primary-surface-color, white);\n",
       "                }\n",
       "            </style>\n",
       "            "
      ],
      "text/plain": [
       "<IPython.core.display.HTML object>"
      ]
     },
     "metadata": {},
     "output_type": "display_data"
    },
    {
     "name": "stdout",
     "output_type": "stream",
     "text": [
      "The size of extent: 615\n",
      "Abundance: 205\n",
      "AUC: 0.8080428316478286\n",
      "The coordinate of point below top left corner: (205,128.0)\n"
     ]
    }
   ],
   "source": [
    "# Initialize TOC and generate TOC_NDBI\n",
    "all_csv = all_csv.sort_values(['NDBI'], ascending=[False])\n",
    "TOC_NDBI = TOC(all_csv['Urban'], all_csv['NDBI'], all_csv['NDBI'])\n",
    "# Get the summary\n",
    "TOC_NDBI.summary()"
   ]
  },
  {
   "cell_type": "code",
   "execution_count": 26,
   "id": "a68ae076-a4c0-45aa-9e66-ad597f6cbf04",
   "metadata": {},
   "outputs": [
    {
     "data": {
      "text/html": [
       "\n",
       "            <style>\n",
       "                .geemap-dark {\n",
       "                    --jp-widgets-color: white;\n",
       "                    --jp-widgets-label-color: white;\n",
       "                    --jp-ui-font-color1: white;\n",
       "                    --jp-layout-color2: #454545;\n",
       "                    background-color: #383838;\n",
       "                }\n",
       "\n",
       "                .geemap-dark .jupyter-button {\n",
       "                    --jp-layout-color3: #383838;\n",
       "                }\n",
       "\n",
       "                .geemap-colab {\n",
       "                    background-color: var(--colab-primary-surface-color, white);\n",
       "                }\n",
       "\n",
       "                .geemap-colab .jupyter-button {\n",
       "                    --jp-layout-color3: var(--colab-primary-surface-color, white);\n",
       "                }\n",
       "            </style>\n",
       "            "
      ],
      "text/plain": [
       "<IPython.core.display.HTML object>"
      ]
     },
     "metadata": {},
     "output_type": "display_data"
    },
    {
     "name": "stdout",
     "output_type": "stream",
     "text": [
      "The size of extent: 615\n",
      "Abundance: 205\n",
      "AUC: 0.9158953004164188\n",
      "The coordinate of point below top left corner: (205,154.0)\n"
     ]
    }
   ],
   "source": [
    "all_csv = all_csv.sort_values(['BU'], ascending=[False])\n",
    "TOC_BU = TOC(all_csv['Urban'], all_csv['BU'], all_csv['BU'])\n",
    "\n",
    "TOC_BU.summary()"
   ]
  },
  {
   "cell_type": "code",
   "execution_count": 27,
   "id": "91b9a044-892b-4fc8-9275-cc4856494c7b",
   "metadata": {},
   "outputs": [
    {
     "data": {
      "text/html": [
       "\n",
       "            <style>\n",
       "                .geemap-dark {\n",
       "                    --jp-widgets-color: white;\n",
       "                    --jp-widgets-label-color: white;\n",
       "                    --jp-ui-font-color1: white;\n",
       "                    --jp-layout-color2: #454545;\n",
       "                    background-color: #383838;\n",
       "                }\n",
       "\n",
       "                .geemap-dark .jupyter-button {\n",
       "                    --jp-layout-color3: #383838;\n",
       "                }\n",
       "\n",
       "                .geemap-colab {\n",
       "                    background-color: var(--colab-primary-surface-color, white);\n",
       "                }\n",
       "\n",
       "                .geemap-colab .jupyter-button {\n",
       "                    --jp-layout-color3: var(--colab-primary-surface-color, white);\n",
       "                }\n",
       "            </style>\n",
       "            "
      ],
      "text/plain": [
       "<IPython.core.display.HTML object>"
      ]
     },
     "metadata": {},
     "output_type": "display_data"
    },
    {
     "name": "stdout",
     "output_type": "stream",
     "text": [
      "The size of extent: 615\n",
      "Abundance: 205\n",
      "AUC: 0.9699583581201666\n",
      "The coordinate of point below top left corner: (205,178.0)\n"
     ]
    }
   ],
   "source": [
    "all_csv = all_csv.sort_values(['VBI'], ascending=[False])\n",
    "TOC_VBI = TOC(all_csv['Urban'], all_csv['VBI'], all_csv['VBI'])\n",
    "\n",
    "TOC_VBI.summary()"
   ]
  },
  {
   "cell_type": "code",
   "execution_count": 28,
   "id": "67ef74af-2caa-491e-853f-fd45053c65e7",
   "metadata": {},
   "outputs": [
    {
     "data": {
      "text/html": [
       "\n",
       "            <style>\n",
       "                .geemap-dark {\n",
       "                    --jp-widgets-color: white;\n",
       "                    --jp-widgets-label-color: white;\n",
       "                    --jp-ui-font-color1: white;\n",
       "                    --jp-layout-color2: #454545;\n",
       "                    background-color: #383838;\n",
       "                }\n",
       "\n",
       "                .geemap-dark .jupyter-button {\n",
       "                    --jp-layout-color3: #383838;\n",
       "                }\n",
       "\n",
       "                .geemap-colab {\n",
       "                    background-color: var(--colab-primary-surface-color, white);\n",
       "                }\n",
       "\n",
       "                .geemap-colab .jupyter-button {\n",
       "                    --jp-layout-color3: var(--colab-primary-surface-color, white);\n",
       "                }\n",
       "            </style>\n",
       "            "
      ],
      "text/plain": [
       "<IPython.core.display.HTML object>"
      ]
     },
     "metadata": {},
     "output_type": "display_data"
    },
    {
     "name": "stdout",
     "output_type": "stream",
     "text": [
      "-0.0024038 -0.140442 -0.372807\n"
     ]
    }
   ],
   "source": [
    "# Search the minimum quantitative difference threshold\n",
    "NDBI_sorted = all_csv.sort_values(['NDBI'], ascending=[False])\n",
    "BU_sorted = all_csv.sort_values(['BU'], ascending=[False])\n",
    "VBI_sorted = all_csv.sort_values(['VBI'], ascending=[False])\n",
    "\n",
    "# Print out the threshold values when Misses equals to False Alarms (marked by the red star)\n",
    "print(NDBI_sorted['NDBI'].iloc[204], BU_sorted['BU'].iloc[204], VBI_sorted['VBI'].iloc[204])"
   ]
  },
  {
   "cell_type": "code",
   "execution_count": 29,
   "id": "354db733-7f78-4dc8-8997-6464f0109096",
   "metadata": {},
   "outputs": [
    {
     "data": {
      "text/html": [
       "\n",
       "            <style>\n",
       "                .geemap-dark {\n",
       "                    --jp-widgets-color: white;\n",
       "                    --jp-widgets-label-color: white;\n",
       "                    --jp-ui-font-color1: white;\n",
       "                    --jp-layout-color2: #454545;\n",
       "                    background-color: #383838;\n",
       "                }\n",
       "\n",
       "                .geemap-dark .jupyter-button {\n",
       "                    --jp-layout-color3: #383838;\n",
       "                }\n",
       "\n",
       "                .geemap-colab {\n",
       "                    background-color: var(--colab-primary-surface-color, white);\n",
       "                }\n",
       "\n",
       "                .geemap-colab .jupyter-button {\n",
       "                    --jp-layout-color3: var(--colab-primary-surface-color, white);\n",
       "                }\n",
       "            </style>\n",
       "            "
      ],
      "text/plain": [
       "<IPython.core.display.HTML object>"
      ]
     },
     "metadata": {},
     "output_type": "display_data"
    }
   ],
   "source": [
    "# create Boolean images based on the threshold value\n",
    "BoolNDBI = NDBI.expression('b(0) < -0.003 ? 0 : b(0) >= -0.003 ? 1 : 0').clip(roi)\n",
    "m.addLayer(BoolNDBI, {'palette': ['#000000', '#FFFFFF'], 'min': 0, 'max': 1}, 'Boolean NDBI')\n",
    "\n",
    "BoolBU =BU.expression('b(0) < -0.141 ? 0 : b(0) >= -0.141 ? 1 : 0').clip(roi)\n",
    "m.addLayer(BoolBU, {'palette': ['#000000', '#FFFFFF'], 'min': 0, 'max': 1}, 'Boolean BU')\n",
    "\n",
    "BoolVBI = VBI.expression('b(0) < -0.376 ? 0 : b(0) >= -0.356 ? 1 : 0').clip(roi)\n",
    "m.addLayer(BoolVBI, {'palette': ['#000000', '#FFFFFF'], 'min': 0, 'max': 1}, 'Boolean VBI')"
   ]
  },
  {
   "cell_type": "code",
   "execution_count": 30,
   "id": "cf56e7de-c578-4960-ac71-54a4f063989d",
   "metadata": {},
   "outputs": [
    {
     "data": {
      "text/html": [
       "\n",
       "            <style>\n",
       "                .geemap-dark {\n",
       "                    --jp-widgets-color: white;\n",
       "                    --jp-widgets-label-color: white;\n",
       "                    --jp-ui-font-color1: white;\n",
       "                    --jp-layout-color2: #454545;\n",
       "                    background-color: #383838;\n",
       "                }\n",
       "\n",
       "                .geemap-dark .jupyter-button {\n",
       "                    --jp-layout-color3: #383838;\n",
       "                }\n",
       "\n",
       "                .geemap-colab {\n",
       "                    background-color: var(--colab-primary-surface-color, white);\n",
       "                }\n",
       "\n",
       "                .geemap-colab .jupyter-button {\n",
       "                    --jp-layout-color3: var(--colab-primary-surface-color, white);\n",
       "                }\n",
       "            </style>\n",
       "            "
      ],
      "text/plain": [
       "<IPython.core.display.HTML object>"
      ]
     },
     "metadata": {},
     "output_type": "display_data"
    }
   ],
   "source": [
    "# Export threshold binary images if necessary\n",
    "# geemap.ee_export_image_to_drive(BoolNDBI, description = 'BoolNDBI_20250209', folder = 'VBI', region = roi.geometry(), scale = 10)\n",
    "# geemap.ee_export_image_to_drive(BoolBUI, description = 'BoolBUI_20250209', folder = 'VBI', region = roi.geometry(), scale = 10)\n",
    "# geemap.ee_export_image_to_drive(BoolVBI, description = 'BoolVBI_20250209', folder = 'VBI', region = roi.geometry(), scale = 10)"
   ]
  },
  {
   "cell_type": "markdown",
   "id": "a199061c-2f6d-42a0-86a5-e2a206ec6021",
   "metadata": {},
   "source": [
    "### 3.2 Calculate the built-up area in the study area based on the threshold value of each index"
   ]
  },
  {
   "cell_type": "code",
   "execution_count": 31,
   "id": "ce4034ef-1888-4f41-948e-81f2204c06fe",
   "metadata": {},
   "outputs": [
    {
     "data": {
      "text/html": [
       "\n",
       "            <style>\n",
       "                .geemap-dark {\n",
       "                    --jp-widgets-color: white;\n",
       "                    --jp-widgets-label-color: white;\n",
       "                    --jp-ui-font-color1: white;\n",
       "                    --jp-layout-color2: #454545;\n",
       "                    background-color: #383838;\n",
       "                }\n",
       "\n",
       "                .geemap-dark .jupyter-button {\n",
       "                    --jp-layout-color3: #383838;\n",
       "                }\n",
       "\n",
       "                .geemap-colab {\n",
       "                    background-color: var(--colab-primary-surface-color, white);\n",
       "                }\n",
       "\n",
       "                .geemap-colab .jupyter-button {\n",
       "                    --jp-layout-color3: var(--colab-primary-surface-color, white);\n",
       "                }\n",
       "            </style>\n",
       "            "
      ],
      "text/plain": [
       "<IPython.core.display.HTML object>"
      ]
     },
     "metadata": {},
     "output_type": "display_data"
    },
    {
     "data": {
      "text/plain": [
       "'Pixel area default projection'"
      ]
     },
     "metadata": {},
     "output_type": "display_data"
    },
    {
     "data": {
      "text/html": [
       "<div><style>:root {\n",
       "  --font-color-primary: var(--jp-content-font-color0, rgba(0, 0, 0, 1));\n",
       "  --font-color-secondary: var(--jp-content-font-color2, rgba(0, 0, 0, 0.6));\n",
       "  --font-color-accent: rgba(123, 31, 162, 1);\n",
       "  --border-color: var(--jp-border-color2, #e0e0e0);\n",
       "  --background-color: var(--jp-layout-color0, white);\n",
       "  --background-color-row-even: var(--jp-layout-color1, white);\n",
       "  --background-color-row-odd: var(--jp-layout-color2, #eeeeee);\n",
       "}\n",
       "\n",
       "html[theme=\"dark\"],\n",
       "body[data-theme=\"dark\"],\n",
       "body.vscode-dark {\n",
       "  --font-color-primary: rgba(255, 255, 255, 1);\n",
       "  --font-color-secondary: rgba(255, 255, 255, 0.6);\n",
       "  --font-color-accent: rgb(173, 132, 190);\n",
       "  --border-color: #2e2e2e;\n",
       "  --background-color: #111111;\n",
       "  --background-color-row-even: #111111;\n",
       "  --background-color-row-odd: #313131;\n",
       "}\n",
       "\n",
       ".ee {\n",
       "  padding: 1em;\n",
       "  line-height: 1.5em;\n",
       "  min-width: 300px;\n",
       "  max-width: 1200px;\n",
       "  overflow-y: scroll;\n",
       "  max-height: 600px;\n",
       "  border: 1px solid var(--border-color);\n",
       "  font-family: monospace;\n",
       "}\n",
       "\n",
       ".ee li {\n",
       "  list-style-type: none;\n",
       "}\n",
       "\n",
       ".ee ul {\n",
       "  padding-left: 1.5em !important;\n",
       "  margin: 0;\n",
       "}\n",
       "\n",
       ".ee > ul {\n",
       "  padding-left: 0 !important;\n",
       "}\n",
       "\n",
       ".ee-open,\n",
       ".ee-shut {\n",
       "  color: var(--font-color-secondary);\n",
       "  cursor: pointer;\n",
       "  margin: 0;\n",
       "}\n",
       "\n",
       ".ee-open:hover,\n",
       ".ee-shut:hover {\n",
       "  color: var(--font-color-primary);\n",
       "}\n",
       "\n",
       ".ee-k {\n",
       "  color: var(--font-color-accent);\n",
       "  margin-right: 6px;\n",
       "}\n",
       "\n",
       ".ee-v {\n",
       "  color: var(--font-color-primary);\n",
       "}\n",
       "\n",
       ".ee-toggle {\n",
       "  display: none;\n",
       "}\n",
       "\n",
       ".ee-shut + ul {\n",
       "  display: none;\n",
       "}\n",
       "\n",
       ".ee-open + ul {\n",
       "  display: block;\n",
       "}\n",
       "\n",
       ".ee-shut::before {\n",
       "  display: inline-block;\n",
       "  content: \"▼\";\n",
       "  margin-right: 6px;\n",
       "  transform: rotate(-90deg);\n",
       "  transition: transform 0.2s;\n",
       "}\n",
       "\n",
       ".ee-open::before {\n",
       "  transform: rotate(0deg);\n",
       "  display: inline-block;\n",
       "  content: \"▼\";\n",
       "  margin-right: 6px;\n",
       "  transition: transform 0.2s;\n",
       "}\n",
       "</style><div class='ee'><ul><li><label class='ee-shut'>Projection<input type='checkbox' class='ee-toggle'></label><ul><li><span class='ee-k'>type:</span><span class='ee-v'>Projection</span></li><li><span class='ee-k'>crs:</span><span class='ee-v'>EPSG:4326</span></li><li><label class='ee-shut'>transform: [1, 0, 0, 0, 1, 0]<input type='checkbox' class='ee-toggle'></label><ul><li><span class='ee-k'>0:</span><span class='ee-v'>1</span></li><li><span class='ee-k'>1:</span><span class='ee-v'>0</span></li><li><span class='ee-k'>2:</span><span class='ee-v'>0</span></li><li><span class='ee-k'>3:</span><span class='ee-v'>0</span></li><li><span class='ee-k'>4:</span><span class='ee-v'>1</span></li><li><span class='ee-k'>5:</span><span class='ee-v'>0</span></li></ul></li></ul></li></ul></div><script>function toggleHeader() {\n",
       "    const parent = this.parentElement;\n",
       "    parent.className = parent.className === \"ee-open\" ? \"ee-shut\" : \"ee-open\";\n",
       "}\n",
       "\n",
       "for (let c of document.getElementsByClassName(\"ee-toggle\")) {\n",
       "    c.onclick = toggleHeader;\n",
       "}</script></div>"
      ],
      "text/plain": [
       "<ee.projection.Projection at 0x19b3d2becd0>"
      ]
     },
     "metadata": {},
     "output_type": "display_data"
    }
   ],
   "source": [
    "pixel_area = ee.Image.pixelArea()\n",
    "display('Pixel area default projection', pixel_area.projection())"
   ]
  },
  {
   "cell_type": "code",
   "execution_count": 32,
   "id": "091bd327-c49b-40f6-b6f0-2b73e1fb334d",
   "metadata": {},
   "outputs": [
    {
     "data": {
      "text/html": [
       "\n",
       "            <style>\n",
       "                .geemap-dark {\n",
       "                    --jp-widgets-color: white;\n",
       "                    --jp-widgets-label-color: white;\n",
       "                    --jp-ui-font-color1: white;\n",
       "                    --jp-layout-color2: #454545;\n",
       "                    background-color: #383838;\n",
       "                }\n",
       "\n",
       "                .geemap-dark .jupyter-button {\n",
       "                    --jp-layout-color3: #383838;\n",
       "                }\n",
       "\n",
       "                .geemap-colab {\n",
       "                    background-color: var(--colab-primary-surface-color, white);\n",
       "                }\n",
       "\n",
       "                .geemap-colab .jupyter-button {\n",
       "                    --jp-layout-color3: var(--colab-primary-surface-color, white);\n",
       "                }\n",
       "            </style>\n",
       "            "
      ],
      "text/plain": [
       "<IPython.core.display.HTML object>"
      ]
     },
     "metadata": {},
     "output_type": "display_data"
    },
    {
     "data": {
      "text/plain": [
       "'Square meters NDBI builtup'"
      ]
     },
     "metadata": {},
     "output_type": "display_data"
    },
    {
     "data": {
      "text/html": [
       "<div><style>:root {\n",
       "  --font-color-primary: var(--jp-content-font-color0, rgba(0, 0, 0, 1));\n",
       "  --font-color-secondary: var(--jp-content-font-color2, rgba(0, 0, 0, 0.6));\n",
       "  --font-color-accent: rgba(123, 31, 162, 1);\n",
       "  --border-color: var(--jp-border-color2, #e0e0e0);\n",
       "  --background-color: var(--jp-layout-color0, white);\n",
       "  --background-color-row-even: var(--jp-layout-color1, white);\n",
       "  --background-color-row-odd: var(--jp-layout-color2, #eeeeee);\n",
       "}\n",
       "\n",
       "html[theme=\"dark\"],\n",
       "body[data-theme=\"dark\"],\n",
       "body.vscode-dark {\n",
       "  --font-color-primary: rgba(255, 255, 255, 1);\n",
       "  --font-color-secondary: rgba(255, 255, 255, 0.6);\n",
       "  --font-color-accent: rgb(173, 132, 190);\n",
       "  --border-color: #2e2e2e;\n",
       "  --background-color: #111111;\n",
       "  --background-color-row-even: #111111;\n",
       "  --background-color-row-odd: #313131;\n",
       "}\n",
       "\n",
       ".ee {\n",
       "  padding: 1em;\n",
       "  line-height: 1.5em;\n",
       "  min-width: 300px;\n",
       "  max-width: 1200px;\n",
       "  overflow-y: scroll;\n",
       "  max-height: 600px;\n",
       "  border: 1px solid var(--border-color);\n",
       "  font-family: monospace;\n",
       "}\n",
       "\n",
       ".ee li {\n",
       "  list-style-type: none;\n",
       "}\n",
       "\n",
       ".ee ul {\n",
       "  padding-left: 1.5em !important;\n",
       "  margin: 0;\n",
       "}\n",
       "\n",
       ".ee > ul {\n",
       "  padding-left: 0 !important;\n",
       "}\n",
       "\n",
       ".ee-open,\n",
       ".ee-shut {\n",
       "  color: var(--font-color-secondary);\n",
       "  cursor: pointer;\n",
       "  margin: 0;\n",
       "}\n",
       "\n",
       ".ee-open:hover,\n",
       ".ee-shut:hover {\n",
       "  color: var(--font-color-primary);\n",
       "}\n",
       "\n",
       ".ee-k {\n",
       "  color: var(--font-color-accent);\n",
       "  margin-right: 6px;\n",
       "}\n",
       "\n",
       ".ee-v {\n",
       "  color: var(--font-color-primary);\n",
       "}\n",
       "\n",
       ".ee-toggle {\n",
       "  display: none;\n",
       "}\n",
       "\n",
       ".ee-shut + ul {\n",
       "  display: none;\n",
       "}\n",
       "\n",
       ".ee-open + ul {\n",
       "  display: block;\n",
       "}\n",
       "\n",
       ".ee-shut::before {\n",
       "  display: inline-block;\n",
       "  content: \"▼\";\n",
       "  margin-right: 6px;\n",
       "  transform: rotate(-90deg);\n",
       "  transition: transform 0.2s;\n",
       "}\n",
       "\n",
       ".ee-open::before {\n",
       "  transform: rotate(0deg);\n",
       "  display: inline-block;\n",
       "  content: \"▼\";\n",
       "  margin-right: 6px;\n",
       "  transition: transform 0.2s;\n",
       "}\n",
       "</style><div class='ee'><ul><li><span class='ee-v'>189520860.2871576</span></li></ul></div><script>function toggleHeader() {\n",
       "    const parent = this.parentElement;\n",
       "    parent.className = parent.className === \"ee-open\" ? \"ee-shut\" : \"ee-open\";\n",
       "}\n",
       "\n",
       "for (let c of document.getElementsByClassName(\"ee-toggle\")) {\n",
       "    c.onclick = toggleHeader;\n",
       "}</script></div>"
      ],
      "text/plain": [
       "<ee.ee_number.Number at 0x19b3e9b3f10>"
      ]
     },
     "metadata": {},
     "output_type": "display_data"
    },
    {
     "data": {
      "text/plain": [
       "'Square kilometers NDBI builtup'"
      ]
     },
     "metadata": {},
     "output_type": "display_data"
    },
    {
     "data": {
      "text/html": [
       "<div><style>:root {\n",
       "  --font-color-primary: var(--jp-content-font-color0, rgba(0, 0, 0, 1));\n",
       "  --font-color-secondary: var(--jp-content-font-color2, rgba(0, 0, 0, 0.6));\n",
       "  --font-color-accent: rgba(123, 31, 162, 1);\n",
       "  --border-color: var(--jp-border-color2, #e0e0e0);\n",
       "  --background-color: var(--jp-layout-color0, white);\n",
       "  --background-color-row-even: var(--jp-layout-color1, white);\n",
       "  --background-color-row-odd: var(--jp-layout-color2, #eeeeee);\n",
       "}\n",
       "\n",
       "html[theme=\"dark\"],\n",
       "body[data-theme=\"dark\"],\n",
       "body.vscode-dark {\n",
       "  --font-color-primary: rgba(255, 255, 255, 1);\n",
       "  --font-color-secondary: rgba(255, 255, 255, 0.6);\n",
       "  --font-color-accent: rgb(173, 132, 190);\n",
       "  --border-color: #2e2e2e;\n",
       "  --background-color: #111111;\n",
       "  --background-color-row-even: #111111;\n",
       "  --background-color-row-odd: #313131;\n",
       "}\n",
       "\n",
       ".ee {\n",
       "  padding: 1em;\n",
       "  line-height: 1.5em;\n",
       "  min-width: 300px;\n",
       "  max-width: 1200px;\n",
       "  overflow-y: scroll;\n",
       "  max-height: 600px;\n",
       "  border: 1px solid var(--border-color);\n",
       "  font-family: monospace;\n",
       "}\n",
       "\n",
       ".ee li {\n",
       "  list-style-type: none;\n",
       "}\n",
       "\n",
       ".ee ul {\n",
       "  padding-left: 1.5em !important;\n",
       "  margin: 0;\n",
       "}\n",
       "\n",
       ".ee > ul {\n",
       "  padding-left: 0 !important;\n",
       "}\n",
       "\n",
       ".ee-open,\n",
       ".ee-shut {\n",
       "  color: var(--font-color-secondary);\n",
       "  cursor: pointer;\n",
       "  margin: 0;\n",
       "}\n",
       "\n",
       ".ee-open:hover,\n",
       ".ee-shut:hover {\n",
       "  color: var(--font-color-primary);\n",
       "}\n",
       "\n",
       ".ee-k {\n",
       "  color: var(--font-color-accent);\n",
       "  margin-right: 6px;\n",
       "}\n",
       "\n",
       ".ee-v {\n",
       "  color: var(--font-color-primary);\n",
       "}\n",
       "\n",
       ".ee-toggle {\n",
       "  display: none;\n",
       "}\n",
       "\n",
       ".ee-shut + ul {\n",
       "  display: none;\n",
       "}\n",
       "\n",
       ".ee-open + ul {\n",
       "  display: block;\n",
       "}\n",
       "\n",
       ".ee-shut::before {\n",
       "  display: inline-block;\n",
       "  content: \"▼\";\n",
       "  margin-right: 6px;\n",
       "  transform: rotate(-90deg);\n",
       "  transition: transform 0.2s;\n",
       "}\n",
       "\n",
       ".ee-open::before {\n",
       "  transform: rotate(0deg);\n",
       "  display: inline-block;\n",
       "  content: \"▼\";\n",
       "  margin-right: 6px;\n",
       "  transition: transform 0.2s;\n",
       "}\n",
       "</style><div class='ee'><ul><li><span class='ee-v'>189.5208602871576</span></li></ul></div><script>function toggleHeader() {\n",
       "    const parent = this.parentElement;\n",
       "    parent.className = parent.className === \"ee-open\" ? \"ee-shut\" : \"ee-open\";\n",
       "}\n",
       "\n",
       "for (let c of document.getElementsByClassName(\"ee-toggle\")) {\n",
       "    c.onclick = toggleHeader;\n",
       "}</script></div>"
      ],
      "text/plain": [
       "<ee.ee_number.Number at 0x19b3e9c9250>"
      ]
     },
     "metadata": {},
     "output_type": "display_data"
    }
   ],
   "source": [
    "nonbuiltup_mask = NDBI.gt(-0.002)\n",
    "builtup_NDBI = pixel_area.updateMask(nonbuiltup_mask)\n",
    "m.addLayer(builtup_NDBI.clip(roi), {'palette': 'yellow'}, 'builtup_NDBI')\n",
    "area = builtup_NDBI.reduceRegion(\n",
    "    reducer=ee.Reducer.sum(),\n",
    "    geometry=roi,\n",
    "    scale=10,\n",
    "    # crs=BoolNDBI.projection(),  # DEM coordinate reference system\n",
    "    # crsTransform=BoolNDBI.projection().getInfo()['transform'],  # DEM grid alignment\n",
    "    maxPixels=1e20,\n",
    ");\n",
    "square_meters = area.getNumber('area')\n",
    "square_kilometers = square_meters.divide(1e6)\n",
    "display('Square meters NDBI builtup', square_meters)\n",
    "display('Square kilometers NDBI builtup', square_kilometers)"
   ]
  },
  {
   "cell_type": "code",
   "execution_count": 33,
   "id": "b582c602-dfb9-4f36-9284-429212c75584",
   "metadata": {},
   "outputs": [
    {
     "data": {
      "text/html": [
       "\n",
       "            <style>\n",
       "                .geemap-dark {\n",
       "                    --jp-widgets-color: white;\n",
       "                    --jp-widgets-label-color: white;\n",
       "                    --jp-ui-font-color1: white;\n",
       "                    --jp-layout-color2: #454545;\n",
       "                    background-color: #383838;\n",
       "                }\n",
       "\n",
       "                .geemap-dark .jupyter-button {\n",
       "                    --jp-layout-color3: #383838;\n",
       "                }\n",
       "\n",
       "                .geemap-colab {\n",
       "                    background-color: var(--colab-primary-surface-color, white);\n",
       "                }\n",
       "\n",
       "                .geemap-colab .jupyter-button {\n",
       "                    --jp-layout-color3: var(--colab-primary-surface-color, white);\n",
       "                }\n",
       "            </style>\n",
       "            "
      ],
      "text/plain": [
       "<IPython.core.display.HTML object>"
      ]
     },
     "metadata": {},
     "output_type": "display_data"
    },
    {
     "data": {
      "text/plain": [
       "'Square meters BU builtup'"
      ]
     },
     "metadata": {},
     "output_type": "display_data"
    },
    {
     "data": {
      "text/html": [
       "<div><style>:root {\n",
       "  --font-color-primary: var(--jp-content-font-color0, rgba(0, 0, 0, 1));\n",
       "  --font-color-secondary: var(--jp-content-font-color2, rgba(0, 0, 0, 0.6));\n",
       "  --font-color-accent: rgba(123, 31, 162, 1);\n",
       "  --border-color: var(--jp-border-color2, #e0e0e0);\n",
       "  --background-color: var(--jp-layout-color0, white);\n",
       "  --background-color-row-even: var(--jp-layout-color1, white);\n",
       "  --background-color-row-odd: var(--jp-layout-color2, #eeeeee);\n",
       "}\n",
       "\n",
       "html[theme=\"dark\"],\n",
       "body[data-theme=\"dark\"],\n",
       "body.vscode-dark {\n",
       "  --font-color-primary: rgba(255, 255, 255, 1);\n",
       "  --font-color-secondary: rgba(255, 255, 255, 0.6);\n",
       "  --font-color-accent: rgb(173, 132, 190);\n",
       "  --border-color: #2e2e2e;\n",
       "  --background-color: #111111;\n",
       "  --background-color-row-even: #111111;\n",
       "  --background-color-row-odd: #313131;\n",
       "}\n",
       "\n",
       ".ee {\n",
       "  padding: 1em;\n",
       "  line-height: 1.5em;\n",
       "  min-width: 300px;\n",
       "  max-width: 1200px;\n",
       "  overflow-y: scroll;\n",
       "  max-height: 600px;\n",
       "  border: 1px solid var(--border-color);\n",
       "  font-family: monospace;\n",
       "}\n",
       "\n",
       ".ee li {\n",
       "  list-style-type: none;\n",
       "}\n",
       "\n",
       ".ee ul {\n",
       "  padding-left: 1.5em !important;\n",
       "  margin: 0;\n",
       "}\n",
       "\n",
       ".ee > ul {\n",
       "  padding-left: 0 !important;\n",
       "}\n",
       "\n",
       ".ee-open,\n",
       ".ee-shut {\n",
       "  color: var(--font-color-secondary);\n",
       "  cursor: pointer;\n",
       "  margin: 0;\n",
       "}\n",
       "\n",
       ".ee-open:hover,\n",
       ".ee-shut:hover {\n",
       "  color: var(--font-color-primary);\n",
       "}\n",
       "\n",
       ".ee-k {\n",
       "  color: var(--font-color-accent);\n",
       "  margin-right: 6px;\n",
       "}\n",
       "\n",
       ".ee-v {\n",
       "  color: var(--font-color-primary);\n",
       "}\n",
       "\n",
       ".ee-toggle {\n",
       "  display: none;\n",
       "}\n",
       "\n",
       ".ee-shut + ul {\n",
       "  display: none;\n",
       "}\n",
       "\n",
       ".ee-open + ul {\n",
       "  display: block;\n",
       "}\n",
       "\n",
       ".ee-shut::before {\n",
       "  display: inline-block;\n",
       "  content: \"▼\";\n",
       "  margin-right: 6px;\n",
       "  transform: rotate(-90deg);\n",
       "  transition: transform 0.2s;\n",
       "}\n",
       "\n",
       ".ee-open::before {\n",
       "  transform: rotate(0deg);\n",
       "  display: inline-block;\n",
       "  content: \"▼\";\n",
       "  margin-right: 6px;\n",
       "  transition: transform 0.2s;\n",
       "}\n",
       "</style><div class='ee'><ul><li><span class='ee-v'>184767892.41080987</span></li></ul></div><script>function toggleHeader() {\n",
       "    const parent = this.parentElement;\n",
       "    parent.className = parent.className === \"ee-open\" ? \"ee-shut\" : \"ee-open\";\n",
       "}\n",
       "\n",
       "for (let c of document.getElementsByClassName(\"ee-toggle\")) {\n",
       "    c.onclick = toggleHeader;\n",
       "}</script></div>"
      ],
      "text/plain": [
       "<ee.ee_number.Number at 0x19b3ea1a2d0>"
      ]
     },
     "metadata": {},
     "output_type": "display_data"
    },
    {
     "data": {
      "text/plain": [
       "'Square kilometers BU builtup'"
      ]
     },
     "metadata": {},
     "output_type": "display_data"
    },
    {
     "data": {
      "text/html": [
       "<div><style>:root {\n",
       "  --font-color-primary: var(--jp-content-font-color0, rgba(0, 0, 0, 1));\n",
       "  --font-color-secondary: var(--jp-content-font-color2, rgba(0, 0, 0, 0.6));\n",
       "  --font-color-accent: rgba(123, 31, 162, 1);\n",
       "  --border-color: var(--jp-border-color2, #e0e0e0);\n",
       "  --background-color: var(--jp-layout-color0, white);\n",
       "  --background-color-row-even: var(--jp-layout-color1, white);\n",
       "  --background-color-row-odd: var(--jp-layout-color2, #eeeeee);\n",
       "}\n",
       "\n",
       "html[theme=\"dark\"],\n",
       "body[data-theme=\"dark\"],\n",
       "body.vscode-dark {\n",
       "  --font-color-primary: rgba(255, 255, 255, 1);\n",
       "  --font-color-secondary: rgba(255, 255, 255, 0.6);\n",
       "  --font-color-accent: rgb(173, 132, 190);\n",
       "  --border-color: #2e2e2e;\n",
       "  --background-color: #111111;\n",
       "  --background-color-row-even: #111111;\n",
       "  --background-color-row-odd: #313131;\n",
       "}\n",
       "\n",
       ".ee {\n",
       "  padding: 1em;\n",
       "  line-height: 1.5em;\n",
       "  min-width: 300px;\n",
       "  max-width: 1200px;\n",
       "  overflow-y: scroll;\n",
       "  max-height: 600px;\n",
       "  border: 1px solid var(--border-color);\n",
       "  font-family: monospace;\n",
       "}\n",
       "\n",
       ".ee li {\n",
       "  list-style-type: none;\n",
       "}\n",
       "\n",
       ".ee ul {\n",
       "  padding-left: 1.5em !important;\n",
       "  margin: 0;\n",
       "}\n",
       "\n",
       ".ee > ul {\n",
       "  padding-left: 0 !important;\n",
       "}\n",
       "\n",
       ".ee-open,\n",
       ".ee-shut {\n",
       "  color: var(--font-color-secondary);\n",
       "  cursor: pointer;\n",
       "  margin: 0;\n",
       "}\n",
       "\n",
       ".ee-open:hover,\n",
       ".ee-shut:hover {\n",
       "  color: var(--font-color-primary);\n",
       "}\n",
       "\n",
       ".ee-k {\n",
       "  color: var(--font-color-accent);\n",
       "  margin-right: 6px;\n",
       "}\n",
       "\n",
       ".ee-v {\n",
       "  color: var(--font-color-primary);\n",
       "}\n",
       "\n",
       ".ee-toggle {\n",
       "  display: none;\n",
       "}\n",
       "\n",
       ".ee-shut + ul {\n",
       "  display: none;\n",
       "}\n",
       "\n",
       ".ee-open + ul {\n",
       "  display: block;\n",
       "}\n",
       "\n",
       ".ee-shut::before {\n",
       "  display: inline-block;\n",
       "  content: \"▼\";\n",
       "  margin-right: 6px;\n",
       "  transform: rotate(-90deg);\n",
       "  transition: transform 0.2s;\n",
       "}\n",
       "\n",
       ".ee-open::before {\n",
       "  transform: rotate(0deg);\n",
       "  display: inline-block;\n",
       "  content: \"▼\";\n",
       "  margin-right: 6px;\n",
       "  transition: transform 0.2s;\n",
       "}\n",
       "</style><div class='ee'><ul><li><span class='ee-v'>184.76789241080988</span></li></ul></div><script>function toggleHeader() {\n",
       "    const parent = this.parentElement;\n",
       "    parent.className = parent.className === \"ee-open\" ? \"ee-shut\" : \"ee-open\";\n",
       "}\n",
       "\n",
       "for (let c of document.getElementsByClassName(\"ee-toggle\")) {\n",
       "    c.onclick = toggleHeader;\n",
       "}</script></div>"
      ],
      "text/plain": [
       "<ee.ee_number.Number at 0x19b3eac1890>"
      ]
     },
     "metadata": {},
     "output_type": "display_data"
    }
   ],
   "source": [
    "nonbuiltup_mask = BU.gt(-0.140)\n",
    "builtup_BU = pixel_area.updateMask(nonbuiltup_mask)\n",
    "m.addLayer(builtup_BU.clip(roi), {'palette': 'yellow'}, 'builtup_NDBI')\n",
    "area = builtup_BU.reduceRegion(\n",
    "    reducer=ee.Reducer.sum(),\n",
    "    geometry=roi,\n",
    "    scale=10,\n",
    "    # crs=BoolNDBI.projection(),  # DEM coordinate reference system\n",
    "    # crsTransform=BoolNDBI.projection().getInfo()['transform'],  # DEM grid alignment\n",
    "    maxPixels=1e20,\n",
    ");\n",
    "square_meters = area.getNumber('area')\n",
    "square_kilometers = square_meters.divide(1e6)\n",
    "display('Square meters BU builtup', square_meters)\n",
    "display('Square kilometers BU builtup', square_kilometers)"
   ]
  },
  {
   "cell_type": "code",
   "execution_count": 34,
   "id": "ba41a9d6-6592-428a-b6cc-af11dc5cf7eb",
   "metadata": {},
   "outputs": [
    {
     "data": {
      "text/html": [
       "\n",
       "            <style>\n",
       "                .geemap-dark {\n",
       "                    --jp-widgets-color: white;\n",
       "                    --jp-widgets-label-color: white;\n",
       "                    --jp-ui-font-color1: white;\n",
       "                    --jp-layout-color2: #454545;\n",
       "                    background-color: #383838;\n",
       "                }\n",
       "\n",
       "                .geemap-dark .jupyter-button {\n",
       "                    --jp-layout-color3: #383838;\n",
       "                }\n",
       "\n",
       "                .geemap-colab {\n",
       "                    background-color: var(--colab-primary-surface-color, white);\n",
       "                }\n",
       "\n",
       "                .geemap-colab .jupyter-button {\n",
       "                    --jp-layout-color3: var(--colab-primary-surface-color, white);\n",
       "                }\n",
       "            </style>\n",
       "            "
      ],
      "text/plain": [
       "<IPython.core.display.HTML object>"
      ]
     },
     "metadata": {},
     "output_type": "display_data"
    },
    {
     "data": {
      "text/plain": [
       "'Square meters VBI builtup'"
      ]
     },
     "metadata": {},
     "output_type": "display_data"
    },
    {
     "data": {
      "text/html": [
       "<div><style>:root {\n",
       "  --font-color-primary: var(--jp-content-font-color0, rgba(0, 0, 0, 1));\n",
       "  --font-color-secondary: var(--jp-content-font-color2, rgba(0, 0, 0, 0.6));\n",
       "  --font-color-accent: rgba(123, 31, 162, 1);\n",
       "  --border-color: var(--jp-border-color2, #e0e0e0);\n",
       "  --background-color: var(--jp-layout-color0, white);\n",
       "  --background-color-row-even: var(--jp-layout-color1, white);\n",
       "  --background-color-row-odd: var(--jp-layout-color2, #eeeeee);\n",
       "}\n",
       "\n",
       "html[theme=\"dark\"],\n",
       "body[data-theme=\"dark\"],\n",
       "body.vscode-dark {\n",
       "  --font-color-primary: rgba(255, 255, 255, 1);\n",
       "  --font-color-secondary: rgba(255, 255, 255, 0.6);\n",
       "  --font-color-accent: rgb(173, 132, 190);\n",
       "  --border-color: #2e2e2e;\n",
       "  --background-color: #111111;\n",
       "  --background-color-row-even: #111111;\n",
       "  --background-color-row-odd: #313131;\n",
       "}\n",
       "\n",
       ".ee {\n",
       "  padding: 1em;\n",
       "  line-height: 1.5em;\n",
       "  min-width: 300px;\n",
       "  max-width: 1200px;\n",
       "  overflow-y: scroll;\n",
       "  max-height: 600px;\n",
       "  border: 1px solid var(--border-color);\n",
       "  font-family: monospace;\n",
       "}\n",
       "\n",
       ".ee li {\n",
       "  list-style-type: none;\n",
       "}\n",
       "\n",
       ".ee ul {\n",
       "  padding-left: 1.5em !important;\n",
       "  margin: 0;\n",
       "}\n",
       "\n",
       ".ee > ul {\n",
       "  padding-left: 0 !important;\n",
       "}\n",
       "\n",
       ".ee-open,\n",
       ".ee-shut {\n",
       "  color: var(--font-color-secondary);\n",
       "  cursor: pointer;\n",
       "  margin: 0;\n",
       "}\n",
       "\n",
       ".ee-open:hover,\n",
       ".ee-shut:hover {\n",
       "  color: var(--font-color-primary);\n",
       "}\n",
       "\n",
       ".ee-k {\n",
       "  color: var(--font-color-accent);\n",
       "  margin-right: 6px;\n",
       "}\n",
       "\n",
       ".ee-v {\n",
       "  color: var(--font-color-primary);\n",
       "}\n",
       "\n",
       ".ee-toggle {\n",
       "  display: none;\n",
       "}\n",
       "\n",
       ".ee-shut + ul {\n",
       "  display: none;\n",
       "}\n",
       "\n",
       ".ee-open + ul {\n",
       "  display: block;\n",
       "}\n",
       "\n",
       ".ee-shut::before {\n",
       "  display: inline-block;\n",
       "  content: \"▼\";\n",
       "  margin-right: 6px;\n",
       "  transform: rotate(-90deg);\n",
       "  transition: transform 0.2s;\n",
       "}\n",
       "\n",
       ".ee-open::before {\n",
       "  transform: rotate(0deg);\n",
       "  display: inline-block;\n",
       "  content: \"▼\";\n",
       "  margin-right: 6px;\n",
       "  transition: transform 0.2s;\n",
       "}\n",
       "</style><div class='ee'><ul><li><span class='ee-v'>189543813.6112381</span></li></ul></div><script>function toggleHeader() {\n",
       "    const parent = this.parentElement;\n",
       "    parent.className = parent.className === \"ee-open\" ? \"ee-shut\" : \"ee-open\";\n",
       "}\n",
       "\n",
       "for (let c of document.getElementsByClassName(\"ee-toggle\")) {\n",
       "    c.onclick = toggleHeader;\n",
       "}</script></div>"
      ],
      "text/plain": [
       "<ee.ee_number.Number at 0x19b3ead22d0>"
      ]
     },
     "metadata": {},
     "output_type": "display_data"
    },
    {
     "data": {
      "text/plain": [
       "'Square kilometers VBI builtup'"
      ]
     },
     "metadata": {},
     "output_type": "display_data"
    },
    {
     "data": {
      "text/html": [
       "<div><style>:root {\n",
       "  --font-color-primary: var(--jp-content-font-color0, rgba(0, 0, 0, 1));\n",
       "  --font-color-secondary: var(--jp-content-font-color2, rgba(0, 0, 0, 0.6));\n",
       "  --font-color-accent: rgba(123, 31, 162, 1);\n",
       "  --border-color: var(--jp-border-color2, #e0e0e0);\n",
       "  --background-color: var(--jp-layout-color0, white);\n",
       "  --background-color-row-even: var(--jp-layout-color1, white);\n",
       "  --background-color-row-odd: var(--jp-layout-color2, #eeeeee);\n",
       "}\n",
       "\n",
       "html[theme=\"dark\"],\n",
       "body[data-theme=\"dark\"],\n",
       "body.vscode-dark {\n",
       "  --font-color-primary: rgba(255, 255, 255, 1);\n",
       "  --font-color-secondary: rgba(255, 255, 255, 0.6);\n",
       "  --font-color-accent: rgb(173, 132, 190);\n",
       "  --border-color: #2e2e2e;\n",
       "  --background-color: #111111;\n",
       "  --background-color-row-even: #111111;\n",
       "  --background-color-row-odd: #313131;\n",
       "}\n",
       "\n",
       ".ee {\n",
       "  padding: 1em;\n",
       "  line-height: 1.5em;\n",
       "  min-width: 300px;\n",
       "  max-width: 1200px;\n",
       "  overflow-y: scroll;\n",
       "  max-height: 600px;\n",
       "  border: 1px solid var(--border-color);\n",
       "  font-family: monospace;\n",
       "}\n",
       "\n",
       ".ee li {\n",
       "  list-style-type: none;\n",
       "}\n",
       "\n",
       ".ee ul {\n",
       "  padding-left: 1.5em !important;\n",
       "  margin: 0;\n",
       "}\n",
       "\n",
       ".ee > ul {\n",
       "  padding-left: 0 !important;\n",
       "}\n",
       "\n",
       ".ee-open,\n",
       ".ee-shut {\n",
       "  color: var(--font-color-secondary);\n",
       "  cursor: pointer;\n",
       "  margin: 0;\n",
       "}\n",
       "\n",
       ".ee-open:hover,\n",
       ".ee-shut:hover {\n",
       "  color: var(--font-color-primary);\n",
       "}\n",
       "\n",
       ".ee-k {\n",
       "  color: var(--font-color-accent);\n",
       "  margin-right: 6px;\n",
       "}\n",
       "\n",
       ".ee-v {\n",
       "  color: var(--font-color-primary);\n",
       "}\n",
       "\n",
       ".ee-toggle {\n",
       "  display: none;\n",
       "}\n",
       "\n",
       ".ee-shut + ul {\n",
       "  display: none;\n",
       "}\n",
       "\n",
       ".ee-open + ul {\n",
       "  display: block;\n",
       "}\n",
       "\n",
       ".ee-shut::before {\n",
       "  display: inline-block;\n",
       "  content: \"▼\";\n",
       "  margin-right: 6px;\n",
       "  transform: rotate(-90deg);\n",
       "  transition: transform 0.2s;\n",
       "}\n",
       "\n",
       ".ee-open::before {\n",
       "  transform: rotate(0deg);\n",
       "  display: inline-block;\n",
       "  content: \"▼\";\n",
       "  margin-right: 6px;\n",
       "  transition: transform 0.2s;\n",
       "}\n",
       "</style><div class='ee'><ul><li><span class='ee-v'>189.54381361123808</span></li></ul></div><script>function toggleHeader() {\n",
       "    const parent = this.parentElement;\n",
       "    parent.className = parent.className === \"ee-open\" ? \"ee-shut\" : \"ee-open\";\n",
       "}\n",
       "\n",
       "for (let c of document.getElementsByClassName(\"ee-toggle\")) {\n",
       "    c.onclick = toggleHeader;\n",
       "}</script></div>"
      ],
      "text/plain": [
       "<ee.ee_number.Number at 0x19b3d306890>"
      ]
     },
     "metadata": {},
     "output_type": "display_data"
    }
   ],
   "source": [
    "nonbuiltup_mask = VBI.gt(-0.373)\n",
    "builtup_VBI = pixel_area.updateMask(nonbuiltup_mask)\n",
    "m.addLayer(builtup_VBI.clip(roi), {'palette': 'yellow'}, 'builtup_NDBI')\n",
    "area = builtup_VBI.reduceRegion(\n",
    "    reducer=ee.Reducer.sum(),\n",
    "    geometry=roi,\n",
    "    scale=10,\n",
    "    # crs=BoolNDBI.projection(),  # DEM coordinate reference system\n",
    "    # crsTransform=BoolNDBI.projection().getInfo()['transform'],  # DEM grid alignment\n",
    "    maxPixels=1e20,\n",
    ");\n",
    "square_meters = area.getNumber('area')\n",
    "square_kilometers = square_meters.divide(1e6)\n",
    "display('Square meters VBI builtup', square_meters)\n",
    "display('Square kilometers VBI builtup', square_kilometers)"
   ]
  },
  {
   "cell_type": "code",
   "execution_count": 35,
   "id": "2e8a5887-2101-4b2d-975e-0a92a93eb20e",
   "metadata": {},
   "outputs": [
    {
     "data": {
      "text/html": [
       "\n",
       "            <style>\n",
       "                .geemap-dark {\n",
       "                    --jp-widgets-color: white;\n",
       "                    --jp-widgets-label-color: white;\n",
       "                    --jp-ui-font-color1: white;\n",
       "                    --jp-layout-color2: #454545;\n",
       "                    background-color: #383838;\n",
       "                }\n",
       "\n",
       "                .geemap-dark .jupyter-button {\n",
       "                    --jp-layout-color3: #383838;\n",
       "                }\n",
       "\n",
       "                .geemap-colab {\n",
       "                    background-color: var(--colab-primary-surface-color, white);\n",
       "                }\n",
       "\n",
       "                .geemap-colab .jupyter-button {\n",
       "                    --jp-layout-color3: var(--colab-primary-surface-color, white);\n",
       "                }\n",
       "            </style>\n",
       "            "
      ],
      "text/plain": [
       "<IPython.core.display.HTML object>"
      ]
     },
     "metadata": {},
     "output_type": "display_data"
    },
    {
     "name": "stdout",
     "output_type": "stream",
     "text": [
      "Study Area in square meters: 600994333.2642136\n",
      "Study Area in square kilometers: 600.9943332642135\n"
     ]
    }
   ],
   "source": [
    "# Calculate the size of the study area\n",
    "roi_geom = roi.geometry()\n",
    "\n",
    "# Calculate area in square meters\n",
    "area_m2 = roi_geom.area(1)\n",
    "\n",
    "# Convert to square kilometers\n",
    "area_km2 = area_m2.divide(1e6)\n",
    "\n",
    "# Print the area\n",
    "print(\"Study Area in square meters:\", area_m2.getInfo())\n",
    "print(\"Study Area in square kilometers:\", area_km2.getInfo())"
   ]
  },
  {
   "cell_type": "markdown",
   "id": "095bc26f-23c2-42e3-8f19-96c7716b27f9",
   "metadata": {},
   "source": [
    "### 3.3 generate TOC plot"
   ]
  },
  {
   "cell_type": "code",
   "execution_count": 64,
   "id": "53fe2bac-005a-4b11-95ba-7de81d9c5a87",
   "metadata": {},
   "outputs": [
    {
     "data": {
      "text/html": [
       "\n",
       "            <style>\n",
       "                .geemap-dark {\n",
       "                    --jp-widgets-color: white;\n",
       "                    --jp-widgets-label-color: white;\n",
       "                    --jp-ui-font-color1: white;\n",
       "                    --jp-layout-color2: #454545;\n",
       "                    background-color: #383838;\n",
       "                }\n",
       "\n",
       "                .geemap-dark .jupyter-button {\n",
       "                    --jp-layout-color3: #383838;\n",
       "                }\n",
       "\n",
       "                .geemap-colab {\n",
       "                    background-color: var(--colab-primary-surface-color, white);\n",
       "                }\n",
       "\n",
       "                .geemap-colab .jupyter-button {\n",
       "                    --jp-layout-color3: var(--colab-primary-surface-color, white);\n",
       "                }\n",
       "            </style>\n",
       "            "
      ],
      "text/plain": [
       "<IPython.core.display.HTML object>"
      ]
     },
     "metadata": {},
     "output_type": "display_data"
    }
   ],
   "source": [
    "# Functions to generate TOC (code from Liu & Pontius 2021)\n",
    "import numpy as np\n",
    "from matplotlib import pyplot as plt\n",
    "from matplotlib import colors as matpltColors\n",
    "\n",
    "class TOC_painter:\n",
    "    def __init__(self, TOC_list=[], index_names=[], color_list=[], marker_list=[], line_list=[], boolUniform=False, boolCorrectCorner=False):\n",
    "        if type(TOC_list) != list:\n",
    "            self.TOC_list = [TOC_list]\n",
    "        else:\n",
    "            self.TOC_list = TOC_list\n",
    "        if type(color_list) != list:\n",
    "            self.color_list = [color_list]\n",
    "        else:\n",
    "            self.color_list = color_list\n",
    "        if type(marker_list) != list:\n",
    "            self.marker_list = [marker_list]\n",
    "        else:\n",
    "            self.marker_list = marker_list\n",
    "        if type(line_list) != list:\n",
    "            self.line_list = [line_list]\n",
    "        else:\n",
    "            self.line_list = line_list\n",
    "        if type(index_names) != list:\n",
    "            self.index_names = [index_names]\n",
    "        else:\n",
    "            self.index_names = index_names\n",
    "\n",
    "        self.totalNum = 0\n",
    "        self.presenceInY = 0\n",
    "        self.TOCNum = 0\n",
    "        self.curve_list = []\n",
    "        if len(self.TOC_list) > 0:\n",
    "            if len(self.index_names) == 0:\n",
    "                self.index_names = [\"TOC{0}\".format(i + 1) for i in range(len(self.TOC_list))]\n",
    "            if len(self.color_list) == 0:\n",
    "                self.color_list = [\"\" for _ in range(len(self.TOC_list))]\n",
    "            if len(self.marker_list) == 0:\n",
    "                self.marker_list = [\"\" for _ in range(len(self.TOC_list))]\n",
    "            if len(self.line_list) == 0:\n",
    "                self.line_list = [\"-\" for _ in range(len(self.TOC_list))]\n",
    "            for i in range(len(self.TOC_list)):\n",
    "                item_dic = {\n",
    "                    'TOCX': self.TOC_list[i].TOCX,\n",
    "                    'TOCY': self.TOC_list[i].TOCY,\n",
    "                    'threshold': self.TOC_list[i].thresholdLabel,\n",
    "                    'color': self.color_list[i],\n",
    "                    'marker': self.marker_list[i],\n",
    "                    'line': self.line_list[i],\n",
    "                    'name': self.index_names[i]\n",
    "                }\n",
    "                self.curve_list.append(item_dic)\n",
    "            self.__update_status()\n",
    "\n",
    "        self.boolUniform = boolUniform\n",
    "        self.boolCorrectCorner = boolCorrectCorner\n",
    "        self.fig, self.ax = plt.subplots()\n",
    "\n",
    "    def __update_status(self):\n",
    "        self.TOCNum = len(self.curve_list)\n",
    "        if self.TOCNum > 0:\n",
    "            self.totalNum = self.curve_list[0]['TOCX'][0, -1]\n",
    "            self.presenceInY = self.curve_list[0]['TOCY'][0, -1]\n",
    "\n",
    "    def __addOne(self, index):\n",
    "        Xlist = self.curve_list[index]['TOCX']\n",
    "        Ylist = self.curve_list[index]['TOCY']\n",
    "        color = self.curve_list[index]['color']\n",
    "        marker = self.curve_list[index]['marker']\n",
    "        line = self.curve_list[index]['line']\n",
    "        Name = self.curve_list[index]['name']\n",
    "        symbol = marker + line\n",
    "        if len(color) == 0:\n",
    "            plt.plot(Xlist[0, :], Ylist[0, :], symbol, label=Name, clip_on=False)\n",
    "        else:\n",
    "            plt.plot(Xlist[0, :], Ylist[0, :], symbol, color=color, label=Name, clip_on=False)\n",
    "        handles, labels = plt.gca().get_legend_handles_labels()\n",
    "        numCurve = len(handles)\n",
    "        if labels[0] == 'Uniform':\n",
    "            order = list(range(1, numCurve))\n",
    "            order.extend([0])\n",
    "        else:\n",
    "            order = list(range(0, numCurve))\n",
    "        plt.gca().legend([handles[idx] for idx in order], [labels[idx] for idx in order], loc='center left', bbox_to_anchor=(1, 0.5))\n",
    "\n",
    "    def __format_coordinates(self, TOCX, TOCY):\n",
    "        TOCX = np.array(TOCX).flatten()\n",
    "        TOCX = TOCX.reshape((1, TOCX.shape[0]))\n",
    "        TOCY = np.array(TOCY).flatten()\n",
    "        TOCY = TOCY.reshape((1, TOCY.shape[0]))\n",
    "        return TOCX, TOCY\n",
    "\n",
    "    def add_correct_corner(self, index):\n",
    "        TOCX = self.curve_list[index]['TOCX']\n",
    "        TOCY = self.curve_list[index]['TOCY']\n",
    "        presenceInY = TOCY[0, -1]\n",
    "        bool_presence = (TOCX <= presenceInY).astype(int)\n",
    "        corner_index = bool_presence.sum() - 1\n",
    "        if corner_index == TOCY.shape[1] - 1:\n",
    "            y_res = TOCX[0, -1]\n",
    "        else:\n",
    "            y_res = (TOCY[0, corner_index + 1] - TOCY[0, corner_index]) * 1.0 / (\n",
    "                        TOCX[0, corner_index + 1] - TOCX[0, corner_index]) * (presenceInY - TOCX[0, corner_index]) + TOCY[0, corner_index] * 1.0\n",
    "        plt.plot(presenceInY, y_res, 'r*', zorder=20)\n",
    "\n",
    "    def add_all_correct_corner(self):\n",
    "        for i in range(self.TOCNum):\n",
    "            self.add_correct_corner(i)\n",
    "\n",
    "    def add_TOC(self, TOC, index_name=None, color='', marker='', line='-'):\n",
    "        self.__update_status()\n",
    "        if index_name is None:\n",
    "            index_list = [j['name'] for j in self.curve_list]\n",
    "            for i in range(1, self.TOCNum + 2):\n",
    "                if 'TOC' + str(i) not in index_list:\n",
    "                    index_name = 'TOC' + str(i)\n",
    "                    break\n",
    "        item_dic = {\n",
    "            'TOCX': TOC.TOCX,\n",
    "            'TOCY': TOC.TOCY,\n",
    "            'threshold': TOC.thresholdLabel,\n",
    "            'color': color,\n",
    "            'marker': marker,\n",
    "            'line': line,\n",
    "            'name': index_name\n",
    "        }\n",
    "        self.curve_list.append(item_dic)\n",
    "        self.__update_status()\n",
    "\n",
    "    def add_TOC_coor(self, TOCX, TOCY, threshold=[], index_name=None, color='', marker='', line='-'):\n",
    "        self.__update_status()\n",
    "        if index_name is None:\n",
    "            index_list = [j['name'] for j in self.curve_list]\n",
    "            for i in range(1, self.TOCNum + 2):\n",
    "                if 'TOC' + str(i) not in index_list:\n",
    "                    index_name = 'TOC' + str(i)\n",
    "                    break\n",
    "        TOCX, TOCY = self.__format_coordinates(TOCX, TOCY)\n",
    "        item_dic = {\n",
    "            'TOCX': TOCX,\n",
    "            'TOCY': TOCY,\n",
    "            'threshold': threshold,\n",
    "            'color': color,\n",
    "            'marker': marker,\n",
    "            'line': line,\n",
    "            'name': index_name\n",
    "        }\n",
    "        self.curve_list.append(item_dic)\n",
    "        self.__update_status()\n",
    "\n",
    "    def paint(self):\n",
    "        self.__update_status()\n",
    "        cmap = matpltColors.ListedColormap(['#e0e0e0'])\n",
    "\n",
    "        # Define vertices for the triangles\n",
    "        vertices = np.array([[self.totalNum - self.presenceInY, 0],\n",
    "                             [self.totalNum, 0],\n",
    "                             [self.totalNum, self.presenceInY],\n",
    "                             [0, 0],\n",
    "                             [0, self.presenceInY],\n",
    "                             [self.presenceInY, self.presenceInY]])\n",
    "\n",
    "        # Define the triangles using vertex indices\n",
    "        triangles = np.array([[0, 1, 2],\n",
    "                              [3, 4, 5]])\n",
    "\n",
    "        # Define the face colors, one for each triangle\n",
    "        facecolors = np.array([1, 1])  # Array length must match the number of triangles\n",
    "\n",
    "        plt.tripcolor(vertices[:, 0], vertices[:, 1], triangles, facecolors=facecolors, edgecolor=\"k\", lw=0, cmap=cmap)\n",
    "\n",
    "        plt.axis('square')\n",
    "        plt.axis([0, self.totalNum, 0, self.presenceInY])\n",
    "        plt.gca().set_aspect(1 / plt.gca().get_data_ratio())\n",
    "        if self.boolCorrectCorner:\n",
    "            plt.text(0, self.presenceInY * 1.01, 'The red star marks where False Alarms equals Misses.', color=\"black\", fontsize=8)\n",
    "        if self.boolUniform:\n",
    "            plt.plot([0, self.totalNum], [0, self.presenceInY], ':', color=\"violet\", label='Uniform')\n",
    "        \n",
    "        for i in range(self.TOCNum):\n",
    "            self.__addOne(i)\n",
    "        plt.savefig(\"pic/Figure4.jpg\", dpi=1200, format=\"jpeg\", bbox_inches=\"tight\")\n",
    "        plt.savefig(\"pic/Figure4.pdf\", dpi=1200, format=\"pdf\", bbox_inches=\"tight\")\n",
    "        plt.show()\n"
   ]
  },
  {
   "cell_type": "code",
   "execution_count": 101,
   "id": "4fe022ff-b885-48b3-bcb9-53967391f5fe",
   "metadata": {},
   "outputs": [
    {
     "data": {
      "text/html": [
       "\n",
       "            <style>\n",
       "                .geemap-dark {\n",
       "                    --jp-widgets-color: white;\n",
       "                    --jp-widgets-label-color: white;\n",
       "                    --jp-ui-font-color1: white;\n",
       "                    --jp-layout-color2: #454545;\n",
       "                    background-color: #383838;\n",
       "                }\n",
       "\n",
       "                .geemap-dark .jupyter-button {\n",
       "                    --jp-layout-color3: #383838;\n",
       "                }\n",
       "\n",
       "                .geemap-colab {\n",
       "                    background-color: var(--colab-primary-surface-color, white);\n",
       "                }\n",
       "\n",
       "                .geemap-colab .jupyter-button {\n",
       "                    --jp-layout-color3: var(--colab-primary-surface-color, white);\n",
       "                }\n",
       "            </style>\n",
       "            "
      ],
      "text/plain": [
       "<IPython.core.display.HTML object>"
      ]
     },
     "metadata": {},
     "output_type": "display_data"
    },
    {
     "data": {
      "image/png": "[encoded data removed]",
      "text/plain": [
       "<Figure size 640x480 with 1 Axes>"
      ]
     },
     "metadata": {},
     "output_type": "display_data"
    }
   ],
   "source": [
    "# Assuming TOC_NDBI, TOC_BUI, TOC_VBI are instances of the TOC class with the necessary attributes\n",
    "TOC_list = [TOC_NDBI, TOC_BU, TOC_VBI]\n",
    "index_names = [\"NDBI\", \"BU\", \"VBI\"]\n",
    "\n",
    "# Define custom colors, markers, and line styles for each index\n",
    "line_list = ['-', '--', '-.']  # Solid (NDBI), Dashed (BU), Dash-dot (VBI)\n",
    "\n",
    "toc_painter = TOC_painter(\n",
    "    TOC_list=TOC_list, \n",
    "    index_names=index_names, \n",
    "    line_list = line_list,\n",
    "    boolUniform=True, \n",
    "    boolCorrectCorner=True)\n",
    "plt.xlabel('Hits + False alarms (pixel)')\n",
    "plt.ylabel('Hits (pixel)')\n",
    "toc_painter.add_all_correct_corner()\n",
    "toc_painter.paint()"
   ]
  },
  {
   "cell_type": "code",
   "execution_count": 102,
   "id": "87a0d97f-c790-41eb-92f2-201dd7f9d30c",
   "metadata": {},
   "outputs": [
    {
     "data": {
      "text/html": [
       "\n",
       "            <style>\n",
       "                .geemap-dark {\n",
       "                    --jp-widgets-color: white;\n",
       "                    --jp-widgets-label-color: white;\n",
       "                    --jp-ui-font-color1: white;\n",
       "                    --jp-layout-color2: #454545;\n",
       "                    background-color: #383838;\n",
       "                }\n",
       "\n",
       "                .geemap-dark .jupyter-button {\n",
       "                    --jp-layout-color3: #383838;\n",
       "                }\n",
       "\n",
       "                .geemap-colab {\n",
       "                    background-color: var(--colab-primary-surface-color, white);\n",
       "                }\n",
       "\n",
       "                .geemap-colab .jupyter-button {\n",
       "                    --jp-layout-color3: var(--colab-primary-surface-color, white);\n",
       "                }\n",
       "            </style>\n",
       "            "
      ],
      "text/plain": [
       "<IPython.core.display.HTML object>"
      ]
     },
     "metadata": {},
     "output_type": "display_data"
    }
   ],
   "source": [
    "# Open the saved image and convert it to grayscale\n",
    "img = Image.open(\"pic/Figure4.jpg\").convert(\"L\")\n",
    "img.save(\"pic/Figure4_greyscale.pdf\")  # Overwrite with grayscale version\n",
    "img.save(\"pic/Figure4_greyscale.jpg\")  # Overwrite with grayscale version"
   ]
  },
  {
   "cell_type": "markdown",
   "id": "6590d241-373b-4576-ad7b-1be6894799df",
   "metadata": {},
   "source": [
    "## 4. Boxplot Generation"
   ]
  },
  {
   "cell_type": "code",
   "execution_count": 41,
   "id": "115d6c43-1991-4343-874e-140997e40541",
   "metadata": {},
   "outputs": [
    {
     "data": {
      "text/html": [
       "\n",
       "            <style>\n",
       "                .geemap-dark {\n",
       "                    --jp-widgets-color: white;\n",
       "                    --jp-widgets-label-color: white;\n",
       "                    --jp-ui-font-color1: white;\n",
       "                    --jp-layout-color2: #454545;\n",
       "                    background-color: #383838;\n",
       "                }\n",
       "\n",
       "                .geemap-dark .jupyter-button {\n",
       "                    --jp-layout-color3: #383838;\n",
       "                }\n",
       "\n",
       "                .geemap-colab {\n",
       "                    background-color: var(--colab-primary-surface-color, white);\n",
       "                }\n",
       "\n",
       "                .geemap-colab .jupyter-button {\n",
       "                    --jp-layout-color3: var(--colab-primary-surface-color, white);\n",
       "                }\n",
       "            </style>\n",
       "            "
      ],
      "text/plain": [
       "<IPython.core.display.HTML object>"
      ]
     },
     "metadata": {},
     "output_type": "display_data"
    }
   ],
   "source": [
    "# generate the boxplot and the 2 SD difference plot\n",
    "Index_boxplot = all_csv\n",
    "Index_boxplot['Type'].replace(1, \"White\", inplace=True)\n",
    "Index_boxplot['Type'].replace(2, \"Red\", inplace=True)\n",
    "Index_boxplot['Type'].replace(3, \"Other\", inplace=True)\n",
    "Index_boxplot['Type'].replace(4, \"Road\", inplace=True)\n",
    "Index_boxplot['Type'].replace(6, \"Ground\", inplace=True)\n",
    "Index_boxplot['Type'].replace(7, \"Vegetation\", inplace=True)\n",
    "Index_boxplot['Type'].replace(8, \"Water\", inplace=True)\n",
    "Index_boxplot['Type'].replace(9, \"Soil\", inplace=True)\n",
    "\n",
    "Index_boxplot['Urban'].replace(0, \"Non-Built-up\", inplace=True)\n",
    "Index_boxplot['Urban'].replace(1, \"Built-up\", inplace=True)"
   ]
  },
  {
   "cell_type": "code",
   "execution_count": 75,
   "id": "04673988-d6cf-43fa-bad0-99c1792923f9",
   "metadata": {},
   "outputs": [
    {
     "data": {
      "text/html": [
       "\n",
       "            <style>\n",
       "                .geemap-dark {\n",
       "                    --jp-widgets-color: white;\n",
       "                    --jp-widgets-label-color: white;\n",
       "                    --jp-ui-font-color1: white;\n",
       "                    --jp-layout-color2: #454545;\n",
       "                    background-color: #383838;\n",
       "                }\n",
       "\n",
       "                .geemap-dark .jupyter-button {\n",
       "                    --jp-layout-color3: #383838;\n",
       "                }\n",
       "\n",
       "                .geemap-colab {\n",
       "                    background-color: var(--colab-primary-surface-color, white);\n",
       "                }\n",
       "\n",
       "                .geemap-colab .jupyter-button {\n",
       "                    --jp-layout-color3: var(--colab-primary-surface-color, white);\n",
       "                }\n",
       "            </style>\n",
       "            "
      ],
      "text/plain": [
       "<IPython.core.display.HTML object>"
      ]
     },
     "metadata": {},
     "output_type": "display_data"
    },
    {
     "data": {
      "image/png": "[encoded data removed]",
      "text/plain": [
       "<Figure size 1400x600 with 3 Axes>"
      ]
     },
     "metadata": {},
     "output_type": "display_data"
    }
   ],
   "source": [
    "palette = {'White': '#ADD8E6', 'Red': '#F80000', 'Other': '#0000FF',  'Road': '#808080',  'Ground': '#A9A9A9',\n",
    "           'Vegetation': '#008000', 'Water': '#2a2d2d', 'Soil': '#8B4513'}\n",
    "bp_order = ['White', 'Red', 'Other', 'Road', 'Ground', 'Vegetation', 'Water', 'Soil']\n",
    "\n",
    "# Define font sizes\n",
    "axis_fontsize = 20  # Font size for labels\n",
    "title_fontsize = 18  # Font size for titles\n",
    "tick_fontsize = 14  # Font size for tick labels\n",
    "fig, axes = plt.subplots(1, 3, figsize=(14, 6))\n",
    "\n",
    "sns.boxplot(ax=axes[0], x='Type', y='VBI', data=Index_boxplot, palette=palette, \n",
    "            order=bp_order)\n",
    "axes[0].set_ylim(-1, 1)\n",
    "axes[0].set_title('VBI', fontsize=title_fontsize)\n",
    "axes[0].set_xlabel('')\n",
    "axes[0].set_ylabel('Index Values', fontsize=axis_fontsize)\n",
    "axes[0].tick_params(axis='x', labelrotation=90, labelsize=16)  # Adjust tick font size\n",
    "axes[0].tick_params(axis='y', labelsize=tick_fontsize)\n",
    "\n",
    "sns.boxplot(ax=axes[1], x='Type', y='BU', data=Index_boxplot, palette=palette, \n",
    "            order=bp_order)\n",
    "axes[1].set_ylim(-1, 1)\n",
    "axes[1].set_title('BU', fontsize=title_fontsize)\n",
    "axes[1].set_xlabel('')\n",
    "axes[1].set_ylabel('')\n",
    "axes[1].tick_params(axis='x', labelrotation=90, labelsize=16)  # Adjust tick font size\n",
    "axes[1].tick_params(axis='y', labelsize=tick_fontsize)\n",
    "\n",
    "sns.boxplot(ax=axes[2], x='Type', y='NDBI', data=Index_boxplot, palette=palette, \n",
    "            order=bp_order)\n",
    "axes[2].set_ylim(-1, 1)\n",
    "axes[2].set_title('NDBI', fontsize=title_fontsize)\n",
    "axes[2].set_xlabel('')\n",
    "axes[2].set_ylabel('')\n",
    "axes[2].tick_params(axis='x', labelrotation=90, labelsize=16)  # Adjust tick font size\n",
    "axes[2].tick_params(axis='y', labelsize=tick_fontsize)\n",
    "\n",
    "plt.tight_layout()  # Adjust subplots to fit into the figure area.\n",
    "plt.savefig(\"pic/Figure8.jpg\", dpi=1200, format=\"jpeg\", bbox_inches=\"tight\")\n",
    "plt.savefig(\"pic/Figure8.pdf\", dpi=1200, format=\"pdf\", bbox_inches=\"tight\")\n",
    "plt.show()"
   ]
  },
  {
   "cell_type": "code",
   "execution_count": 76,
   "id": "1032b9af-d9b5-4ea5-a4f6-821e880d0e40",
   "metadata": {},
   "outputs": [
    {
     "data": {
      "text/html": [
       "\n",
       "            <style>\n",
       "                .geemap-dark {\n",
       "                    --jp-widgets-color: white;\n",
       "                    --jp-widgets-label-color: white;\n",
       "                    --jp-ui-font-color1: white;\n",
       "                    --jp-layout-color2: #454545;\n",
       "                    background-color: #383838;\n",
       "                }\n",
       "\n",
       "                .geemap-dark .jupyter-button {\n",
       "                    --jp-layout-color3: #383838;\n",
       "                }\n",
       "\n",
       "                .geemap-colab {\n",
       "                    background-color: var(--colab-primary-surface-color, white);\n",
       "                }\n",
       "\n",
       "                .geemap-colab .jupyter-button {\n",
       "                    --jp-layout-color3: var(--colab-primary-surface-color, white);\n",
       "                }\n",
       "            </style>\n",
       "            "
      ],
      "text/plain": [
       "<IPython.core.display.HTML object>"
      ]
     },
     "metadata": {},
     "output_type": "display_data"
    }
   ],
   "source": [
    "# Open the saved image and convert it to grayscale\n",
    "img = Image.open(\"pic/Figure8.jpg\").convert(\"L\")\n",
    "img.save(\"pic/Figure8_greyscale.pdf\")  # Overwrite with grayscale version\n",
    "img.save(\"pic/Figure8_greyscale.jpg\")  # Overwrite with grayscale version"
   ]
  },
  {
   "cell_type": "code",
   "execution_count": 47,
   "id": "b83b8ac6-7802-44b9-8759-4e69761fc270",
   "metadata": {},
   "outputs": [
    {
     "data": {
      "text/html": [
       "\n",
       "            <style>\n",
       "                .geemap-dark {\n",
       "                    --jp-widgets-color: white;\n",
       "                    --jp-widgets-label-color: white;\n",
       "                    --jp-ui-font-color1: white;\n",
       "                    --jp-layout-color2: #454545;\n",
       "                    background-color: #383838;\n",
       "                }\n",
       "\n",
       "                .geemap-dark .jupyter-button {\n",
       "                    --jp-layout-color3: #383838;\n",
       "                }\n",
       "\n",
       "                .geemap-colab {\n",
       "                    background-color: var(--colab-primary-surface-color, white);\n",
       "                }\n",
       "\n",
       "                .geemap-colab .jupyter-button {\n",
       "                    --jp-layout-color3: var(--colab-primary-surface-color, white);\n",
       "                }\n",
       "            </style>\n",
       "            "
      ],
      "text/plain": [
       "<IPython.core.display.HTML object>"
      ]
     },
     "metadata": {},
     "output_type": "display_data"
    },
    {
     "data": {
      "image/png": "[encoded data removed]",
      "text/plain": [
       "<Figure size 1400x600 with 3 Axes>"
      ]
     },
     "metadata": {},
     "output_type": "display_data"
    }
   ],
   "source": [
    "palette = {'Built-up': 'red', 'Non-Built-up': 'green'}\n",
    "bp_order = ['Built-up', 'Non-Built-up']\n",
    "fig, axes = plt.subplots(1, 3, figsize=(14, 6))\n",
    "\n",
    "# Define font sizes\n",
    "axis_fontsize = 20  # Font size for labels\n",
    "title_fontsize = 18  # Font size for titles\n",
    "tick_fontsize = 14  # Font size for tick labels\n",
    "\n",
    "sns.boxplot(ax=axes[0], x='Urban', y='VBI', data=Index_boxplot, palette=palette, order=bp_order)\n",
    "axes[0].set_ylim(-1, 1)\n",
    "axes[0].set_title('VBI', fontsize=title_fontsize)\n",
    "axes[0].set_xlabel('')\n",
    "axes[0].set_ylabel('Index Values', fontsize=axis_fontsize)\n",
    "axes[0].tick_params(axis='both', labelsize=16)  # Adjust tick font size\n",
    "axes[0].tick_params(axis='y', labelsize=tick_fontsize)\n",
    "\n",
    "sns.boxplot(ax=axes[1], x='Urban', y='BU', data=Index_boxplot, palette=palette, order=bp_order)\n",
    "axes[1].set_ylim(-1, 1)\n",
    "axes[1].set_title('BU', fontsize=title_fontsize)\n",
    "axes[1].set_xlabel('')\n",
    "axes[1].set_ylabel('')\n",
    "axes[1].tick_params(axis='both', labelsize=16)  # Adjust tick font size\n",
    "axes[1].tick_params(axis='y', labelsize=tick_fontsize)\n",
    "\n",
    "sns.boxplot(ax=axes[2], x='Urban', y='NDBI', data=Index_boxplot, palette=palette, order=bp_order)\n",
    "axes[2].set_ylim(-1, 1)\n",
    "axes[2].set_title('NDBI', fontsize=title_fontsize)\n",
    "axes[2].set_xlabel('')\n",
    "axes[2].set_ylabel('')\n",
    "axes[2].tick_params(axis='both', labelsize=16)  # Adjust tick font size\n",
    "axes[2].tick_params(axis='y', labelsize=tick_fontsize)\n",
    "\n",
    "plt.tight_layout()  # Adjust subplots to fit into the figure area\n",
    "# plt.savefig(\"pic/Figure7.jpg\", dpi=1200, format=\"jpeg\", bbox_inches=\"tight\")\n",
    "# plt.savefig(\"pic/Figure7.pdf\", dpi=1200, format=\"pdf\", bbox_inches=\"tight\")\n",
    "plt.show()"
   ]
  },
  {
   "cell_type": "code",
   "execution_count": 48,
   "id": "d4c41efd-514f-4a18-b335-f7247107fbae",
   "metadata": {},
   "outputs": [
    {
     "data": {
      "text/html": [
       "\n",
       "            <style>\n",
       "                .geemap-dark {\n",
       "                    --jp-widgets-color: white;\n",
       "                    --jp-widgets-label-color: white;\n",
       "                    --jp-ui-font-color1: white;\n",
       "                    --jp-layout-color2: #454545;\n",
       "                    background-color: #383838;\n",
       "                }\n",
       "\n",
       "                .geemap-dark .jupyter-button {\n",
       "                    --jp-layout-color3: #383838;\n",
       "                }\n",
       "\n",
       "                .geemap-colab {\n",
       "                    background-color: var(--colab-primary-surface-color, white);\n",
       "                }\n",
       "\n",
       "                .geemap-colab .jupyter-button {\n",
       "                    --jp-layout-color3: var(--colab-primary-surface-color, white);\n",
       "                }\n",
       "            </style>\n",
       "            "
      ],
      "text/plain": [
       "<IPython.core.display.HTML object>"
      ]
     },
     "metadata": {},
     "output_type": "display_data"
    }
   ],
   "source": [
    "# Open the saved image and convert it to grayscale\n",
    "# img = Image.open(\"pic/Figure7.jpg\").convert(\"L\")\n",
    "# img.save(\"pic/Figure7_greyscale.pdf\")  # Overwrite with grayscale version\n",
    "# img.save(\"pic/Figure7_greyscale.jpg\")  # Overwrite with grayscale version"
   ]
  },
  {
   "cell_type": "markdown",
   "id": "16abd6f7-3f4a-4aac-9711-57a1fc6ac33d",
   "metadata": {},
   "source": [
    "## 5. Statistical Importance Analysis"
   ]
  },
  {
   "cell_type": "code",
   "execution_count": 49,
   "id": "fa03fcd9-d273-456c-97c4-dddb4734c392",
   "metadata": {},
   "outputs": [
    {
     "data": {
      "text/html": [
       "\n",
       "            <style>\n",
       "                .geemap-dark {\n",
       "                    --jp-widgets-color: white;\n",
       "                    --jp-widgets-label-color: white;\n",
       "                    --jp-ui-font-color1: white;\n",
       "                    --jp-layout-color2: #454545;\n",
       "                    background-color: #383838;\n",
       "                }\n",
       "\n",
       "                .geemap-dark .jupyter-button {\n",
       "                    --jp-layout-color3: #383838;\n",
       "                }\n",
       "\n",
       "                .geemap-colab {\n",
       "                    background-color: var(--colab-primary-surface-color, white);\n",
       "                }\n",
       "\n",
       "                .geemap-colab .jupyter-button {\n",
       "                    --jp-layout-color3: var(--colab-primary-surface-color, white);\n",
       "                }\n",
       "            </style>\n",
       "            "
      ],
      "text/plain": [
       "<IPython.core.display.HTML object>"
      ]
     },
     "metadata": {},
     "output_type": "display_data"
    }
   ],
   "source": [
    "# Load all_csv again to avoid errors\n",
    "all_csv = pd.read_csv(cwp + \"/data/20250205_615sample_ALL.csv\")\n",
    "# Rename BUI to BU\n",
    "all_csv.rename(columns={\"BUI\": \"BU\"}, inplace=True)\n",
    "# Standardize BU\n",
    "all_csv['BU'] = all_csv['BU'] / 2"
   ]
  },
  {
   "cell_type": "code",
   "execution_count": 50,
   "id": "39d900ff-69e3-40b3-bbde-187d9f8ccb8d",
   "metadata": {},
   "outputs": [
    {
     "data": {
      "text/html": [
       "\n",
       "            <style>\n",
       "                .geemap-dark {\n",
       "                    --jp-widgets-color: white;\n",
       "                    --jp-widgets-label-color: white;\n",
       "                    --jp-ui-font-color1: white;\n",
       "                    --jp-layout-color2: #454545;\n",
       "                    background-color: #383838;\n",
       "                }\n",
       "\n",
       "                .geemap-dark .jupyter-button {\n",
       "                    --jp-layout-color3: #383838;\n",
       "                }\n",
       "\n",
       "                .geemap-colab {\n",
       "                    background-color: var(--colab-primary-surface-color, white);\n",
       "                }\n",
       "\n",
       "                .geemap-colab .jupyter-button {\n",
       "                    --jp-layout-color3: var(--colab-primary-surface-color, white);\n",
       "                }\n",
       "            </style>\n",
       "            "
      ],
      "text/plain": [
       "<IPython.core.display.HTML object>"
      ]
     },
     "metadata": {},
     "output_type": "display_data"
    },
    {
     "data": {
      "text/plain": [
       "{'VBI': {'Statistic': 81525.0,\n",
       "  'P-value': 1.2531454186621906e-80,\n",
       "  'Conclusion': 'Significant difference'},\n",
       " 'BU': {'Statistic': 76981.0,\n",
       "  'P-value': 1.5072618587796505e-63,\n",
       "  'Conclusion': 'Significant difference'},\n",
       " 'NDBI': {'Statistic': 67916.0,\n",
       "  'P-value': 1.1672749871559839e-35,\n",
       "  'Conclusion': 'Significant difference'}}"
      ]
     },
     "execution_count": 50,
     "metadata": {},
     "output_type": "execute_result"
    }
   ],
   "source": [
    "# Perform Mann-Whitney U Test for Urban vs. Non-Urban for VBI, BUI, and NDBI\n",
    "urban_vbi = all_csv[all_csv['Urban'] == 1]['VBI']\n",
    "non_urban_vbi = all_csv[all_csv['Urban'] == 0]['VBI']\n",
    "\n",
    "urban_bui = all_csv[all_csv['Urban'] == 1]['BU']\n",
    "non_urban_bui = all_csv[all_csv['Urban'] == 0]['BU']\n",
    "\n",
    "urban_ndbi = all_csv[all_csv['Urban'] == 1]['NDBI']\n",
    "non_urban_ndbi = all_csv[all_csv['Urban'] == 0]['NDBI']\n",
    "\n",
    "# Perform Mann-Whitney U Test for each index\n",
    "vbi_stat, vbi_p = stats.mannwhitneyu(urban_vbi, non_urban_vbi, alternative='two-sided')\n",
    "bui_stat, bui_p = stats.mannwhitneyu(urban_bui, non_urban_bui, alternative='two-sided')\n",
    "ndbi_stat, ndbi_p = stats.mannwhitneyu(urban_ndbi, non_urban_ndbi, alternative='two-sided')\n",
    "\n",
    "# Store results in a dictionary\n",
    "mann_whitney_results = {\n",
    "    \"VBI\": {\"Statistic\": vbi_stat, \"P-value\": vbi_p},\n",
    "    \"BU\": {\"Statistic\": bui_stat, \"P-value\": bui_p},\n",
    "    \"NDBI\": {\"Statistic\": ndbi_stat, \"P-value\": ndbi_p}\n",
    "}\n",
    "\n",
    "# Interpretation\n",
    "for metric, result in mann_whitney_results.items():\n",
    "    result[\"Conclusion\"] = \"Significant difference\" if result[\"P-value\"] < 0.05 else \"No significant difference\"\n",
    "\n",
    "# Display results\n",
    "mann_whitney_results\n"
   ]
  },
  {
   "cell_type": "code",
   "execution_count": 51,
   "id": "77ec4808-be57-43a8-b1ad-104755da2ce1",
   "metadata": {},
   "outputs": [
    {
     "data": {
      "text/html": [
       "\n",
       "            <style>\n",
       "                .geemap-dark {\n",
       "                    --jp-widgets-color: white;\n",
       "                    --jp-widgets-label-color: white;\n",
       "                    --jp-ui-font-color1: white;\n",
       "                    --jp-layout-color2: #454545;\n",
       "                    background-color: #383838;\n",
       "                }\n",
       "\n",
       "                .geemap-dark .jupyter-button {\n",
       "                    --jp-layout-color3: #383838;\n",
       "                }\n",
       "\n",
       "                .geemap-colab {\n",
       "                    background-color: var(--colab-primary-surface-color, white);\n",
       "                }\n",
       "\n",
       "                .geemap-colab .jupyter-button {\n",
       "                    --jp-layout-color3: var(--colab-primary-surface-color, white);\n",
       "                }\n",
       "            </style>\n",
       "            "
      ],
      "text/plain": [
       "<IPython.core.display.HTML object>"
      ]
     },
     "metadata": {},
     "output_type": "display_data"
    },
    {
     "name": "stdout",
     "output_type": "stream",
     "text": [
      "\n",
      "VBI Kruskal-Wallis Test Results:\n",
      "Statistic: 465.7195, P-value: 1.8669e-96\n",
      "Conclusion: There is a significant difference in VBI among the 8 land cover types.\n",
      "\n",
      "BU Kruskal-Wallis Test Results:\n",
      "Statistic: 431.7598, P-value: 3.6605e-89\n",
      "Conclusion: There is a significant difference in BU among the 8 land cover types.\n",
      "\n",
      "NDBI Kruskal-Wallis Test Results:\n",
      "Statistic: 310.6975, P-value: 3.1375e-63\n",
      "Conclusion: There is a significant difference in NDBI among the 8 land cover types.\n"
     ]
    }
   ],
   "source": [
    "# Since normality and homogeneity assumptions are violated for VBI and BU, ANOVA might not be fully reliable.\n",
    "# Recommended Alternative: Use the Kruskal-Wallis Test (Non-Parametric ANOVA) for these variables.\n",
    "# Use Dunn’s Post-Hoc Test for multi-groups comparisons.\n",
    "\n",
    "# 1. Run Kruskal-Wallis test\n",
    "\n",
    "variables = ['VBI', 'BU', 'NDBI']\n",
    "\n",
    "# Dictionary to store results\n",
    "kruskal_results_land_cover = {}\n",
    "\n",
    "# Perform Kruskal-Wallis Test for each variable across land cover types\n",
    "for variable in variables:\n",
    "    groups = [all_csv[all_csv['Type'] == t][variable].dropna() for t in all_csv['Type'].unique()]\n",
    "    kruskal_stat, p_value = stats.kruskal(*groups)\n",
    "    \n",
    "    # Store results\n",
    "    kruskal_results_land_cover[variable] = {\n",
    "        \"Kruskal-Wallis Statistic\": kruskal_stat,\n",
    "        \"P-value\": p_value\n",
    "    }\n",
    "\n",
    "    # Interpretation\n",
    "    if p_value < 0.05:\n",
    "        kruskal_results_land_cover[variable][\"Conclusion\"] = f\"There is a significant difference in {variable} among the 8 land cover types.\"\n",
    "    else:\n",
    "        kruskal_results_land_cover[variable][\"Conclusion\"] = f\"No significant difference in {variable} among the 8 land cover types.\"\n",
    "\n",
    "# Print the results\n",
    "for variable, result in kruskal_results_land_cover.items():\n",
    "    print(f\"\\n{variable} Kruskal-Wallis Test Results:\")\n",
    "    print(f\"Statistic: {result['Kruskal-Wallis Statistic']:.4f}, P-value: {result['P-value']:.4e}\")\n",
    "    print(f\"Conclusion: {result['Conclusion']}\")\n",
    "\n"
   ]
  },
  {
   "cell_type": "code",
   "execution_count": 52,
   "id": "24ff1160-6d59-44d7-9695-426964b2f044",
   "metadata": {},
   "outputs": [
    {
     "data": {
      "text/html": [
       "\n",
       "            <style>\n",
       "                .geemap-dark {\n",
       "                    --jp-widgets-color: white;\n",
       "                    --jp-widgets-label-color: white;\n",
       "                    --jp-ui-font-color1: white;\n",
       "                    --jp-layout-color2: #454545;\n",
       "                    background-color: #383838;\n",
       "                }\n",
       "\n",
       "                .geemap-dark .jupyter-button {\n",
       "                    --jp-layout-color3: #383838;\n",
       "                }\n",
       "\n",
       "                .geemap-colab {\n",
       "                    background-color: var(--colab-primary-surface-color, white);\n",
       "                }\n",
       "\n",
       "                .geemap-colab .jupyter-button {\n",
       "                    --jp-layout-color3: var(--colab-primary-surface-color, white);\n",
       "                }\n",
       "            </style>\n",
       "            "
      ],
      "text/plain": [
       "<IPython.core.display.HTML object>"
      ]
     },
     "metadata": {},
     "output_type": "display_data"
    },
    {
     "data": {
      "text/html": [
       "<div>\n",
       "<style scoped>\n",
       "    .dataframe tbody tr th:only-of-type {\n",
       "        vertical-align: middle;\n",
       "    }\n",
       "\n",
       "    .dataframe tbody tr th {\n",
       "        vertical-align: top;\n",
       "    }\n",
       "\n",
       "    .dataframe thead th {\n",
       "        text-align: right;\n",
       "    }\n",
       "</style>\n",
       "<table border=\"1\" class=\"dataframe\">\n",
       "  <thead>\n",
       "    <tr style=\"text-align: right;\">\n",
       "      <th></th>\n",
       "      <th>1</th>\n",
       "      <th>2</th>\n",
       "      <th>3</th>\n",
       "      <th>4</th>\n",
       "      <th>6</th>\n",
       "      <th>7</th>\n",
       "      <th>8</th>\n",
       "      <th>9</th>\n",
       "    </tr>\n",
       "  </thead>\n",
       "  <tbody>\n",
       "    <tr>\n",
       "      <th>1</th>\n",
       "      <td>1.000000e+00</td>\n",
       "      <td>0.000170</td>\n",
       "      <td>1.000000e+00</td>\n",
       "      <td>9.387954e-03</td>\n",
       "      <td>3.070285e-01</td>\n",
       "      <td>1.453615e-39</td>\n",
       "      <td>1.289640e-19</td>\n",
       "      <td>1.654450e-10</td>\n",
       "    </tr>\n",
       "    <tr>\n",
       "      <th>2</th>\n",
       "      <td>1.703343e-04</td>\n",
       "      <td>1.000000</td>\n",
       "      <td>2.285617e-02</td>\n",
       "      <td>1.000000e+00</td>\n",
       "      <td>1.495494e-01</td>\n",
       "      <td>1.472896e-03</td>\n",
       "      <td>4.842555e-05</td>\n",
       "      <td>1.000000e+00</td>\n",
       "    </tr>\n",
       "    <tr>\n",
       "      <th>3</th>\n",
       "      <td>1.000000e+00</td>\n",
       "      <td>0.022856</td>\n",
       "      <td>1.000000e+00</td>\n",
       "      <td>9.420668e-01</td>\n",
       "      <td>1.000000e+00</td>\n",
       "      <td>6.909039e-46</td>\n",
       "      <td>1.229060e-16</td>\n",
       "      <td>1.916203e-07</td>\n",
       "    </tr>\n",
       "    <tr>\n",
       "      <th>4</th>\n",
       "      <td>9.387954e-03</td>\n",
       "      <td>1.000000</td>\n",
       "      <td>9.420668e-01</td>\n",
       "      <td>1.000000e+00</td>\n",
       "      <td>1.000000e+00</td>\n",
       "      <td>2.993910e-12</td>\n",
       "      <td>1.922036e-09</td>\n",
       "      <td>8.984024e-01</td>\n",
       "    </tr>\n",
       "    <tr>\n",
       "      <th>6</th>\n",
       "      <td>3.070285e-01</td>\n",
       "      <td>0.149549</td>\n",
       "      <td>1.000000e+00</td>\n",
       "      <td>1.000000e+00</td>\n",
       "      <td>1.000000e+00</td>\n",
       "      <td>2.759704e-31</td>\n",
       "      <td>2.121581e-14</td>\n",
       "      <td>1.295429e-04</td>\n",
       "    </tr>\n",
       "    <tr>\n",
       "      <th>7</th>\n",
       "      <td>1.453615e-39</td>\n",
       "      <td>0.001473</td>\n",
       "      <td>6.909039e-46</td>\n",
       "      <td>2.993910e-12</td>\n",
       "      <td>2.759704e-31</td>\n",
       "      <td>1.000000e+00</td>\n",
       "      <td>1.909862e-01</td>\n",
       "      <td>1.028219e-14</td>\n",
       "    </tr>\n",
       "    <tr>\n",
       "      <th>8</th>\n",
       "      <td>1.289640e-19</td>\n",
       "      <td>0.000048</td>\n",
       "      <td>1.229060e-16</td>\n",
       "      <td>1.922036e-09</td>\n",
       "      <td>2.121581e-14</td>\n",
       "      <td>1.909862e-01</td>\n",
       "      <td>1.000000e+00</td>\n",
       "      <td>2.028695e-07</td>\n",
       "    </tr>\n",
       "    <tr>\n",
       "      <th>9</th>\n",
       "      <td>1.654450e-10</td>\n",
       "      <td>1.000000</td>\n",
       "      <td>1.916203e-07</td>\n",
       "      <td>8.984024e-01</td>\n",
       "      <td>1.295429e-04</td>\n",
       "      <td>1.028219e-14</td>\n",
       "      <td>2.028695e-07</td>\n",
       "      <td>1.000000e+00</td>\n",
       "    </tr>\n",
       "  </tbody>\n",
       "</table>\n",
       "</div>"
      ],
      "text/plain": [
       "              1         2             3             4             6  \\\n",
       "1  1.000000e+00  0.000170  1.000000e+00  9.387954e-03  3.070285e-01   \n",
       "2  1.703343e-04  1.000000  2.285617e-02  1.000000e+00  1.495494e-01   \n",
       "3  1.000000e+00  0.022856  1.000000e+00  9.420668e-01  1.000000e+00   \n",
       "4  9.387954e-03  1.000000  9.420668e-01  1.000000e+00  1.000000e+00   \n",
       "6  3.070285e-01  0.149549  1.000000e+00  1.000000e+00  1.000000e+00   \n",
       "7  1.453615e-39  0.001473  6.909039e-46  2.993910e-12  2.759704e-31   \n",
       "8  1.289640e-19  0.000048  1.229060e-16  1.922036e-09  2.121581e-14   \n",
       "9  1.654450e-10  1.000000  1.916203e-07  8.984024e-01  1.295429e-04   \n",
       "\n",
       "              7             8             9  \n",
       "1  1.453615e-39  1.289640e-19  1.654450e-10  \n",
       "2  1.472896e-03  4.842555e-05  1.000000e+00  \n",
       "3  6.909039e-46  1.229060e-16  1.916203e-07  \n",
       "4  2.993910e-12  1.922036e-09  8.984024e-01  \n",
       "6  2.759704e-31  2.121581e-14  1.295429e-04  \n",
       "7  1.000000e+00  1.909862e-01  1.028219e-14  \n",
       "8  1.909862e-01  1.000000e+00  2.028695e-07  \n",
       "9  1.028219e-14  2.028695e-07  1.000000e+00  "
      ]
     },
     "execution_count": 52,
     "metadata": {},
     "output_type": "execute_result"
    }
   ],
   "source": [
    "# Perform Dunn's test with Bonferroni correction for multiple comparisons\n",
    "dunn_results_bu = sp.posthoc_dunn(all_csv, val_col='BU', group_col='Type', p_adjust='bonferroni')\n",
    "dunn_results_ndbi = sp.posthoc_dunn(all_csv, val_col='NDBI', group_col='Type', p_adjust='bonferroni')\n",
    "dunn_results_vbi = sp.posthoc_dunn(all_csv, val_col='VBI', group_col='Type', p_adjust='bonferroni')\n",
    "\n",
    "dunn_results_vbi"
   ]
  },
  {
   "cell_type": "code",
   "execution_count": 53,
   "id": "41ce33d1-fa1e-461f-bb7d-6b8c00c450fe",
   "metadata": {},
   "outputs": [
    {
     "data": {
      "text/html": [
       "\n",
       "            <style>\n",
       "                .geemap-dark {\n",
       "                    --jp-widgets-color: white;\n",
       "                    --jp-widgets-label-color: white;\n",
       "                    --jp-ui-font-color1: white;\n",
       "                    --jp-layout-color2: #454545;\n",
       "                    background-color: #383838;\n",
       "                }\n",
       "\n",
       "                .geemap-dark .jupyter-button {\n",
       "                    --jp-layout-color3: #383838;\n",
       "                }\n",
       "\n",
       "                .geemap-colab {\n",
       "                    background-color: var(--colab-primary-surface-color, white);\n",
       "                }\n",
       "\n",
       "                .geemap-colab .jupyter-button {\n",
       "                    --jp-layout-color3: var(--colab-primary-surface-color, white);\n",
       "                }\n",
       "            </style>\n",
       "            "
      ],
      "text/plain": [
       "<IPython.core.display.HTML object>"
      ]
     },
     "metadata": {},
     "output_type": "display_data"
    }
   ],
   "source": [
    "# Function to convert a square matrix into a lower triangular format with NaNs\n",
    "def make_lower_triangular(df):\n",
    "    matrix = df.copy()\n",
    "    mask = np.triu(np.ones(matrix.shape), k=1)  # Create upper triangular mask\n",
    "    matrix = matrix.mask(mask == 1, np.nan)  # Apply NaN to upper triangle\n",
    "    return matrix\n",
    "\n",
    "# Assuming the data is similar to Dunn's test output, process it into a lower triangular format\n",
    "triangular_ndbi = make_lower_triangular(dunn_results_ndbi)\n",
    "triangular_bu = make_lower_triangular(dunn_results_bu)\n",
    "triangular_vbi = make_lower_triangular(dunn_results_vbi)"
   ]
  },
  {
   "cell_type": "code",
   "execution_count": 54,
   "id": "cd2b4265-4a72-421f-ac2b-6401976042d1",
   "metadata": {},
   "outputs": [
    {
     "data": {
      "text/html": [
       "\n",
       "            <style>\n",
       "                .geemap-dark {\n",
       "                    --jp-widgets-color: white;\n",
       "                    --jp-widgets-label-color: white;\n",
       "                    --jp-ui-font-color1: white;\n",
       "                    --jp-layout-color2: #454545;\n",
       "                    background-color: #383838;\n",
       "                }\n",
       "\n",
       "                .geemap-dark .jupyter-button {\n",
       "                    --jp-layout-color3: #383838;\n",
       "                }\n",
       "\n",
       "                .geemap-colab {\n",
       "                    background-color: var(--colab-primary-surface-color, white);\n",
       "                }\n",
       "\n",
       "                .geemap-colab .jupyter-button {\n",
       "                    --jp-layout-color3: var(--colab-primary-surface-color, white);\n",
       "                }\n",
       "            </style>\n",
       "            "
      ],
      "text/plain": [
       "<IPython.core.display.HTML object>"
      ]
     },
     "metadata": {},
     "output_type": "display_data"
    },
    {
     "data": {
      "text/html": [
       "<div>\n",
       "<style scoped>\n",
       "    .dataframe tbody tr th:only-of-type {\n",
       "        vertical-align: middle;\n",
       "    }\n",
       "\n",
       "    .dataframe tbody tr th {\n",
       "        vertical-align: top;\n",
       "    }\n",
       "\n",
       "    .dataframe thead th {\n",
       "        text-align: right;\n",
       "    }\n",
       "</style>\n",
       "<table border=\"1\" class=\"dataframe\">\n",
       "  <thead>\n",
       "    <tr style=\"text-align: right;\">\n",
       "      <th></th>\n",
       "      <th>1</th>\n",
       "      <th>2</th>\n",
       "      <th>3</th>\n",
       "      <th>4</th>\n",
       "      <th>6</th>\n",
       "      <th>7</th>\n",
       "      <th>8</th>\n",
       "      <th>9</th>\n",
       "    </tr>\n",
       "  </thead>\n",
       "  <tbody>\n",
       "    <tr>\n",
       "      <th>1</th>\n",
       "      <td>1.000000e+00</td>\n",
       "      <td>NaN</td>\n",
       "      <td>NaN</td>\n",
       "      <td>NaN</td>\n",
       "      <td>NaN</td>\n",
       "      <td>NaN</td>\n",
       "      <td>NaN</td>\n",
       "      <td>NaN</td>\n",
       "    </tr>\n",
       "    <tr>\n",
       "      <th>2</th>\n",
       "      <td>1.000000e+00</td>\n",
       "      <td>1.000000e+00</td>\n",
       "      <td>NaN</td>\n",
       "      <td>NaN</td>\n",
       "      <td>NaN</td>\n",
       "      <td>NaN</td>\n",
       "      <td>NaN</td>\n",
       "      <td>NaN</td>\n",
       "    </tr>\n",
       "    <tr>\n",
       "      <th>3</th>\n",
       "      <td>1.000000e+00</td>\n",
       "      <td>1.000000e+00</td>\n",
       "      <td>1.000000e+00</td>\n",
       "      <td>NaN</td>\n",
       "      <td>NaN</td>\n",
       "      <td>NaN</td>\n",
       "      <td>NaN</td>\n",
       "      <td>NaN</td>\n",
       "    </tr>\n",
       "    <tr>\n",
       "      <th>4</th>\n",
       "      <td>1.000000e+00</td>\n",
       "      <td>1.000000e+00</td>\n",
       "      <td>1.000000e+00</td>\n",
       "      <td>1.000000e+00</td>\n",
       "      <td>NaN</td>\n",
       "      <td>NaN</td>\n",
       "      <td>NaN</td>\n",
       "      <td>NaN</td>\n",
       "    </tr>\n",
       "    <tr>\n",
       "      <th>6</th>\n",
       "      <td>1.000000e+00</td>\n",
       "      <td>1.000000e+00</td>\n",
       "      <td>1.000000e+00</td>\n",
       "      <td>1.000000e+00</td>\n",
       "      <td>1.000000e+00</td>\n",
       "      <td>NaN</td>\n",
       "      <td>NaN</td>\n",
       "      <td>NaN</td>\n",
       "    </tr>\n",
       "    <tr>\n",
       "      <th>7</th>\n",
       "      <td>5.012844e-11</td>\n",
       "      <td>1.364073e-10</td>\n",
       "      <td>1.470777e-22</td>\n",
       "      <td>6.090174e-16</td>\n",
       "      <td>4.068257e-18</td>\n",
       "      <td>1.000000e+00</td>\n",
       "      <td>NaN</td>\n",
       "      <td>NaN</td>\n",
       "    </tr>\n",
       "    <tr>\n",
       "      <th>8</th>\n",
       "      <td>6.541807e-01</td>\n",
       "      <td>2.609214e-02</td>\n",
       "      <td>1.588547e-01</td>\n",
       "      <td>1.741487e-02</td>\n",
       "      <td>1.633089e-01</td>\n",
       "      <td>1.000000e+00</td>\n",
       "      <td>1.000000</td>\n",
       "      <td>NaN</td>\n",
       "    </tr>\n",
       "    <tr>\n",
       "      <th>9</th>\n",
       "      <td>1.000000e+00</td>\n",
       "      <td>1.000000e+00</td>\n",
       "      <td>1.000000e+00</td>\n",
       "      <td>1.000000e+00</td>\n",
       "      <td>1.000000e+00</td>\n",
       "      <td>4.709779e-33</td>\n",
       "      <td>0.029978</td>\n",
       "      <td>1.0</td>\n",
       "    </tr>\n",
       "  </tbody>\n",
       "</table>\n",
       "</div>"
      ],
      "text/plain": [
       "              1             2             3             4             6  \\\n",
       "1  1.000000e+00           NaN           NaN           NaN           NaN   \n",
       "2  1.000000e+00  1.000000e+00           NaN           NaN           NaN   \n",
       "3  1.000000e+00  1.000000e+00  1.000000e+00           NaN           NaN   \n",
       "4  1.000000e+00  1.000000e+00  1.000000e+00  1.000000e+00           NaN   \n",
       "6  1.000000e+00  1.000000e+00  1.000000e+00  1.000000e+00  1.000000e+00   \n",
       "7  5.012844e-11  1.364073e-10  1.470777e-22  6.090174e-16  4.068257e-18   \n",
       "8  6.541807e-01  2.609214e-02  1.588547e-01  1.741487e-02  1.633089e-01   \n",
       "9  1.000000e+00  1.000000e+00  1.000000e+00  1.000000e+00  1.000000e+00   \n",
       "\n",
       "              7         8    9  \n",
       "1           NaN       NaN  NaN  \n",
       "2           NaN       NaN  NaN  \n",
       "3           NaN       NaN  NaN  \n",
       "4           NaN       NaN  NaN  \n",
       "6           NaN       NaN  NaN  \n",
       "7  1.000000e+00       NaN  NaN  \n",
       "8  1.000000e+00  1.000000  NaN  \n",
       "9  4.709779e-33  0.029978  1.0  "
      ]
     },
     "execution_count": 54,
     "metadata": {},
     "output_type": "execute_result"
    }
   ],
   "source": [
    "triangular_ndbi"
   ]
  },
  {
   "cell_type": "code",
   "execution_count": 55,
   "id": "a888bca4-632e-4944-82a5-8d2c6c574d87",
   "metadata": {},
   "outputs": [
    {
     "data": {
      "text/html": [
       "\n",
       "            <style>\n",
       "                .geemap-dark {\n",
       "                    --jp-widgets-color: white;\n",
       "                    --jp-widgets-label-color: white;\n",
       "                    --jp-ui-font-color1: white;\n",
       "                    --jp-layout-color2: #454545;\n",
       "                    background-color: #383838;\n",
       "                }\n",
       "\n",
       "                .geemap-dark .jupyter-button {\n",
       "                    --jp-layout-color3: #383838;\n",
       "                }\n",
       "\n",
       "                .geemap-colab {\n",
       "                    background-color: var(--colab-primary-surface-color, white);\n",
       "                }\n",
       "\n",
       "                .geemap-colab .jupyter-button {\n",
       "                    --jp-layout-color3: var(--colab-primary-surface-color, white);\n",
       "                }\n",
       "            </style>\n",
       "            "
      ],
      "text/plain": [
       "<IPython.core.display.HTML object>"
      ]
     },
     "metadata": {},
     "output_type": "display_data"
    }
   ],
   "source": [
    "# Define a mapping of numbers to labels\n",
    "rename_dict = {\n",
    "    1: \"White\",\n",
    "    2: \"Red\",\n",
    "    3: \"Other\",\n",
    "    4: \"Road\",\n",
    "    6: \"Ground\",\n",
    "    7: \"Vegetation\",\n",
    "    8: \"Water\",\n",
    "    9: \"Soil\"\n",
    "}\n",
    "\n",
    "# Rename the index and columns of the triangular NDBI, BU, and VBI matrix\n",
    "triangular_ndbi_renamed = triangular_ndbi.rename(index=rename_dict, columns=rename_dict)\n",
    "triangular_bu_renamed = triangular_bu.rename(index=rename_dict, columns=rename_dict)\n",
    "triangular_vbi_renamed = triangular_vbi.rename(index=rename_dict, columns=rename_dict)"
   ]
  },
  {
   "cell_type": "code",
   "execution_count": 89,
   "id": "025b13d4-4cef-4b12-a0f5-a05ff821ff05",
   "metadata": {},
   "outputs": [
    {
     "data": {
      "text/html": [
       "\n",
       "            <style>\n",
       "                .geemap-dark {\n",
       "                    --jp-widgets-color: white;\n",
       "                    --jp-widgets-label-color: white;\n",
       "                    --jp-ui-font-color1: white;\n",
       "                    --jp-layout-color2: #454545;\n",
       "                    background-color: #383838;\n",
       "                }\n",
       "\n",
       "                .geemap-dark .jupyter-button {\n",
       "                    --jp-layout-color3: #383838;\n",
       "                }\n",
       "\n",
       "                .geemap-colab {\n",
       "                    background-color: var(--colab-primary-surface-color, white);\n",
       "                }\n",
       "\n",
       "                .geemap-colab .jupyter-button {\n",
       "                    --jp-layout-color3: var(--colab-primary-surface-color, white);\n",
       "                }\n",
       "            </style>\n",
       "            "
      ],
      "text/plain": [
       "<IPython.core.display.HTML object>"
      ]
     },
     "metadata": {},
     "output_type": "display_data"
    },
    {
     "data": {
      "image/png": "[encoded data removed]",
      "text/plain": [
       "<Figure size 1500x500 with 6 Axes>"
      ]
     },
     "metadata": {},
     "output_type": "display_data"
    }
   ],
   "source": [
    "cmap = ['1', '#B0B0B0',  '#E41A1C',  '#E41A1C', '#ffc100']\n",
    "heatmap_args = {'cmap': cmap, 'linewidths': 0.25, 'linecolor': '0.5', 'clip_on': False, 'square': True, 'cbar_ax_bbox': [1, 0.35, 0.04, 0.3], 'cbar_kws': {'shrink': 0.8, 'labelsize': 16}}\n",
    "\n",
    "fig, axes = plt.subplots(1, 3, figsize=(15, 5), gridspec_kw={'width_ratios': [1, 1, 1.05]})  \n",
    "\n",
    "sp.sign_plot(triangular_ndbi_renamed, ax=axes[2], **heatmap_args)\n",
    "axes[2].set_title(\"NDBI\", fontsize=16)\n",
    "axes[2].tick_params(axis='x', labelsize=12)\n",
    "axes[2].tick_params(axis='y', labelsize=12)\n",
    "\n",
    "sp.sign_plot(triangular_bu_renamed, ax=axes[1], **heatmap_args)\n",
    "axes[1].set_title(\"BU\", fontsize=16)\n",
    "axes[1].tick_params(axis='x', labelsize=12)\n",
    "axes[1].tick_params(axis='y', labelsize=12)\n",
    "\n",
    "sp.sign_plot(triangular_vbi_renamed, ax=axes[0], **heatmap_args)\n",
    "axes[0].set_title(\"VBI\", fontsize=16)\n",
    "axes[0].tick_params(axis='x', labelsize=12)\n",
    "axes[0].tick_params(axis='y', labelsize=12)\n",
    "\n",
    "# Adjust the figure layout and add a colorbar outside the plots\n",
    "# cbar_ax = fig.add_axes([0.92, 0.35, 0.02, 0.3])  # [x-position, y-position, width, height]\n",
    "# fig.colorbar(im.collections[0], cax=cbar_ax)\n",
    "\n",
    "# Adjust layout to prevent overlapping\n",
    "plt.tight_layout()\n",
    "plt.savefig(\"pic/Figure9.jpg\", dpi=1200, format=\"jpeg\", bbox_inches=\"tight\")\n",
    "# plt.savefig(\"Figure9.pdf\", dpi=1200, format=\"pdf\", bbox_inches=\"tight\")\n",
    "plt.show()"
   ]
  },
  {
   "cell_type": "markdown",
   "id": "b3d926a7-618a-4c88-9e52-9b8f4a2dd778",
   "metadata": {},
   "source": [
    "# Compare with other existing BIs"
   ]
  },
  {
   "cell_type": "markdown",
   "id": "c714fc53",
   "metadata": {},
   "source": [
    "# Index Formula\n",
    "1. EBBI = (B5 - B4) / 10*sqrt(B5 + B6) (this has thermal)\n",
    "2. IBI = [NDBI - (SAVI + MNDWI) / 2] / [NDBI + (SAVI + MNDWI) / 2] = {2 * B5 / (B5 + B4) - [B4 / (B4 + B3) + B2 / (B2 + B5)]} / {2 * B5 / (B5 + B4) + [B4 / (B4 + B3) + B2 / (B2 + B5)]}\n",
    "3. BBI = NDBI(OLI2 - OLI3, b) + NDBI(OLI14 - OLI3, b)\n",
    "4. IBUI = NDBI - SAVI - MNDWI\n",
    "6. BAEI = (RED + 0.3) / (GREEN + SWIR1)\n",
    "7. NBAI = [(SWIR2 - SWIR2) / GREEN] / [(SWIR2 + SWIR2) / G]\n",
    "8. BRBA = RED / SWIR2\n",
    "9. MBI = (SWIR1 * RED - NIR * NIR) / (RED + NIR + SWIR1)\n",
    "10. NBI = RED * SWIR2 / NIR\n",
    "11. NDBI = (SWIR2 - NIR) / (SWIR2 + NIR)\n",
    "12. UI = (SWIR1 - NIR) / (SWIR1 + NIR)\n",
    "13. BI = NDBI - NDVI\n",
    "14. BSI = [(SWIR + R) - (NIR + B)] / [(SWIR + R) + (NIR + B)]\n",
    "15. NDTI + NDVIre + MNDWI \n",
    "16. SAVI = [(NIR - RED) * (1 + l)] / [NIR + RED + l]"
   ]
  },
  {
   "cell_type": "code",
   "execution_count": 14,
   "id": "0e1f9359",
   "metadata": {},
   "outputs": [
    {
     "data": {
      "text/html": [
       "\n",
       "            <style>\n",
       "                .geemap-dark {\n",
       "                    --jp-widgets-color: white;\n",
       "                    --jp-widgets-label-color: white;\n",
       "                    --jp-ui-font-color1: white;\n",
       "                    --jp-layout-color2: #454545;\n",
       "                    background-color: #383838;\n",
       "                }\n",
       "\n",
       "                .geemap-dark .jupyter-button {\n",
       "                    --jp-layout-color3: #383838;\n",
       "                }\n",
       "\n",
       "                .geemap-colab {\n",
       "                    background-color: var(--colab-primary-surface-color, white);\n",
       "                }\n",
       "\n",
       "                .geemap-colab .jupyter-button {\n",
       "                    --jp-layout-color3: var(--colab-primary-surface-color, white);\n",
       "                }\n",
       "            </style>\n",
       "            "
      ],
      "text/plain": [
       "<IPython.core.display.HTML object>"
      ]
     },
     "metadata": {},
     "output_type": "display_data"
    }
   ],
   "source": [
    "# Create other indices\n",
    "# Create IBI\n",
    "L = 0.5  # Soil adjustment factor for SAVI\n",
    "SAVI = image.select().expression(\n",
    "    '(NIR - RED) / (NIR + RED + L) * (1 + L)',\n",
    "    {\n",
    "        'NIR': image.select('B8'),\n",
    "        'RED': image.select('B4'),\n",
    "        'L': L\n",
    "    }\n",
    ")\n",
    "MNDWI = image.normalizedDifference([\"B3\", \"B11\"])\n",
    "IBI = image.expression(\n",
    "    '(NDBI - ((SAVI + MNDWI) / 2)) / (NDBI + ((SAVI + MNDWI) / 2))',\n",
    "    {\n",
    "        'NDBI': NDBI,\n",
    "        'SAVI': SAVI,\n",
    "        'MNDWI': MNDWI\n",
    "    })\n",
    "m.addLayer(IBI, {'palette': ['#000000', '#FFFFFF'], 'min': -1, 'max': 1}, 'IBI')"
   ]
  },
  {
   "cell_type": "code",
   "execution_count": 21,
   "id": "ef5cb482-88a4-4eec-a39c-2f4fc6cd8502",
   "metadata": {},
   "outputs": [
    {
     "data": {
      "text/html": [
       "\n",
       "            <style>\n",
       "                .geemap-dark {\n",
       "                    --jp-widgets-color: white;\n",
       "                    --jp-widgets-label-color: white;\n",
       "                    --jp-ui-font-color1: white;\n",
       "                    --jp-layout-color2: #454545;\n",
       "                    background-color: #383838;\n",
       "                }\n",
       "\n",
       "                .geemap-dark .jupyter-button {\n",
       "                    --jp-layout-color3: #383838;\n",
       "                }\n",
       "\n",
       "                .geemap-colab {\n",
       "                    background-color: var(--colab-primary-surface-color, white);\n",
       "                }\n",
       "\n",
       "                .geemap-colab .jupyter-button {\n",
       "                    --jp-layout-color3: var(--colab-primary-surface-color, white);\n",
       "                }\n",
       "            </style>\n",
       "            "
      ],
      "text/plain": [
       "<IPython.core.display.HTML object>"
      ]
     },
     "metadata": {},
     "output_type": "display_data"
    }
   ],
   "source": [
    "# Create BBI\n",
    "ndbi_2_3 = image.normalizedDifference(['B2', 'B3']).rename('NDBI_2_3')\n",
    "ndbi_4_3 = image.normalizedDifference(['B4', 'B3']).rename('NDBI_4_3')\n",
    "\n",
    "ndbi_2_3_b = ndbi_2_3.gt(0).rename('NDBI_2_3_b')\n",
    "ndbi_4_3_b = ndbi_4_3.gt(0).rename('NDBI_4_3_b')\n",
    "\n",
    "BBI = ndbi_2_3_b.add(ndbi_4_3_b)\n",
    "m.addLayer(BBI, {'palette': ['#000000', '#FFFFFF'], 'min': -1, 'max': 1}, 'BBI')"
   ]
  },
  {
   "cell_type": "code",
   "execution_count": 18,
   "id": "e2ec6811-ef64-4513-bc57-2ad7d6243632",
   "metadata": {},
   "outputs": [
    {
     "data": {
      "text/html": [
       "\n",
       "            <style>\n",
       "                .geemap-dark {\n",
       "                    --jp-widgets-color: white;\n",
       "                    --jp-widgets-label-color: white;\n",
       "                    --jp-ui-font-color1: white;\n",
       "                    --jp-layout-color2: #454545;\n",
       "                    background-color: #383838;\n",
       "                }\n",
       "\n",
       "                .geemap-dark .jupyter-button {\n",
       "                    --jp-layout-color3: #383838;\n",
       "                }\n",
       "\n",
       "                .geemap-colab {\n",
       "                    background-color: var(--colab-primary-surface-color, white);\n",
       "                }\n",
       "\n",
       "                .geemap-colab .jupyter-button {\n",
       "                    --jp-layout-color3: var(--colab-primary-surface-color, white);\n",
       "                }\n",
       "            </style>\n",
       "            "
      ],
      "text/plain": [
       "<IPython.core.display.HTML object>"
      ]
     },
     "metadata": {},
     "output_type": "display_data"
    }
   ],
   "source": [
    "# Create IBUI\n",
    "IBUI = image.expression(\n",
    "    'NDBI - SAVI - MNDWI',\n",
    "    {\n",
    "        'NDBI': NDBI,\n",
    "        'SAVI': SAVI,\n",
    "        'MNDWI': MNDWI\n",
    "    }\n",
    ")\n",
    "m.addLayer(IBUI, {'palette': ['#000000', '#FFFFFF'], 'min': -1, 'max': 1}, 'IBUI')"
   ]
  },
  {
   "cell_type": "code",
   "execution_count": 19,
   "id": "b7fad1c0-9a1b-447d-8e55-c5ad7785def4",
   "metadata": {},
   "outputs": [
    {
     "data": {
      "text/html": [
       "\n",
       "            <style>\n",
       "                .geemap-dark {\n",
       "                    --jp-widgets-color: white;\n",
       "                    --jp-widgets-label-color: white;\n",
       "                    --jp-ui-font-color1: white;\n",
       "                    --jp-layout-color2: #454545;\n",
       "                    background-color: #383838;\n",
       "                }\n",
       "\n",
       "                .geemap-dark .jupyter-button {\n",
       "                    --jp-layout-color3: #383838;\n",
       "                }\n",
       "\n",
       "                .geemap-colab {\n",
       "                    background-color: var(--colab-primary-surface-color, white);\n",
       "                }\n",
       "\n",
       "                .geemap-colab .jupyter-button {\n",
       "                    --jp-layout-color3: var(--colab-primary-surface-color, white);\n",
       "                }\n",
       "            </style>\n",
       "            "
      ],
      "text/plain": [
       "<IPython.core.display.HTML object>"
      ]
     },
     "metadata": {},
     "output_type": "display_data"
    }
   ],
   "source": [
    "# Create BAEI\n",
    "BAEI = image. expression(\n",
    "    '(R + 0.3) / (G + SWIR)',\n",
    "    {\n",
    "        'R': image.select('B4'),\n",
    "        'G': image.select('B3'),\n",
    "        'SWIR': image.select('B11'),\n",
    "    }\n",
    ")\n",
    "m.addLayer(BAEI, {'palette': ['#000000', '#FFFFFF'], 'min': -1, 'max': 1}, 'BAEI')"
   ]
  },
  {
   "cell_type": "code",
   "execution_count": 27,
   "id": "ea308144-6a8d-4274-8b14-2325c5612f63",
   "metadata": {},
   "outputs": [
    {
     "data": {
      "text/html": [
       "\n",
       "            <style>\n",
       "                .geemap-dark {\n",
       "                    --jp-widgets-color: white;\n",
       "                    --jp-widgets-label-color: white;\n",
       "                    --jp-ui-font-color1: white;\n",
       "                    --jp-layout-color2: #454545;\n",
       "                    background-color: #383838;\n",
       "                }\n",
       "\n",
       "                .geemap-dark .jupyter-button {\n",
       "                    --jp-layout-color3: #383838;\n",
       "                }\n",
       "\n",
       "                .geemap-colab {\n",
       "                    background-color: var(--colab-primary-surface-color, white);\n",
       "                }\n",
       "\n",
       "                .geemap-colab .jupyter-button {\n",
       "                    --jp-layout-color3: var(--colab-primary-surface-color, white);\n",
       "                }\n",
       "            </style>\n",
       "            "
      ],
      "text/plain": [
       "<IPython.core.display.HTML object>"
      ]
     },
     "metadata": {},
     "output_type": "display_data"
    }
   ],
   "source": [
    "# Create NBAI\n",
    "NBAI = image.expression(\n",
    "    '((SWIR2 - SWIR1) / G) / ((SWIR2 + SWIR1) / G)',\n",
    "    {\n",
    "        'SWIR2': image.select('B12'),\n",
    "        'SWIR1': image.select('B11'),\n",
    "        'G': image.select('B3')\n",
    "    }\n",
    ")\n",
    "m.addLayer(NBAI, {'palette': ['#000000', '#FFFFFF'], 'min': -1, 'max': 1}, 'NBAI')"
   ]
  },
  {
   "cell_type": "code",
   "execution_count": 28,
   "id": "9ba0749f-8a1e-4291-80ac-21fab4c1644a",
   "metadata": {},
   "outputs": [
    {
     "data": {
      "text/html": [
       "\n",
       "            <style>\n",
       "                .geemap-dark {\n",
       "                    --jp-widgets-color: white;\n",
       "                    --jp-widgets-label-color: white;\n",
       "                    --jp-ui-font-color1: white;\n",
       "                    --jp-layout-color2: #454545;\n",
       "                    background-color: #383838;\n",
       "                }\n",
       "\n",
       "                .geemap-dark .jupyter-button {\n",
       "                    --jp-layout-color3: #383838;\n",
       "                }\n",
       "\n",
       "                .geemap-colab {\n",
       "                    background-color: var(--colab-primary-surface-color, white);\n",
       "                }\n",
       "\n",
       "                .geemap-colab .jupyter-button {\n",
       "                    --jp-layout-color3: var(--colab-primary-surface-color, white);\n",
       "                }\n",
       "            </style>\n",
       "            "
      ],
      "text/plain": [
       "<IPython.core.display.HTML object>"
      ]
     },
     "metadata": {},
     "output_type": "display_data"
    }
   ],
   "source": [
    "# Create BRBA\n",
    "BRBA = image.select('B4').divide(image.select('B12'))\n",
    "m.addLayer(BRBA, {'palette': ['#000000', '#FFFFFF'], 'min': -1, 'max': 1}, 'BRBA')"
   ]
  },
  {
   "cell_type": "code",
   "execution_count": 29,
   "id": "22cfc977-d0ee-42d0-98b8-b5c2c26f9ee6",
   "metadata": {},
   "outputs": [
    {
     "data": {
      "text/html": [
       "\n",
       "            <style>\n",
       "                .geemap-dark {\n",
       "                    --jp-widgets-color: white;\n",
       "                    --jp-widgets-label-color: white;\n",
       "                    --jp-ui-font-color1: white;\n",
       "                    --jp-layout-color2: #454545;\n",
       "                    background-color: #383838;\n",
       "                }\n",
       "\n",
       "                .geemap-dark .jupyter-button {\n",
       "                    --jp-layout-color3: #383838;\n",
       "                }\n",
       "\n",
       "                .geemap-colab {\n",
       "                    background-color: var(--colab-primary-surface-color, white);\n",
       "                }\n",
       "\n",
       "                .geemap-colab .jupyter-button {\n",
       "                    --jp-layout-color3: var(--colab-primary-surface-color, white);\n",
       "                }\n",
       "            </style>\n",
       "            "
      ],
      "text/plain": [
       "<IPython.core.display.HTML object>"
      ]
     },
     "metadata": {},
     "output_type": "display_data"
    }
   ],
   "source": [
    "# Create MBI\n",
    "MBI = image.expression(\n",
    "    '(SWIR1 * R - NIR*NIR) / (R + NIR + SWIR1)',\n",
    "    {\n",
    "        'SWIR1': image.select('B11'),\n",
    "        'NIR': image.select('B8'),\n",
    "        'R': image.select('B4')\n",
    "    }\n",
    ")\n",
    "m.addLayer(MBI, {'palette': ['#000000', '#FFFFFF'], 'min': -1, 'max': 1}, 'MBI')"
   ]
  },
  {
   "cell_type": "code",
   "execution_count": 30,
   "id": "fe65e25f-f0ca-4ff1-8af7-286eed8b6b2f",
   "metadata": {},
   "outputs": [
    {
     "data": {
      "text/html": [
       "\n",
       "            <style>\n",
       "                .geemap-dark {\n",
       "                    --jp-widgets-color: white;\n",
       "                    --jp-widgets-label-color: white;\n",
       "                    --jp-ui-font-color1: white;\n",
       "                    --jp-layout-color2: #454545;\n",
       "                    background-color: #383838;\n",
       "                }\n",
       "\n",
       "                .geemap-dark .jupyter-button {\n",
       "                    --jp-layout-color3: #383838;\n",
       "                }\n",
       "\n",
       "                .geemap-colab {\n",
       "                    background-color: var(--colab-primary-surface-color, white);\n",
       "                }\n",
       "\n",
       "                .geemap-colab .jupyter-button {\n",
       "                    --jp-layout-color3: var(--colab-primary-surface-color, white);\n",
       "                }\n",
       "            </style>\n",
       "            "
      ],
      "text/plain": [
       "<IPython.core.display.HTML object>"
      ]
     },
     "metadata": {},
     "output_type": "display_data"
    }
   ],
   "source": [
    "# Create NBI\n",
    "NBI = image.expression(\n",
    "    'R * SWIR2 / NIR',\n",
    "    {\n",
    "        'R': image.select('B4'),\n",
    "        'SWIR2': image.select('B12'),\n",
    "        'NIR': image.select('B8')\n",
    "    }\n",
    ")\n",
    "m.addLayer(NBI, {'palette': ['#000000', '#FFFFFF'], 'min': -1, 'max': 1}, 'NBI')"
   ]
  },
  {
   "cell_type": "code",
   "execution_count": 32,
   "id": "3206f8ae-cd2c-404b-8de9-33b636ac25b0",
   "metadata": {},
   "outputs": [
    {
     "data": {
      "text/html": [
       "\n",
       "            <style>\n",
       "                .geemap-dark {\n",
       "                    --jp-widgets-color: white;\n",
       "                    --jp-widgets-label-color: white;\n",
       "                    --jp-ui-font-color1: white;\n",
       "                    --jp-layout-color2: #454545;\n",
       "                    background-color: #383838;\n",
       "                }\n",
       "\n",
       "                .geemap-dark .jupyter-button {\n",
       "                    --jp-layout-color3: #383838;\n",
       "                }\n",
       "\n",
       "                .geemap-colab {\n",
       "                    background-color: var(--colab-primary-surface-color, white);\n",
       "                }\n",
       "\n",
       "                .geemap-colab .jupyter-button {\n",
       "                    --jp-layout-color3: var(--colab-primary-surface-color, white);\n",
       "                }\n",
       "            </style>\n",
       "            "
      ],
      "text/plain": [
       "<IPython.core.display.HTML object>"
      ]
     },
     "metadata": {},
     "output_type": "display_data"
    }
   ],
   "source": [
    "# Create UI\n",
    "UI = image.normalizedDifference([\"B11\", \"B8\"])\n",
    "m.addLayer(UI, {'palette': ['#000000', '#FFFFFF'], 'min': -1, 'max': 1}, 'UI')"
   ]
  },
  {
   "cell_type": "code",
   "execution_count": 33,
   "id": "986610fb-dd4e-4ab9-b461-995caf20a9a6",
   "metadata": {},
   "outputs": [
    {
     "data": {
      "text/html": [
       "\n",
       "            <style>\n",
       "                .geemap-dark {\n",
       "                    --jp-widgets-color: white;\n",
       "                    --jp-widgets-label-color: white;\n",
       "                    --jp-ui-font-color1: white;\n",
       "                    --jp-layout-color2: #454545;\n",
       "                    background-color: #383838;\n",
       "                }\n",
       "\n",
       "                .geemap-dark .jupyter-button {\n",
       "                    --jp-layout-color3: #383838;\n",
       "                }\n",
       "\n",
       "                .geemap-colab {\n",
       "                    background-color: var(--colab-primary-surface-color, white);\n",
       "                }\n",
       "\n",
       "                .geemap-colab .jupyter-button {\n",
       "                    --jp-layout-color3: var(--colab-primary-surface-color, white);\n",
       "                }\n",
       "            </style>\n",
       "            "
      ],
      "text/plain": [
       "<IPython.core.display.HTML object>"
      ]
     },
     "metadata": {},
     "output_type": "display_data"
    }
   ],
   "source": [
    "# Create BSI\n",
    "BSI = image.expression(\n",
    "    '((SWIR + R) - (NIR + B)) / (((SWIR + R) + (NIR + B)))',\n",
    "    {\n",
    "        'SWIR': image.select('B11'),\n",
    "        'NIR': image.select('B8'),\n",
    "        'R': image.select('B4'),\n",
    "        'B': image.select('B3')\n",
    "    }\n",
    ")\n",
    "m.addLayer(BSI, {'palette': ['#000000', '#FFFFFF'], 'min': -1, 'max': 1}, 'BSI')"
   ]
  },
  {
   "cell_type": "code",
   "execution_count": 36,
   "id": "9a8b57e0-57ad-42c8-bb50-57e60146da75",
   "metadata": {},
   "outputs": [
    {
     "data": {
      "text/html": [
       "\n",
       "            <style>\n",
       "                .geemap-dark {\n",
       "                    --jp-widgets-color: white;\n",
       "                    --jp-widgets-label-color: white;\n",
       "                    --jp-ui-font-color1: white;\n",
       "                    --jp-layout-color2: #454545;\n",
       "                    background-color: #383838;\n",
       "                }\n",
       "\n",
       "                .geemap-dark .jupyter-button {\n",
       "                    --jp-layout-color3: #383838;\n",
       "                }\n",
       "\n",
       "                .geemap-colab {\n",
       "                    background-color: var(--colab-primary-surface-color, white);\n",
       "                }\n",
       "\n",
       "                .geemap-colab .jupyter-button {\n",
       "                    --jp-layout-color3: var(--colab-primary-surface-color, white);\n",
       "                }\n",
       "            </style>\n",
       "            "
      ],
      "text/plain": [
       "<IPython.core.display.HTML object>"
      ]
     },
     "metadata": {},
     "output_type": "display_data"
    }
   ],
   "source": [
    "# Create NDTI + NDVIre + MNDWI \n",
    "NDTI = image.normalizedDifference(['B11', 'B12'])\n",
    "NDVIre = image.normalizedDifference(['B5', 'B4'])\n",
    "MultiBI = NDTI.add(NDVIre).add(MNDWI).multiply(-1)\n",
    "m.addLayer(MultiBI, {'palette': ['#000000', '#FFFFFF'], 'min': -1, 'max': 1}, 'MultiBI')"
   ]
  },
  {
   "cell_type": "code",
   "execution_count": 46,
   "id": "02c48457-5d13-42b1-9d2d-1eee4b36f969",
   "metadata": {
    "scrolled": true
   },
   "outputs": [
    {
     "data": {
      "text/html": [
       "\n",
       "            <style>\n",
       "                .geemap-dark {\n",
       "                    --jp-widgets-color: white;\n",
       "                    --jp-widgets-label-color: white;\n",
       "                    --jp-ui-font-color1: white;\n",
       "                    --jp-layout-color2: #454545;\n",
       "                    background-color: #383838;\n",
       "                }\n",
       "\n",
       "                .geemap-dark .jupyter-button {\n",
       "                    --jp-layout-color3: #383838;\n",
       "                }\n",
       "\n",
       "                .geemap-colab {\n",
       "                    background-color: var(--colab-primary-surface-color, white);\n",
       "                }\n",
       "\n",
       "                .geemap-colab .jupyter-button {\n",
       "                    --jp-layout-color3: var(--colab-primary-surface-color, white);\n",
       "                }\n",
       "            </style>\n",
       "            "
      ],
      "text/plain": [
       "<IPython.core.display.HTML object>"
      ]
     },
     "metadata": {},
     "output_type": "display_data"
    },
    {
     "name": "stdout",
     "output_type": "stream",
     "text": [
      "Generating URL ...\n",
      "Downloading data from https://earthengine.googleapis.com/v1/projects/1073918750700/tables/2cef934990b5234d046c957d8bc38da6-a530d41f40af105b0a1bf84e428bff9e:getFeatures\n",
      "Please wait ...\n",
      "Data downloaded to /Users/vanchy/Documents/GitHub/VBI/data/NDBI615.csv\n",
      "Generating URL ...\n",
      "Downloading data from https://earthengine.googleapis.com/v1/projects/1073918750700/tables/adedf2257da947f550f5dad8a18a8130-9763082d2aee9d9219c3e02a89cbacf1:getFeatures\n",
      "Please wait ...\n",
      "Data downloaded to /Users/vanchy/Documents/GitHub/VBI/data/BUI615.csv\n",
      "Generating URL ...\n",
      "Downloading data from https://earthengine.googleapis.com/v1/projects/1073918750700/tables/26956491a9ad9b22114d8d67cfd421a8-96ccbe4e755615eea3eda022918a93c1:getFeatures\n",
      "Please wait ...\n",
      "Data downloaded to /Users/vanchy/Documents/GitHub/VBI/data/VBI615.csv\n",
      "Generating URL ...\n",
      "Downloading data from https://earthengine.googleapis.com/v1/projects/1073918750700/tables/92a4962cefb1f9e64b53050fcfba9910-fa7b4863e5ed0ec2c38209e7039cfa2f:getFeatures\n",
      "Please wait ...\n",
      "Data downloaded to /Users/vanchy/Documents/GitHub/VBI/data/IBI615.csv\n",
      "Generating URL ...\n",
      "Downloading data from https://earthengine.googleapis.com/v1/projects/1073918750700/tables/2876de5adc2b60518f975cebd20f45fa-32a488ab931ac2458ed1847e339fb3a0:getFeatures\n",
      "Please wait ...\n",
      "Data downloaded to /Users/vanchy/Documents/GitHub/VBI/data/BBI615.csv\n",
      "Generating URL ...\n",
      "Downloading data from https://earthengine.googleapis.com/v1/projects/1073918750700/tables/bd1d69ed421479f651a527d3222026d2-a4fa977c88fe34691c93f129b8d45d37:getFeatures\n",
      "Please wait ...\n",
      "Data downloaded to /Users/vanchy/Documents/GitHub/VBI/data/IBUI615.csv\n",
      "Generating URL ...\n",
      "Downloading data from https://earthengine.googleapis.com/v1/projects/1073918750700/tables/93530a8fc0f5c997be6245a6b6d7bfef-9a02a444cca56e9438d2b92a477ad156:getFeatures\n",
      "Please wait ...\n",
      "Data downloaded to /Users/vanchy/Documents/GitHub/VBI/data/BAEI615.csv\n",
      "Generating URL ...\n",
      "Downloading data from https://earthengine.googleapis.com/v1/projects/1073918750700/tables/de57013cb474749d830c2fffe33f39fa-faafb73a376be5d306a14db94f577ef1:getFeatures\n",
      "Please wait ...\n",
      "Data downloaded to /Users/vanchy/Documents/GitHub/VBI/data/BRBA615.csv\n",
      "Generating URL ...\n",
      "Downloading data from https://earthengine.googleapis.com/v1/projects/1073918750700/tables/8da27b7ebf3855ef73a4b083dca9cb46-c3eb8e4649c8cf48a242be8fe031a0c7:getFeatures\n",
      "Please wait ...\n",
      "Data downloaded to /Users/vanchy/Documents/GitHub/VBI/data/MBI615.csv\n",
      "Generating URL ...\n",
      "Downloading data from https://earthengine.googleapis.com/v1/projects/1073918750700/tables/97ea44ca67666cc9e9faeb2f94fbbaca-ef1b94c472ab959de9e82cb49e25cd71:getFeatures\n",
      "Please wait ...\n",
      "Data downloaded to /Users/vanchy/Documents/GitHub/VBI/data/NBI615.csv\n",
      "Generating URL ...\n",
      "Downloading data from https://earthengine.googleapis.com/v1/projects/1073918750700/tables/dfdcb7193c85710bba5f5d4710095cf5-4fdbaad6ee5bf675189c6268b756488a:getFeatures\n",
      "Please wait ...\n",
      "Data downloaded to /Users/vanchy/Documents/GitHub/VBI/data/UI615.csv\n",
      "Generating URL ...\n",
      "Downloading data from https://earthengine.googleapis.com/v1/projects/1073918750700/tables/064f9e8fde2f8c1bae3d3c7a88b82e58-9415b588dc29e1381b3d4591e61c07b9:getFeatures\n",
      "Please wait ...\n",
      "Data downloaded to /Users/vanchy/Documents/GitHub/VBI/data/BSI615.csv\n",
      "Generating URL ...\n",
      "Downloading data from https://earthengine.googleapis.com/v1/projects/1073918750700/tables/ef5db73357bbb75b1686cf91d7089b40-41f5c691112cb344eaa28252beb67423:getFeatures\n",
      "Please wait ...\n",
      "Data downloaded to /Users/vanchy/Documents/GitHub/VBI/data/MultiBI615.csv\n"
     ]
    }
   ],
   "source": [
    "# Extract values to points (same data have been collected via ArcIS Pro and stored in the data folder)\n",
    "work_dir = cwp + \"/data/\"\n",
    "in_shp = os.path.join(work_dir, \"20250205_615sample_allbands.shp\")\n",
    "in_fc = geemap.shp_to_ee(in_shp)\n",
    "\n",
    "NDBI_csv = os.path.join(work_dir, \"NDBI615.csv\") \n",
    "BU_csv = os.path.join(work_dir, \"BUI615.csv\")\n",
    "VBI_csv = os.path.join(work_dir, \"VBI615.csv\")\n",
    "IBI_csv = os.path.join(work_dir, \"IBI615.csv\")\n",
    "BBI_csv = os.path.join(work_dir, \"BBI615.csv\")\n",
    "IBUI_csv = os.path.join(work_dir, \"IBUI615.csv\")\n",
    "BAEI_csv = os.path.join(work_dir, \"BAEI615.csv\")\n",
    "BRBA_csv = os.path.join(work_dir, \"BRBA615.csv\")\n",
    "MBI_csv = os.path.join(work_dir, \"MBI615.csv\")\n",
    "NBI_csv = os.path.join(work_dir, \"NBI615.csv\")\n",
    "UI_csv = os.path.join(work_dir, \"UI615.csv\")\n",
    "BSI_csv = os.path.join(work_dir, \"BSI615.csv\")\n",
    "multiBI_csv = os.path.join(work_dir, \"MultiBI615.csv\")\n",
    "\n",
    "geemap.extract_values_to_points(in_fc, NDBI, NDBI_csv)\n",
    "geemap.extract_values_to_points(in_fc, BU, BU_csv)\n",
    "geemap.extract_values_to_points(in_fc, VBI, VBI_csv)\n",
    "geemap.extract_values_to_points(in_fc, IBI, IBI_csv)\n",
    "geemap.extract_values_to_points(in_fc, BBI, BBI_csv)\n",
    "geemap.extract_values_to_points(in_fc, IBUI, IBUI_csv)\n",
    "geemap.extract_values_to_points(in_fc, BAEI, BAEI_csv)\n",
    "geemap.extract_values_to_points(in_fc, BRBA, BRBA_csv)\n",
    "geemap.extract_values_to_points(in_fc, MBI, MBI_csv)\n",
    "geemap.extract_values_to_points(in_fc, NBI, NBI_csv)\n",
    "geemap.extract_values_to_points(in_fc, UI, UI_csv)\n",
    "geemap.extract_values_to_points(in_fc, BSI, BSI_csv)\n",
    "geemap.extract_values_to_points(in_fc, MultiBI, multiBI_csv)\n",
    "\n",
    "# RGB_csv = os.path.join(work_dir, \"RGB615.csv\")\n",
    "# HSV_csv = os.path.join(work_dir, \"HSV615.csv\")\n",
    "# geemap.extract_values_to_points(in_fc, RGB, RGB_csv)\n",
    "# geemap.extract_values_to_points(in_fc, HSV, HSV_csv)"
   ]
  },
  {
   "cell_type": "code",
   "execution_count": null,
   "id": "92776e7c-ce9a-4d26-9cb2-fb38b56f505d",
   "metadata": {},
   "outputs": [],
   "source": []
  },
  {
   "cell_type": "code",
   "execution_count": 49,
   "id": "e6b6bfd1-a3e8-4040-ab45-5cd6dd1609d9",
   "metadata": {},
   "outputs": [
    {
     "data": {
      "text/html": [
       "\n",
       "            <style>\n",
       "                .geemap-dark {\n",
       "                    --jp-widgets-color: white;\n",
       "                    --jp-widgets-label-color: white;\n",
       "                    --jp-ui-font-color1: white;\n",
       "                    --jp-layout-color2: #454545;\n",
       "                    background-color: #383838;\n",
       "                }\n",
       "\n",
       "                .geemap-dark .jupyter-button {\n",
       "                    --jp-layout-color3: #383838;\n",
       "                }\n",
       "\n",
       "                .geemap-colab {\n",
       "                    background-color: var(--colab-primary-surface-color, white);\n",
       "                }\n",
       "\n",
       "                .geemap-colab .jupyter-button {\n",
       "                    --jp-layout-color3: var(--colab-primary-surface-color, white);\n",
       "                }\n",
       "            </style>\n",
       "            "
      ],
      "text/plain": [
       "<IPython.core.display.HTML object>"
      ]
     },
     "metadata": {},
     "output_type": "display_data"
    },
    {
     "data": {
      "text/html": [
       "<div>\n",
       "<style scoped>\n",
       "    .dataframe tbody tr th:only-of-type {\n",
       "        vertical-align: middle;\n",
       "    }\n",
       "\n",
       "    .dataframe tbody tr th {\n",
       "        vertical-align: top;\n",
       "    }\n",
       "\n",
       "    .dataframe thead th {\n",
       "        text-align: right;\n",
       "    }\n",
       "</style>\n",
       "<table border=\"1\" class=\"dataframe\">\n",
       "  <thead>\n",
       "    <tr style=\"text-align: right;\">\n",
       "      <th></th>\n",
       "      <th>NDBI</th>\n",
       "      <th>Urban</th>\n",
       "      <th>Type</th>\n",
       "      <th>BU</th>\n",
       "      <th>VBI</th>\n",
       "      <th>IBI</th>\n",
       "      <th>BBI</th>\n",
       "      <th>IBUI</th>\n",
       "      <th>BAEI</th>\n",
       "      <th>BRBA</th>\n",
       "      <th>MBI</th>\n",
       "      <th>NBI</th>\n",
       "      <th>UI</th>\n",
       "      <th>BSI</th>\n",
       "      <th>MultiBI</th>\n",
       "    </tr>\n",
       "  </thead>\n",
       "  <tbody>\n",
       "    <tr>\n",
       "      <th>0</th>\n",
       "      <td>-0.096741</td>\n",
       "      <td>1</td>\n",
       "      <td>3</td>\n",
       "      <td>-0.193736</td>\n",
       "      <td>-0.187451</td>\n",
       "      <td>-0.372121</td>\n",
       "      <td>1</td>\n",
       "      <td>0.085222</td>\n",
       "      <td>1.070920</td>\n",
       "      <td>0.755470</td>\n",
       "      <td>-0.072555</td>\n",
       "      <td>0.155353</td>\n",
       "      <td>-0.025284</td>\n",
       "      <td>-0.005650</td>\n",
       "      <td>0.177597</td>\n",
       "    </tr>\n",
       "    <tr>\n",
       "      <th>1</th>\n",
       "      <td>-0.408324</td>\n",
       "      <td>0</td>\n",
       "      <td>9</td>\n",
       "      <td>-0.468475</td>\n",
       "      <td>-0.579391</td>\n",
       "      <td>0.815735</td>\n",
       "      <td>1</td>\n",
       "      <td>-0.190540</td>\n",
       "      <td>1.369178</td>\n",
       "      <td>0.720058</td>\n",
       "      <td>-0.163974</td>\n",
       "      <td>0.039030</td>\n",
       "      <td>-0.239061</td>\n",
       "      <td>-0.205292</td>\n",
       "      <td>-0.039022</td>\n",
       "    </tr>\n",
       "    <tr>\n",
       "      <th>2</th>\n",
       "      <td>-0.230127</td>\n",
       "      <td>1</td>\n",
       "      <td>4</td>\n",
       "      <td>-0.144651</td>\n",
       "      <td>-0.170715</td>\n",
       "      <td>1.363584</td>\n",
       "      <td>0</td>\n",
       "      <td>-0.117187</td>\n",
       "      <td>0.935844</td>\n",
       "      <td>0.634960</td>\n",
       "      <td>-0.067740</td>\n",
       "      <td>0.097028</td>\n",
       "      <td>-0.089616</td>\n",
       "      <td>-0.040593</td>\n",
       "      <td>-0.045590</td>\n",
       "    </tr>\n",
       "    <tr>\n",
       "      <th>3</th>\n",
       "      <td>0.011392</td>\n",
       "      <td>1</td>\n",
       "      <td>1</td>\n",
       "      <td>-0.005123</td>\n",
       "      <td>0.100360</td>\n",
       "      <td>-1.890403</td>\n",
       "      <td>1</td>\n",
       "      <td>0.158453</td>\n",
       "      <td>0.840053</td>\n",
       "      <td>0.860522</td>\n",
       "      <td>-0.003544</td>\n",
       "      <td>0.492318</td>\n",
       "      <td>0.021149</td>\n",
       "      <td>0.064563</td>\n",
       "      <td>0.122493</td>\n",
       "    </tr>\n",
       "    <tr>\n",
       "      <th>4</th>\n",
       "      <td>-0.139024</td>\n",
       "      <td>1</td>\n",
       "      <td>1</td>\n",
       "      <td>-0.057225</td>\n",
       "      <td>0.914400</td>\n",
       "      <td>0.824259</td>\n",
       "      <td>0</td>\n",
       "      <td>-0.034005</td>\n",
       "      <td>0.941531</td>\n",
       "      <td>1.594901</td>\n",
       "      <td>-0.027485</td>\n",
       "      <td>0.266988</td>\n",
       "      <td>-0.042120</td>\n",
       "      <td>-0.003513</td>\n",
       "      <td>-0.009520</td>\n",
       "    </tr>\n",
       "  </tbody>\n",
       "</table>\n",
       "</div>"
      ],
      "text/plain": [
       "       NDBI  Urban  Type        BU       VBI       IBI  BBI      IBUI  \\\n",
       "0 -0.096741      1     3 -0.193736 -0.187451 -0.372121    1  0.085222   \n",
       "1 -0.408324      0     9 -0.468475 -0.579391  0.815735    1 -0.190540   \n",
       "2 -0.230127      1     4 -0.144651 -0.170715  1.363584    0 -0.117187   \n",
       "3  0.011392      1     1 -0.005123  0.100360 -1.890403    1  0.158453   \n",
       "4 -0.139024      1     1 -0.057225  0.914400  0.824259    0 -0.034005   \n",
       "\n",
       "       BAEI      BRBA       MBI       NBI        UI       BSI   MultiBI  \n",
       "0  1.070920  0.755470 -0.072555  0.155353 -0.025284 -0.005650  0.177597  \n",
       "1  1.369178  0.720058 -0.163974  0.039030 -0.239061 -0.205292 -0.039022  \n",
       "2  0.935844  0.634960 -0.067740  0.097028 -0.089616 -0.040593 -0.045590  \n",
       "3  0.840053  0.860522 -0.003544  0.492318  0.021149  0.064563  0.122493  \n",
       "4  0.941531  1.594901 -0.027485  0.266988 -0.042120 -0.003513 -0.009520  "
      ]
     },
     "execution_count": 49,
     "metadata": {},
     "output_type": "execute_result"
    }
   ],
   "source": [
    "# Read your CSVs\n",
    "# Some issue on points!\n",
    "ndbi = pd.read_csv(work_dir + \"NDBI615.csv\")\n",
    "bu = pd.read_csv(work_dir + \"BUI615.csv\")\n",
    "vbi = pd.read_csv(work_dir + \"VBI615.csv\")\n",
    "ibi = pd.read_csv(work_dir + \"IBI615.csv\")\n",
    "bbi = pd.read_csv(work_dir + \"BBI615.csv\")\n",
    "ibui = pd.read_csv(work_dir + \"IBUI615.csv\")\n",
    "baei = pd.read_csv(work_dir + \"BAEI615.csv\")\n",
    "brba = pd.read_csv(work_dir + \"BRBA615.csv\")\n",
    "mbi = pd.read_csv(work_dir + \"MBI615.csv\")\n",
    "nbi = pd.read_csv(work_dir + \"NBI615.csv\")\n",
    "ui = pd.read_csv(work_dir + \"UI615.csv\")\n",
    "bsi = pd.read_csv(work_dir + \"BSI615.csv\")\n",
    "multibi = pd.read_csv(work_dir + \"MultiBI615.csv\")\n",
    "\n",
    "# Keep only the needed columns and rename 'first'\n",
    "ndbi = ndbi[['first', 'Urban', 'Type']].rename(columns={'first': 'NDBI'})\n",
    "bu = bu[['first']].rename(columns={'first': 'BU'})   # Urban & Type already in NDBI\n",
    "vbi = vbi[['first']].rename(columns={'first': 'VBI'})\n",
    "ibi = ibi[['first']].rename(columns={'first': 'IBI'})\n",
    "bbi = bbi[['first']].rename(columns={'first': 'BBI'})\n",
    "ibui = ibui[['first']].rename(columns={'first': 'IBUI'})\n",
    "baei = baei[['first']].rename(columns={'first': 'BAEI'})\n",
    "brba = brba[['first']].rename(columns={'first': 'BRBA'})\n",
    "mbi = mbi[['first']].rename(columns={'first': 'MBI'})\n",
    "nbi = nbi[['first']].rename(columns={'first': 'NBI'})\n",
    "ui = ui[['first']].rename(columns={'first': 'UI'})\n",
    "bsi = bsi[['first']].rename(columns={'first': 'BSI'})\n",
    "multibi = multibi[['first']].rename(columns={'first': 'MultiBI'})\n",
    "\n",
    "# Combine into one dataframe\n",
    "merged = pd.concat([ndbi, bu, vbi, ibi, bbi, ibui, baei, brba, mbi, nbi, ui, bsi, multibi], axis=1)\n",
    "\n",
    "# Save to CSV\n",
    "merged.to_csv(\"Combined_Builtup_Index.csv\", index=False)\n",
    "\n",
    "merged.head()\n"
   ]
  },
  {
   "cell_type": "markdown",
   "id": "62730761-52a6-4782-931c-4ee18d22d0df",
   "metadata": {},
   "source": [
    "# TOC Comparison"
   ]
  },
  {
   "cell_type": "code",
   "execution_count": 51,
   "id": "3487c6ef-abac-4632-9bd4-53c99c5a4f87",
   "metadata": {},
   "outputs": [
    {
     "data": {
      "text/html": [
       "\n",
       "            <style>\n",
       "                .geemap-dark {\n",
       "                    --jp-widgets-color: white;\n",
       "                    --jp-widgets-label-color: white;\n",
       "                    --jp-ui-font-color1: white;\n",
       "                    --jp-layout-color2: #454545;\n",
       "                    background-color: #383838;\n",
       "                }\n",
       "\n",
       "                .geemap-dark .jupyter-button {\n",
       "                    --jp-layout-color3: #383838;\n",
       "                }\n",
       "\n",
       "                .geemap-colab {\n",
       "                    background-color: var(--colab-primary-surface-color, white);\n",
       "                }\n",
       "\n",
       "                .geemap-colab .jupyter-button {\n",
       "                    --jp-layout-color3: var(--colab-primary-surface-color, white);\n",
       "                }\n",
       "            </style>\n",
       "            "
      ],
      "text/plain": [
       "<IPython.core.display.HTML object>"
      ]
     },
     "metadata": {},
     "output_type": "display_data"
    },
    {
     "name": "stdout",
     "output_type": "stream",
     "text": [
      "The size of extent: 615\n",
      "Abundance: 239\n",
      "AUC: 0.842083592984955\n",
      "The coordinate of point below top left corner: (239,173.0)\n"
     ]
    }
   ],
   "source": [
    "# Initialize TOC and generate TOC_NDBI\n",
    "all_csv = merged.sort_values(['NDBI'], ascending=[False])\n",
    "TOC_NDBI = TOC(all_csv['Urban'], all_csv['NDBI'], all_csv['NDBI'])\n",
    "# Get the summary\n",
    "TOC_NDBI.summary()"
   ]
  },
  {
   "cell_type": "code",
   "execution_count": 52,
   "id": "b2aa9609-54bd-4bb7-bb30-ac8bed7f247a",
   "metadata": {},
   "outputs": [
    {
     "data": {
      "text/html": [
       "\n",
       "            <style>\n",
       "                .geemap-dark {\n",
       "                    --jp-widgets-color: white;\n",
       "                    --jp-widgets-label-color: white;\n",
       "                    --jp-ui-font-color1: white;\n",
       "                    --jp-layout-color2: #454545;\n",
       "                    background-color: #383838;\n",
       "                }\n",
       "\n",
       "                .geemap-dark .jupyter-button {\n",
       "                    --jp-layout-color3: #383838;\n",
       "                }\n",
       "\n",
       "                .geemap-colab {\n",
       "                    background-color: var(--colab-primary-surface-color, white);\n",
       "                }\n",
       "\n",
       "                .geemap-colab .jupyter-button {\n",
       "                    --jp-layout-color3: var(--colab-primary-surface-color, white);\n",
       "                }\n",
       "            </style>\n",
       "            "
      ],
      "text/plain": [
       "<IPython.core.display.HTML object>"
      ]
     },
     "metadata": {},
     "output_type": "display_data"
    },
    {
     "name": "stdout",
     "output_type": "stream",
     "text": [
      "The size of extent: 615\n",
      "Abundance: 239\n",
      "AUC: 0.881621116353601\n",
      "The coordinate of point below top left corner: (239,181.0)\n"
     ]
    }
   ],
   "source": [
    "# Initialize TOC and generate TOC_BU\n",
    "all_csv = merged.sort_values(['BU'], ascending=[False])\n",
    "TOC_BU = TOC(all_csv['Urban'], all_csv['BU'], all_csv['BU'])\n",
    "# Get the summary\n",
    "TOC_BU.summary()"
   ]
  },
  {
   "cell_type": "code",
   "execution_count": 53,
   "id": "12b192d8-fa40-4173-9bc6-648e8880211a",
   "metadata": {},
   "outputs": [
    {
     "data": {
      "text/html": [
       "\n",
       "            <style>\n",
       "                .geemap-dark {\n",
       "                    --jp-widgets-color: white;\n",
       "                    --jp-widgets-label-color: white;\n",
       "                    --jp-ui-font-color1: white;\n",
       "                    --jp-layout-color2: #454545;\n",
       "                    background-color: #383838;\n",
       "                }\n",
       "\n",
       "                .geemap-dark .jupyter-button {\n",
       "                    --jp-layout-color3: #383838;\n",
       "                }\n",
       "\n",
       "                .geemap-colab {\n",
       "                    background-color: var(--colab-primary-surface-color, white);\n",
       "                }\n",
       "\n",
       "                .geemap-colab .jupyter-button {\n",
       "                    --jp-layout-color3: var(--colab-primary-surface-color, white);\n",
       "                }\n",
       "            </style>\n",
       "            "
      ],
      "text/plain": [
       "<IPython.core.display.HTML object>"
      ]
     },
     "metadata": {},
     "output_type": "display_data"
    },
    {
     "name": "stdout",
     "output_type": "stream",
     "text": [
      "The size of extent: 615\n",
      "Abundance: 239\n",
      "AUC: 0.9668053948188373\n",
      "The coordinate of point below top left corner: (239,208.0)\n"
     ]
    }
   ],
   "source": [
    "# Initialize TOC and generate TOC_VBI\n",
    "all_csv = merged.sort_values(['VBI'], ascending=[False])\n",
    "TOC_VBI = TOC(all_csv['Urban'], all_csv['VBI'], all_csv['VBI'])\n",
    "# Get the summary\n",
    "TOC_VBI.summary()"
   ]
  },
  {
   "cell_type": "code",
   "execution_count": 54,
   "id": "2d140386-b2dd-45e4-b03a-2564aea4556c",
   "metadata": {},
   "outputs": [
    {
     "data": {
      "text/html": [
       "\n",
       "            <style>\n",
       "                .geemap-dark {\n",
       "                    --jp-widgets-color: white;\n",
       "                    --jp-widgets-label-color: white;\n",
       "                    --jp-ui-font-color1: white;\n",
       "                    --jp-layout-color2: #454545;\n",
       "                    background-color: #383838;\n",
       "                }\n",
       "\n",
       "                .geemap-dark .jupyter-button {\n",
       "                    --jp-layout-color3: #383838;\n",
       "                }\n",
       "\n",
       "                .geemap-colab {\n",
       "                    background-color: var(--colab-primary-surface-color, white);\n",
       "                }\n",
       "\n",
       "                .geemap-colab .jupyter-button {\n",
       "                    --jp-layout-color3: var(--colab-primary-surface-color, white);\n",
       "                }\n",
       "            </style>\n",
       "            "
      ],
      "text/plain": [
       "<IPython.core.display.HTML object>"
      ]
     },
     "metadata": {},
     "output_type": "display_data"
    },
    {
     "name": "stdout",
     "output_type": "stream",
     "text": [
      "The size of extent: 615\n",
      "Abundance: 239\n",
      "AUC: 0.34493234220600016\n",
      "The coordinate of point below top left corner: (239,59.0)\n"
     ]
    }
   ],
   "source": [
    "# Initialize TOC and generate TOC_IBI\n",
    "all_csv = merged.sort_values(['IBI'], ascending=[False])\n",
    "TOC_IBI = TOC(all_csv['Urban'], all_csv['IBI'], all_csv['IBI'])\n",
    "# Get the summary\n",
    "TOC_IBI.summary()"
   ]
  },
  {
   "cell_type": "code",
   "execution_count": 55,
   "id": "4827fb3d-9f8a-4500-a052-d30d9208b344",
   "metadata": {},
   "outputs": [
    {
     "data": {
      "text/html": [
       "\n",
       "            <style>\n",
       "                .geemap-dark {\n",
       "                    --jp-widgets-color: white;\n",
       "                    --jp-widgets-label-color: white;\n",
       "                    --jp-ui-font-color1: white;\n",
       "                    --jp-layout-color2: #454545;\n",
       "                    background-color: #383838;\n",
       "                }\n",
       "\n",
       "                .geemap-dark .jupyter-button {\n",
       "                    --jp-layout-color3: #383838;\n",
       "                }\n",
       "\n",
       "                .geemap-colab {\n",
       "                    background-color: var(--colab-primary-surface-color, white);\n",
       "                }\n",
       "\n",
       "                .geemap-colab .jupyter-button {\n",
       "                    --jp-layout-color3: var(--colab-primary-surface-color, white);\n",
       "                }\n",
       "            </style>\n",
       "            "
      ],
      "text/plain": [
       "<IPython.core.display.HTML object>"
      ]
     },
     "metadata": {},
     "output_type": "display_data"
    },
    {
     "name": "stdout",
     "output_type": "stream",
     "text": [
      "The size of extent: 615\n",
      "Abundance: 239\n",
      "AUC: 0.8080543933054394\n",
      "The coordinate of point below top left corner: (239,164.3814432989691)\n"
     ]
    }
   ],
   "source": [
    "# Initialize TOC and generate TOC_BBI\n",
    "all_csv = merged.sort_values(['BBI'], ascending=[False])\n",
    "TOC_BBI = TOC(all_csv['Urban'], all_csv['BBI'], all_csv['BBI'])\n",
    "# Get the summary\n",
    "TOC_BBI.summary()"
   ]
  },
  {
   "cell_type": "code",
   "execution_count": 56,
   "id": "c1495a83-b2d3-4176-8a72-1eb6755666a4",
   "metadata": {},
   "outputs": [
    {
     "data": {
      "text/html": [
       "\n",
       "            <style>\n",
       "                .geemap-dark {\n",
       "                    --jp-widgets-color: white;\n",
       "                    --jp-widgets-label-color: white;\n",
       "                    --jp-ui-font-color1: white;\n",
       "                    --jp-layout-color2: #454545;\n",
       "                    background-color: #383838;\n",
       "                }\n",
       "\n",
       "                .geemap-dark .jupyter-button {\n",
       "                    --jp-layout-color3: #383838;\n",
       "                }\n",
       "\n",
       "                .geemap-colab {\n",
       "                    background-color: var(--colab-primary-surface-color, white);\n",
       "                }\n",
       "\n",
       "                .geemap-colab .jupyter-button {\n",
       "                    --jp-layout-color3: var(--colab-primary-surface-color, white);\n",
       "                }\n",
       "            </style>\n",
       "            "
      ],
      "text/plain": [
       "<IPython.core.display.HTML object>"
      ]
     },
     "metadata": {},
     "output_type": "display_data"
    },
    {
     "name": "stdout",
     "output_type": "stream",
     "text": [
      "The size of extent: 615\n",
      "Abundance: 239\n",
      "AUC: 0.7374699545980593\n",
      "The coordinate of point below top left corner: (239,141.0)\n"
     ]
    }
   ],
   "source": [
    "# Initialize TOC and generate TOC_IBUI\n",
    "all_csv = merged.sort_values(['IBUI'], ascending=[False])\n",
    "TOC_IBUI = TOC(all_csv['Urban'], all_csv['IBUI'], all_csv['IBUI'])\n",
    "# Get the summary\n",
    "TOC_IBUI.summary()"
   ]
  },
  {
   "cell_type": "code",
   "execution_count": 57,
   "id": "a326747e-9093-4490-9188-03a9f2e666f9",
   "metadata": {},
   "outputs": [
    {
     "data": {
      "text/html": [
       "\n",
       "            <style>\n",
       "                .geemap-dark {\n",
       "                    --jp-widgets-color: white;\n",
       "                    --jp-widgets-label-color: white;\n",
       "                    --jp-ui-font-color1: white;\n",
       "                    --jp-layout-color2: #454545;\n",
       "                    background-color: #383838;\n",
       "                }\n",
       "\n",
       "                .geemap-dark .jupyter-button {\n",
       "                    --jp-layout-color3: #383838;\n",
       "                }\n",
       "\n",
       "                .geemap-colab {\n",
       "                    background-color: var(--colab-primary-surface-color, white);\n",
       "                }\n",
       "\n",
       "                .geemap-colab .jupyter-button {\n",
       "                    --jp-layout-color3: var(--colab-primary-surface-color, white);\n",
       "                }\n",
       "            </style>\n",
       "            "
      ],
      "text/plain": [
       "<IPython.core.display.HTML object>"
      ]
     },
     "metadata": {},
     "output_type": "display_data"
    },
    {
     "name": "stdout",
     "output_type": "stream",
     "text": [
      "The size of extent: 615\n",
      "Abundance: 239\n",
      "AUC: 0.32662690287545626\n",
      "The coordinate of point below top left corner: (239,53.0)\n"
     ]
    }
   ],
   "source": [
    "# Initialize TOC and generate TOC_BAEI\n",
    "all_csv = merged.sort_values(['BAEI'], ascending=[False])\n",
    "TOC_BAEI = TOC(all_csv['Urban'], all_csv['BAEI'], all_csv['BAEI'])\n",
    "# Get the summary\n",
    "TOC_BAEI.summary()"
   ]
  },
  {
   "cell_type": "code",
   "execution_count": 58,
   "id": "5123d6b4-2fa8-4858-b9ad-6b73f7cf7eb8",
   "metadata": {},
   "outputs": [
    {
     "data": {
      "text/html": [
       "\n",
       "            <style>\n",
       "                .geemap-dark {\n",
       "                    --jp-widgets-color: white;\n",
       "                    --jp-widgets-label-color: white;\n",
       "                    --jp-ui-font-color1: white;\n",
       "                    --jp-layout-color2: #454545;\n",
       "                    background-color: #383838;\n",
       "                }\n",
       "\n",
       "                .geemap-dark .jupyter-button {\n",
       "                    --jp-layout-color3: #383838;\n",
       "                }\n",
       "\n",
       "                .geemap-colab {\n",
       "                    background-color: var(--colab-primary-surface-color, white);\n",
       "                }\n",
       "\n",
       "                .geemap-colab .jupyter-button {\n",
       "                    --jp-layout-color3: var(--colab-primary-surface-color, white);\n",
       "                }\n",
       "            </style>\n",
       "            "
      ],
      "text/plain": [
       "<IPython.core.display.HTML object>"
      ]
     },
     "metadata": {},
     "output_type": "display_data"
    },
    {
     "name": "stdout",
     "output_type": "stream",
     "text": [
      "The size of extent: 615\n",
      "Abundance: 239\n",
      "AUC: 0.9088622807798451\n",
      "The coordinate of point below top left corner: (239,196.0)\n"
     ]
    }
   ],
   "source": [
    "# Initialize TOC and generate TOC_BRBA\n",
    "all_csv = merged.sort_values(['BRBA'], ascending=[False])\n",
    "TOC_BRBA = TOC(all_csv['Urban'], all_csv['BRBA'], all_csv['BRBA'])\n",
    "# Get the summary\n",
    "TOC_BRBA.summary()"
   ]
  },
  {
   "cell_type": "code",
   "execution_count": 59,
   "id": "beaafd28-4e19-40a2-a57d-20d37262aeaa",
   "metadata": {},
   "outputs": [
    {
     "data": {
      "text/html": [
       "\n",
       "            <style>\n",
       "                .geemap-dark {\n",
       "                    --jp-widgets-color: white;\n",
       "                    --jp-widgets-label-color: white;\n",
       "                    --jp-ui-font-color1: white;\n",
       "                    --jp-layout-color2: #454545;\n",
       "                    background-color: #383838;\n",
       "                }\n",
       "\n",
       "                .geemap-dark .jupyter-button {\n",
       "                    --jp-layout-color3: #383838;\n",
       "                }\n",
       "\n",
       "                .geemap-colab {\n",
       "                    background-color: var(--colab-primary-surface-color, white);\n",
       "                }\n",
       "\n",
       "                .geemap-colab .jupyter-button {\n",
       "                    --jp-layout-color3: var(--colab-primary-surface-color, white);\n",
       "                }\n",
       "            </style>\n",
       "            "
      ],
      "text/plain": [
       "<IPython.core.display.HTML object>"
      ]
     },
     "metadata": {},
     "output_type": "display_data"
    },
    {
     "name": "stdout",
     "output_type": "stream",
     "text": [
      "The size of extent: 615\n",
      "Abundance: 239\n",
      "AUC: 0.8552145464257099\n",
      "The coordinate of point below top left corner: (239,171.0)\n"
     ]
    }
   ],
   "source": [
    "# Initialize TOC and generate TOC_MBI\n",
    "all_csv = merged.sort_values(['MBI'], ascending=[False])\n",
    "TOC_MBI = TOC(all_csv['Urban'], all_csv['MBI'], all_csv['MBI'])\n",
    "# Get the summary\n",
    "TOC_MBI.summary()"
   ]
  },
  {
   "cell_type": "code",
   "execution_count": 60,
   "id": "d5a788ec-5b70-412c-bf82-021da5022b5a",
   "metadata": {},
   "outputs": [
    {
     "data": {
      "text/html": [
       "\n",
       "            <style>\n",
       "                .geemap-dark {\n",
       "                    --jp-widgets-color: white;\n",
       "                    --jp-widgets-label-color: white;\n",
       "                    --jp-ui-font-color1: white;\n",
       "                    --jp-layout-color2: #454545;\n",
       "                    background-color: #383838;\n",
       "                }\n",
       "\n",
       "                .geemap-dark .jupyter-button {\n",
       "                    --jp-layout-color3: #383838;\n",
       "                }\n",
       "\n",
       "                .geemap-colab {\n",
       "                    background-color: var(--colab-primary-surface-color, white);\n",
       "                }\n",
       "\n",
       "                .geemap-colab .jupyter-button {\n",
       "                    --jp-layout-color3: var(--colab-primary-surface-color, white);\n",
       "                }\n",
       "            </style>\n",
       "            "
      ],
      "text/plain": [
       "<IPython.core.display.HTML object>"
      ]
     },
     "metadata": {},
     "output_type": "display_data"
    },
    {
     "name": "stdout",
     "output_type": "stream",
     "text": [
      "The size of extent: 615\n",
      "Abundance: 239\n",
      "AUC: 0.9073933944627437\n",
      "The coordinate of point below top left corner: (239,189.0)\n"
     ]
    }
   ],
   "source": [
    "# Initialize TOC and generate TOC_NBI\n",
    "all_csv = merged.sort_values(['NBI'], ascending=[False])\n",
    "TOC_NBI = TOC(all_csv['Urban'], all_csv['NBI'], all_csv['NBI'])\n",
    "# Get the summary\n",
    "TOC_NBI.summary()"
   ]
  },
  {
   "cell_type": "code",
   "execution_count": 61,
   "id": "912ab3ee-98c2-4cd7-bb73-13738f3544e1",
   "metadata": {},
   "outputs": [
    {
     "data": {
      "text/html": [
       "\n",
       "            <style>\n",
       "                .geemap-dark {\n",
       "                    --jp-widgets-color: white;\n",
       "                    --jp-widgets-label-color: white;\n",
       "                    --jp-ui-font-color1: white;\n",
       "                    --jp-layout-color2: #454545;\n",
       "                    background-color: #383838;\n",
       "                }\n",
       "\n",
       "                .geemap-dark .jupyter-button {\n",
       "                    --jp-layout-color3: #383838;\n",
       "                }\n",
       "\n",
       "                .geemap-colab {\n",
       "                    background-color: var(--colab-primary-surface-color, white);\n",
       "                }\n",
       "\n",
       "                .geemap-colab .jupyter-button {\n",
       "                    --jp-layout-color3: var(--colab-primary-surface-color, white);\n",
       "                }\n",
       "            </style>\n",
       "            "
      ],
      "text/plain": [
       "<IPython.core.display.HTML object>"
      ]
     },
     "metadata": {},
     "output_type": "display_data"
    },
    {
     "name": "stdout",
     "output_type": "stream",
     "text": [
      "The size of extent: 615\n",
      "Abundance: 239\n",
      "AUC: 0.8013219976853913\n",
      "The coordinate of point below top left corner: (239,154.0)\n"
     ]
    }
   ],
   "source": [
    "# Initialize TOC and generate TOC_UI\n",
    "all_csv = merged.sort_values(['UI'], ascending=[False])\n",
    "TOC_UI = TOC(all_csv['Urban'], all_csv['UI'], all_csv['UI'])\n",
    "# Get the summary\n",
    "TOC_UI.summary()"
   ]
  },
  {
   "cell_type": "code",
   "execution_count": 62,
   "id": "a2df42e8-8e62-4b14-844a-f6aa20ee694b",
   "metadata": {},
   "outputs": [
    {
     "data": {
      "text/html": [
       "\n",
       "            <style>\n",
       "                .geemap-dark {\n",
       "                    --jp-widgets-color: white;\n",
       "                    --jp-widgets-label-color: white;\n",
       "                    --jp-ui-font-color1: white;\n",
       "                    --jp-layout-color2: #454545;\n",
       "                    background-color: #383838;\n",
       "                }\n",
       "\n",
       "                .geemap-dark .jupyter-button {\n",
       "                    --jp-layout-color3: #383838;\n",
       "                }\n",
       "\n",
       "                .geemap-colab {\n",
       "                    background-color: var(--colab-primary-surface-color, white);\n",
       "                }\n",
       "\n",
       "                .geemap-colab .jupyter-button {\n",
       "                    --jp-layout-color3: var(--colab-primary-surface-color, white);\n",
       "                }\n",
       "            </style>\n",
       "            "
      ],
      "text/plain": [
       "<IPython.core.display.HTML object>"
      ]
     },
     "metadata": {},
     "output_type": "display_data"
    },
    {
     "name": "stdout",
     "output_type": "stream",
     "text": [
      "The size of extent: 615\n",
      "Abundance: 239\n",
      "AUC: 0.81602198878305\n",
      "The coordinate of point below top left corner: (239,166.0)\n"
     ]
    }
   ],
   "source": [
    "# Initialize TOC and generate TOC_BSI\n",
    "all_csv = merged.sort_values(['BSI'], ascending=[False])\n",
    "TOC_BSI = TOC(all_csv['Urban'], all_csv['BSI'], all_csv['BSI'])\n",
    "# Get the summary\n",
    "TOC_BSI.summary()"
   ]
  },
  {
   "cell_type": "code",
   "execution_count": 63,
   "id": "e44900cb-cfa7-4593-ac35-425544d86c0a",
   "metadata": {},
   "outputs": [
    {
     "data": {
      "text/html": [
       "\n",
       "            <style>\n",
       "                .geemap-dark {\n",
       "                    --jp-widgets-color: white;\n",
       "                    --jp-widgets-label-color: white;\n",
       "                    --jp-ui-font-color1: white;\n",
       "                    --jp-layout-color2: #454545;\n",
       "                    background-color: #383838;\n",
       "                }\n",
       "\n",
       "                .geemap-dark .jupyter-button {\n",
       "                    --jp-layout-color3: #383838;\n",
       "                }\n",
       "\n",
       "                .geemap-colab {\n",
       "                    background-color: var(--colab-primary-surface-color, white);\n",
       "                }\n",
       "\n",
       "                .geemap-colab .jupyter-button {\n",
       "                    --jp-layout-color3: var(--colab-primary-surface-color, white);\n",
       "                }\n",
       "            </style>\n",
       "            "
      ],
      "text/plain": [
       "<IPython.core.display.HTML object>"
      ]
     },
     "metadata": {},
     "output_type": "display_data"
    },
    {
     "name": "stdout",
     "output_type": "stream",
     "text": [
      "The size of extent: 615\n",
      "Abundance: 239\n",
      "AUC: 0.7242944894507255\n",
      "The coordinate of point below top left corner: (239,138.0)\n"
     ]
    }
   ],
   "source": [
    "# Initialize TOC and generate TOC_MultiBI\n",
    "all_csv = merged.sort_values(['MultiBI'], ascending=[False])\n",
    "TOC_MultiBI = TOC(all_csv['Urban'], all_csv['MultiBI'], all_csv['MultiBI'])\n",
    "# Get the summary\n",
    "TOC_MultiBI.summary()"
   ]
  },
  {
   "cell_type": "code",
   "execution_count": null,
   "id": "912ca223-6ad8-4c30-acce-8cd932a8e194",
   "metadata": {},
   "outputs": [],
   "source": []
  }
 ],
 "metadata": {
  "kernelspec": {
   "display_name": "Python 3 (ipykernel)",
   "language": "python",
   "name": "python3"
  },
  "language_info": {
   "codemirror_mode": {
    "name": "ipython",
    "version": 3
   },
   "file_extension": ".py",
   "mimetype": "text/x-python",
   "name": "python",
   "nbconvert_exporter": "python",
   "pygments_lexer": "ipython3",
   "version": "3.11.9"
  }
 },
 "nbformat": 4,
 "nbformat_minor": 5
}
